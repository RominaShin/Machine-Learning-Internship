{
 "cells": [
  {
   "cell_type": "code",
   "execution_count": 1,
   "metadata": {},
   "outputs": [],
   "source": [
    "from __future__ import print_function\n",
    "import pandas as pd\n",
    "import numpy as np\n",
    "import re\n",
    "from tqdm import tqdm,trange\n",
    "import os\n",
    "import time\n",
    "import matplotlib.pyplot as plt\n",
    "import seaborn as sns\n",
    "import pickle"
   ]
  },
  {
   "cell_type": "code",
   "execution_count": 2,
   "metadata": {
    "pycharm": {
     "name": "#%%\n"
    }
   },
   "outputs": [],
   "source": [
    "os.chdir('C:\\\\Users\\\\ASUS\\\\PycharmProjects\\\\RahnemaProject')"
   ]
  },
  {
   "cell_type": "code",
   "execution_count": 3,
   "metadata": {
    "pycharm": {
     "name": "#%%\n"
    }
   },
   "outputs": [],
   "source": [
    "df = pd.read_csv('feature_extracted_mid.csv')\n",
    "df = df.drop('Unnamed: 0',axis=1)"
   ]
  },
  {
   "cell_type": "code",
   "execution_count": null,
   "metadata": {
    "pycharm": {
     "name": "#%%\n"
    }
   },
   "outputs": [],
   "source": [
    "df.head()"
   ]
  },
  {
   "cell_type": "code",
   "execution_count": 5,
   "metadata": {
    "pycharm": {
     "name": "#%%\n"
    }
   },
   "outputs": [
    {
     "data": {
      "text/plain": [
       "0         2021-05-12 00:36:00\n",
       "1         2021-05-12 00:36:00\n",
       "2         2021-05-12 00:36:00\n",
       "3         2021-05-12 00:36:00\n",
       "4         2021-05-12 00:36:00\n",
       "                  ...        \n",
       "1260030   2021-05-12 10:38:59\n",
       "1260031   2021-05-12 10:38:59\n",
       "1260032   2021-05-12 10:38:59\n",
       "1260033   2021-05-12 10:38:59\n",
       "1260034   2021-05-12 10:39:00\n",
       "Name: date_time, Length: 1260035, dtype: datetime64[ns]"
      ]
     },
     "execution_count": 5,
     "metadata": {},
     "output_type": "execute_result"
    }
   ],
   "source": [
    "pd.to_datetime(df['date_time'],unit='ms')"
   ]
  },
  {
   "cell_type": "code",
   "execution_count": 6,
   "metadata": {
    "pycharm": {
     "name": "#%%\n"
    }
   },
   "outputs": [],
   "source": [
    "df = df.set_index(pd.to_datetime(df['date_time'],unit='ms'))\n",
    "df = df.drop('date_time',axis=1)"
   ]
  },
  {
   "cell_type": "code",
   "execution_count": null,
   "metadata": {
    "pycharm": {
     "name": "#%%\n"
    }
   },
   "outputs": [],
   "source": []
  },
  {
   "cell_type": "code",
   "execution_count": 7,
   "metadata": {
    "pycharm": {
     "name": "#%%\n"
    }
   },
   "outputs": [],
   "source": [
    "#first_session = df.between_time('00:36:00','01:00:00').groupby(['client_ip',\n",
    " #   'user_agent']).mean()[['response_time','response_length','time_interval']]\\\n",
    "  #  .sort_values('response_time',ascending=False)\n",
    "\n",
    "#for index,row in df[0:5].iterrows():\n",
    " #    i = pd.to_datetime(index).astype(int)/10**6"
   ]
  },
  {
   "cell_type": "code",
   "execution_count": 8,
   "metadata": {
    "pycharm": {
     "name": "#%%\n"
    }
   },
   "outputs": [],
   "source": [
    "time_index = df.resample('2min')\n",
    "#for name,group in time_index:\n",
    " #   print(name)"
   ]
  },
  {
   "cell_type": "code",
   "execution_count": 9,
   "metadata": {
    "pycharm": {
     "name": "#%%\n"
    }
   },
   "outputs": [],
   "source": [
    "resampled_df = pd.DataFrame(time_index,columns=['date_time','columns'])\n",
    "resampled_df = resampled_df.reset_index()\n",
    "resampled_df = resampled_df.set_index('date_time')"
   ]
  },
  {
   "cell_type": "code",
   "execution_count": 10,
   "metadata": {
    "pycharm": {
     "name": "#%%\n"
    }
   },
   "outputs": [
    {
     "data": {
      "text/html": [
       "<div>\n",
       "<style scoped>\n",
       "    .dataframe tbody tr th:only-of-type {\n",
       "        vertical-align: middle;\n",
       "    }\n",
       "\n",
       "    .dataframe tbody tr th {\n",
       "        vertical-align: top;\n",
       "    }\n",
       "\n",
       "    .dataframe thead th {\n",
       "        text-align: right;\n",
       "    }\n",
       "</style>\n",
       "<table border=\"1\" class=\"dataframe\">\n",
       "  <thead>\n",
       "    <tr style=\"text-align: right;\">\n",
       "      <th></th>\n",
       "      <th>index</th>\n",
       "    </tr>\n",
       "    <tr>\n",
       "      <th>date_time</th>\n",
       "      <th></th>\n",
       "    </tr>\n",
       "  </thead>\n",
       "  <tbody>\n",
       "    <tr>\n",
       "      <th>2021-05-12 00:36:00</th>\n",
       "      <td>0</td>\n",
       "    </tr>\n",
       "    <tr>\n",
       "      <th>2021-05-12 00:38:00</th>\n",
       "      <td>1</td>\n",
       "    </tr>\n",
       "    <tr>\n",
       "      <th>2021-05-12 00:40:00</th>\n",
       "      <td>2</td>\n",
       "    </tr>\n",
       "    <tr>\n",
       "      <th>2021-05-12 00:42:00</th>\n",
       "      <td>3</td>\n",
       "    </tr>\n",
       "    <tr>\n",
       "      <th>2021-05-12 00:44:00</th>\n",
       "      <td>4</td>\n",
       "    </tr>\n",
       "  </tbody>\n",
       "</table>\n",
       "</div>"
      ],
      "text/plain": [
       "                     index\n",
       "date_time                 \n",
       "2021-05-12 00:36:00      0\n",
       "2021-05-12 00:38:00      1\n",
       "2021-05-12 00:40:00      2\n",
       "2021-05-12 00:42:00      3\n",
       "2021-05-12 00:44:00      4"
      ]
     },
     "execution_count": 10,
     "metadata": {},
     "output_type": "execute_result"
    }
   ],
   "source": [
    "resampled_df = resampled_df.drop('columns',axis=1)\n",
    "resampled_df.head()"
   ]
  },
  {
   "cell_type": "code",
   "execution_count": 11,
   "metadata": {
    "pycharm": {
     "name": "#%%\n"
    }
   },
   "outputs": [
    {
     "data": {
      "text/plain": [
       "302"
      ]
     },
     "execution_count": 11,
     "metadata": {},
     "output_type": "execute_result"
    }
   ],
   "source": [
    "resampled_df['index'].nunique()"
   ]
  },
  {
   "cell_type": "code",
   "execution_count": 12,
   "metadata": {
    "pycharm": {
     "name": "#%%\n"
    }
   },
   "outputs": [],
   "source": [
    "resampled_df = pd.DataFrame(resampled_df.resample('s').ffill())"
   ]
  },
  {
   "cell_type": "code",
   "execution_count": 14,
   "metadata": {
    "pycharm": {
     "name": "#%%\n"
    }
   },
   "outputs": [
    {
     "name": "stdout",
     "output_type": "stream",
     "text": [
      "Wall time: 0 ns\n"
     ]
    }
   ],
   "source": [
    "%time\n",
    "#df = df.drop('session_number',axis=1)\n",
    "#new_df = pd.concat([df,resampled_df],axis=1)\n",
    "#new_df = df.reset_index()\n",
    "\n",
    "new_df = pd.merge(df.reset_index(),resampled_df.reset_index(),left_on='date_time',right_on='date_time')"
   ]
  },
  {
   "cell_type": "code",
   "execution_count": 15,
   "metadata": {
    "pycharm": {
     "name": "#%%\n"
    }
   },
   "outputs": [],
   "source": [
    "new_df.loc[new_df['geolocation'].isnull()==True,'geolocation'] = 'NaN'\n",
    "new_df.loc[new_df['last_page'].isnull()==True,'last_page'] = 'NaN'"
   ]
  },
  {
   "cell_type": "code",
   "execution_count": 16,
   "metadata": {
    "pycharm": {
     "name": "#%%\n"
    }
   },
   "outputs": [],
   "source": [
    "new_df = new_df.reset_index()\n",
    "new_df['date_time'] = pd.to_datetime(new_df['date_time'],'ms')\n",
    "new_df['time'] = new_df['date_time'].apply(lambda x:x.value)\n",
    "new_df = new_df.set_index('date_time')\n",
    "\n",
    "#new_df['date_time'] = pd.to_datetime(new_df['date_time']).astype(int)/10**6\n",
    "\n",
    "new_df = new_df.drop('level_0',axis=1)"
   ]
  },
  {
   "cell_type": "code",
   "execution_count": 16,
   "metadata": {
    "pycharm": {
     "name": "#%%\n"
    }
   },
   "outputs": [
    {
     "name": "stdout",
     "output_type": "stream",
     "text": [
      "<class 'pandas.core.frame.DataFrame'>\n",
      "DatetimeIndex: 1258053 entries, 2021-05-12 00:36:00 to 2021-05-12 10:38:00\n",
      "Data columns (total 24 columns):\n",
      " #   Column           Non-Null Count    Dtype  \n",
      "---  ------           --------------    -----  \n",
      " 0   client_ip        1258053 non-null  object \n",
      " 1   response_length  1258053 non-null  int64  \n",
      " 2   user_agent       1258053 non-null  object \n",
      " 3   response_time    1258053 non-null  float64\n",
      " 4   path             1258053 non-null  object \n",
      " 5   geolocation      1258053 non-null  object \n",
      " 6   last_refer       1258053 non-null  float64\n",
      " 7   coded_path       1258053 non-null  object \n",
      " 8   last_page        1258053 non-null  object \n",
      " 9   time_interval    1258053 non-null  float64\n",
      " 10  is_pc            1258053 non-null  int64  \n",
      " 11  Get              1258053 non-null  int64  \n",
      " 12  Post             1258053 non-null  int64  \n",
      " 13  200              1258053 non-null  int64  \n",
      " 14  304              1258053 non-null  int64  \n",
      " 15  400              1258053 non-null  int64  \n",
      " 16  404              1258053 non-null  int64  \n",
      " 17  499              1258053 non-null  int64  \n",
      " 18  depth            1258053 non-null  int64  \n",
      " 19  css_font_js      1258053 non-null  int64  \n",
      " 20  html             1258053 non-null  int64  \n",
      " 21  image            1258053 non-null  int64  \n",
      " 22  index            1258053 non-null  int64  \n",
      " 23  time             1258053 non-null  int64  \n",
      "dtypes: float64(3), int64(15), object(6)\n",
      "memory usage: 280.0+ MB\n"
     ]
    }
   ],
   "source": [
    "new_df.info()\n"
   ]
  },
  {
   "cell_type": "markdown",
   "metadata": {
    "pycharm": {
     "name": "#%% md\n"
    }
   },
   "source": [
    "Define Features\n",
    "---\n"
   ]
  },
  {
   "cell_type": "code",
   "execution_count": 17,
   "metadata": {
    "pycharm": {
     "name": "#%%\n"
    }
   },
   "outputs": [],
   "source": [
    "session_1 = new_df.groupby(['index','client_ip','user_agent']).median()[['response_length','depth']]\n",
    "session_2 = new_df.groupby(['index','client_ip','user_agent']).mean()[['response_time','time_interval']]\n",
    "\n",
    "session_2.columns = ['avg_response_time','avg_time_interval_Std']"
   ]
  },
  {
   "cell_type": "code",
   "execution_count": 18,
   "metadata": {
    "pycharm": {
     "name": "#%%\n"
    }
   },
   "outputs": [],
   "source": [
    "session_3 = new_df.groupby(['index','client_ip','user_agent']).std()[['response_time','time_interval']]\n",
    "session_3.columns = ['response_time_std','time_interval_Std']"
   ]
  },
  {
   "cell_type": "code",
   "execution_count": 19,
   "metadata": {
    "pycharm": {
     "name": "#%%\n"
    }
   },
   "outputs": [],
   "source": [
    "session_4 = new_df.groupby(['index','client_ip','user_agent']).sum()[['is_pc','Get','Post','image','400']]"
   ]
  },
  {
   "cell_type": "code",
   "execution_count": 20,
   "metadata": {
    "pycharm": {
     "name": "#%%\n"
    }
   },
   "outputs": [],
   "source": [
    "session_5 = new_df.groupby(['index','client_ip','user_agent']).apply(lambda x:x.html.sum()/x.css_font_js.sum() if x.css_font_js.sum() !=0 else 0)\n",
    "session_5 = pd.DataFrame(session_5,columns=['html/css'])"
   ]
  },
  {
   "cell_type": "code",
   "execution_count": 21,
   "metadata": {
    "pycharm": {
     "name": "#%%\n"
    }
   },
   "outputs": [],
   "source": [
    "session_6 = new_df.groupby(['index','client_ip','user_agent']).apply(\n",
    "    lambda x:(x['400'].sum()+x['404'].sum()+x['499'].sum())/x['200'].sum() if x['200'].sum()!=0 else 0)\n",
    "\n",
    "session_6 = pd.DataFrame(session_6,columns=['4xx/200'])"
   ]
  },
  {
   "cell_type": "code",
   "execution_count": 22,
   "metadata": {
    "pycharm": {
     "name": "#%%\n"
    }
   },
   "outputs": [],
   "source": [
    "session_7 = new_df.groupby(['index','client_ip','user_agent']).max()[['geolocation']]"
   ]
  },
  {
   "cell_type": "code",
   "execution_count": 23,
   "metadata": {
    "pycharm": {
     "name": "#%%\n"
    }
   },
   "outputs": [],
   "source": [
    "session_8 = new_df.groupby(['index','client_ip','user_agent']).apply(\n",
    "    lambda x:x.time.iloc[-1] - x.time.iloc[0])\n",
    "\n",
    "session_8 = pd.DataFrame(session_8,columns=['lf_time_interval'])"
   ]
  },
  {
   "cell_type": "code",
   "execution_count": 24,
   "metadata": {
    "pycharm": {
     "name": "#%%\n"
    }
   },
   "outputs": [],
   "source": [
    "session_9 = new_df.groupby(['index','client_ip','user_agent']).max()[['depth']]\n",
    "session_9.columns = ['max_depth']\n",
    "session_10 = new_df.groupby(['index','client_ip','user_agent']).std()[['depth']]\n",
    "session_10.columns = ['std_depth']"
   ]
  },
  {
   "cell_type": "code",
   "execution_count": 138,
   "metadata": {
    "pycharm": {
     "name": "#%%\n"
    }
   },
   "outputs": [],
   "source": [
    "# new_df['last_page'] = new_df.groupby(['client_ip','user_agent']).shift(1)['path']\n",
    "# new_df.loc[new_df['last_page'].isnull()==True,'last_page']='NaN'\n",
    "#\n",
    "# new_df['return_count'] = new_df.apply(\n",
    "#     lambda x:1  if\n",
    "#         (len(x['last_page'].split('/'))>=2)\n",
    "#         and\n",
    "#         (x['path'].split('/')[-2] == x['last_page'].split('/')[-2])\n",
    "#         else 0 , axis=1)\n",
    "#\n",
    "# new_df = new_df.drop('return_count',axis=1)"
   ]
  },
  {
   "cell_type": "code",
   "execution_count": null,
   "metadata": {
    "pycharm": {
     "name": "#%% traversial weight\n"
    }
   },
   "outputs": [],
   "source": [
    "session_11 = new_df.groupby(['index','client_ip','user_agent']).apply(\n",
    "    lambda x: x.coded_path.split('-')[-1]\n",
    ")"
   ]
  },
  {
   "cell_type": "code",
   "execution_count": 31,
   "metadata": {
    "pycharm": {
     "name": "#%%\n"
    }
   },
   "outputs": [],
   "source": []
  },
  {
   "cell_type": "code",
   "execution_count": null,
   "metadata": {
    "pycharm": {
     "name": "#%%\n"
    }
   },
   "outputs": [],
   "source": []
  },
  {
   "cell_type": "code",
   "execution_count": null,
   "metadata": {
    "pycharm": {
     "name": "#%%\n"
    }
   },
   "outputs": [],
   "source": []
  },
  {
   "cell_type": "code",
   "execution_count": 25,
   "metadata": {
    "pycharm": {
     "name": "#%%\n"
    }
   },
   "outputs": [],
   "source": [
    "session_12 = new_df.groupby(['index','client_ip','user_agent']).apply(lambda x:x.is_pc.count())\n",
    "#session_12 = new_df.groupby(['index','client_ip','user_agent']).count()['is_pc']\n",
    "session_12 = pd.DataFrame(session_12, columns = ['number_of_requests'])"
   ]
  },
  {
   "cell_type": "code",
   "execution_count": 26,
   "metadata": {
    "pycharm": {
     "name": "#%%\n"
    }
   },
   "outputs": [
    {
     "data": {
      "text/plain": [
       "240"
      ]
     },
     "execution_count": 26,
     "metadata": {},
     "output_type": "execute_result"
    }
   ],
   "source": [
    "session_12['number_of_requests'].nunique()"
   ]
  },
  {
   "cell_type": "code",
   "execution_count": null,
   "metadata": {},
   "outputs": [],
   "source": []
  },
  {
   "cell_type": "code",
   "execution_count": 17,
   "metadata": {},
   "outputs": [],
   "source": [
    "session_13 = new_df.groupby(['index','user_agent']).apply(lambda x:x.client_ip.nunique() )"
   ]
  },
  {
   "cell_type": "code",
   "execution_count": 18,
   "metadata": {},
   "outputs": [],
   "source": [
    "session_13 = pd.DataFrame(session_13, columns = ['times_ip_changed'])"
   ]
  },
  {
   "cell_type": "code",
   "execution_count": 30,
   "metadata": {},
   "outputs": [],
   "source": [
    "#session_13['ip_changed'] = session_13['times_ip_changed'].apply(lambda x:1 if x>2 else 0)"
   ]
  },
  {
   "cell_type": "code",
   "execution_count": null,
   "metadata": {},
   "outputs": [],
   "source": []
  },
  {
   "cell_type": "code",
   "execution_count": null,
   "metadata": {},
   "outputs": [],
   "source": []
  },
  {
   "cell_type": "code",
   "execution_count": 119,
   "metadata": {
    "pycharm": {
     "name": "#%%\n"
    },
    "scrolled": true
   },
   "outputs": [
    {
     "data": {
      "text/html": [
       "<div>\n",
       "<style scoped>\n",
       "    .dataframe tbody tr th:only-of-type {\n",
       "        vertical-align: middle;\n",
       "    }\n",
       "\n",
       "    .dataframe tbody tr th {\n",
       "        vertical-align: top;\n",
       "    }\n",
       "\n",
       "    .dataframe thead th {\n",
       "        text-align: right;\n",
       "    }\n",
       "</style>\n",
       "<table border=\"1\" class=\"dataframe\">\n",
       "  <thead>\n",
       "    <tr style=\"text-align: right;\">\n",
       "      <th></th>\n",
       "      <th>time</th>\n",
       "    </tr>\n",
       "    <tr>\n",
       "      <th>date_time</th>\n",
       "      <th></th>\n",
       "    </tr>\n",
       "  </thead>\n",
       "  <tbody>\n",
       "    <tr>\n",
       "      <th>2021-05-12 00:36:43</th>\n",
       "      <td>1620779803000000000</td>\n",
       "    </tr>\n",
       "    <tr>\n",
       "      <th>2021-05-12 00:37:17</th>\n",
       "      <td>1620779837000000000</td>\n",
       "    </tr>\n",
       "    <tr>\n",
       "      <th>2021-05-12 00:38:56</th>\n",
       "      <td>1620779936000000000</td>\n",
       "    </tr>\n",
       "  </tbody>\n",
       "</table>\n",
       "</div>"
      ],
      "text/plain": [
       "                                    time\n",
       "date_time                               \n",
       "2021-05-12 00:36:43  1620779803000000000\n",
       "2021-05-12 00:37:17  1620779837000000000\n",
       "2021-05-12 00:38:56  1620779936000000000"
      ]
     },
     "execution_count": 119,
     "metadata": {},
     "output_type": "execute_result"
    }
   ],
   "source": [
    "#new_df = new_df.reset_index()\n",
    "#new_df['time'] = new_df['date_time']\n",
    "#new_df['date_time'] = pd.to_datetime(new_df['date_time'])\n",
    "#new_df = new_df.set_index('date_time')\n",
    "new_df.between_time('00:36','00:39').loc[(new_df.between_time('00:36','00:39')['client_ip']=='109.165.215.198')&(new_df.between_time('00:36','00:39')['user_agent']=='FreshpingBot/1.0 (+https://freshping.io/)')][['time']]"
   ]
  },
  {
   "cell_type": "code",
   "execution_count": 92,
   "metadata": {
    "pycharm": {
     "name": "#%%\n"
    },
    "scrolled": true
   },
   "outputs": [
    {
     "data": {
      "text/plain": [
       "<pandas.core.groupby.generic.DataFrameGroupBy object at 0x000001D1219E4760>"
      ]
     },
     "execution_count": 92,
     "metadata": {},
     "output_type": "execute_result"
    }
   ],
   "source": [
    "new_df.groupby(['index','client_ip'])"
   ]
  },
  {
   "cell_type": "markdown",
   "metadata": {
    "pycharm": {
     "name": "#%% md\n"
    }
   },
   "source": [
    "Define Dataframe Based on Sessions\n",
    "---"
   ]
  },
  {
   "cell_type": "code",
   "execution_count": 32,
   "metadata": {
    "pycharm": {
     "name": "#%%\n"
    }
   },
   "outputs": [],
   "source": [
    "session_df = pd.concat([session_1,session_2,session_3,session_4,session_5,session_6,\n",
    "                        session_7,session_8,session_9,session_10,session_12],axis=1)\n"
   ]
  },
  {
   "cell_type": "code",
   "execution_count": 20,
   "metadata": {
    "pycharm": {
     "name": "#%%\n"
    }
   },
   "outputs": [],
   "source": [
    "session_df = pd.read_csv('session_defined_2min.csv')\n",
    "session_df = session_df.set_index(['index','user_agent','client_ip'])"
   ]
  },
  {
   "cell_type": "code",
   "execution_count": 21,
   "metadata": {},
   "outputs": [],
   "source": [
    "session_df = pd.merge(session_df.reset_index(),session_13.reset_index(),on=['index','user_agent'])\n",
    "session_df = session_df.set_index(['index','client_ip','user_agent'])"
   ]
  },
  {
   "cell_type": "code",
   "execution_count": 20,
   "metadata": {},
   "outputs": [],
   "source": [
    "#session_df = session_df.drop('ip_changed',axis=1)"
   ]
  },
  {
   "cell_type": "code",
   "execution_count": 31,
   "metadata": {
    "pycharm": {
     "name": "#%%\n"
    },
    "scrolled": true
   },
   "outputs": [
    {
     "data": {
      "text/html": [
       "<div>\n",
       "<style scoped>\n",
       "    .dataframe tbody tr th:only-of-type {\n",
       "        vertical-align: middle;\n",
       "    }\n",
       "\n",
       "    .dataframe tbody tr th {\n",
       "        vertical-align: top;\n",
       "    }\n",
       "\n",
       "    .dataframe thead th {\n",
       "        text-align: right;\n",
       "    }\n",
       "</style>\n",
       "<table border=\"1\" class=\"dataframe\">\n",
       "  <thead>\n",
       "    <tr style=\"text-align: right;\">\n",
       "      <th></th>\n",
       "      <th></th>\n",
       "      <th></th>\n",
       "      <th>med_response_length</th>\n",
       "      <th>med_depth</th>\n",
       "      <th>avg_response_time</th>\n",
       "      <th>avg_time_interval</th>\n",
       "      <th>std_response_time</th>\n",
       "      <th>std_time_interval</th>\n",
       "      <th>is_pc</th>\n",
       "      <th>Get</th>\n",
       "      <th>Post</th>\n",
       "      <th>image</th>\n",
       "      <th>400</th>\n",
       "      <th>html/css</th>\n",
       "      <th>4xx/200</th>\n",
       "      <th>location</th>\n",
       "      <th>lf_time_interval</th>\n",
       "      <th>max_depth</th>\n",
       "      <th>std_depth</th>\n",
       "      <th>number_of_requests</th>\n",
       "      <th>times_ip_changed</th>\n",
       "      <th>is_bot</th>\n",
       "    </tr>\n",
       "    <tr>\n",
       "      <th>index</th>\n",
       "      <th>client_ip</th>\n",
       "      <th>user_agent</th>\n",
       "      <th></th>\n",
       "      <th></th>\n",
       "      <th></th>\n",
       "      <th></th>\n",
       "      <th></th>\n",
       "      <th></th>\n",
       "      <th></th>\n",
       "      <th></th>\n",
       "      <th></th>\n",
       "      <th></th>\n",
       "      <th></th>\n",
       "      <th></th>\n",
       "      <th></th>\n",
       "      <th></th>\n",
       "      <th></th>\n",
       "      <th></th>\n",
       "      <th></th>\n",
       "      <th></th>\n",
       "      <th></th>\n",
       "      <th></th>\n",
       "    </tr>\n",
       "  </thead>\n",
       "  <tbody>\n",
       "    <tr>\n",
       "      <th rowspan=\"5\" valign=\"top\">0</th>\n",
       "      <th>102.86.34.193</th>\n",
       "      <th>Mozilla/5.0 (iPhone; CPU iPhone OS 14_4_2 like Mac OS X) AppleWebKit/605.1.15 (KHTML, like Gecko) Version/14.0.3 Mobile/15E148 Safari/604.1</th>\n",
       "      <td>0.0</td>\n",
       "      <td>1.0</td>\n",
       "      <td>4.571429</td>\n",
       "      <td>1.157700e+11</td>\n",
       "      <td>2.138090</td>\n",
       "      <td>4.331716e+11</td>\n",
       "      <td>0.0</td>\n",
       "      <td>14.0</td>\n",
       "      <td>0.0</td>\n",
       "      <td>6.0</td>\n",
       "      <td>0.0</td>\n",
       "      <td>0.000</td>\n",
       "      <td>0.0</td>\n",
       "      <td>NaN</td>\n",
       "      <td>0</td>\n",
       "      <td>2</td>\n",
       "      <td>0.267261</td>\n",
       "      <td>14</td>\n",
       "      <td>4</td>\n",
       "      <td>0</td>\n",
       "    </tr>\n",
       "    <tr>\n",
       "      <th>113.97.231.42</th>\n",
       "      <th>Mozilla/5.0 (iPhone; CPU iPhone OS 14_4_2 like Mac OS X) AppleWebKit/605.1.15 (KHTML, like Gecko) Version/14.0.3 Mobile/15E148 Safari/604.1</th>\n",
       "      <td>28400.0</td>\n",
       "      <td>1.0</td>\n",
       "      <td>7.200000</td>\n",
       "      <td>1.080520e+11</td>\n",
       "      <td>9.096310</td>\n",
       "      <td>4.184836e+11</td>\n",
       "      <td>0.0</td>\n",
       "      <td>15.0</td>\n",
       "      <td>0.0</td>\n",
       "      <td>6.0</td>\n",
       "      <td>0.0</td>\n",
       "      <td>0.125</td>\n",
       "      <td>0.0</td>\n",
       "      <td>China</td>\n",
       "      <td>0</td>\n",
       "      <td>2</td>\n",
       "      <td>0.351866</td>\n",
       "      <td>15</td>\n",
       "      <td>4</td>\n",
       "      <td>0</td>\n",
       "    </tr>\n",
       "    <tr>\n",
       "      <th>35.19.227.189</th>\n",
       "      <th>Mozilla/5.0 (iPhone; CPU iPhone OS 14_4_2 like Mac OS X) AppleWebKit/605.1.15 (KHTML, like Gecko) Version/14.0.3 Mobile/15E148 Safari/604.1</th>\n",
       "      <td>29645.5</td>\n",
       "      <td>1.0</td>\n",
       "      <td>8.250000</td>\n",
       "      <td>1.012987e+11</td>\n",
       "      <td>5.927338</td>\n",
       "      <td>4.051949e+11</td>\n",
       "      <td>0.0</td>\n",
       "      <td>16.0</td>\n",
       "      <td>0.0</td>\n",
       "      <td>7.0</td>\n",
       "      <td>0.0</td>\n",
       "      <td>0.125</td>\n",
       "      <td>0.0</td>\n",
       "      <td>United States</td>\n",
       "      <td>5000000000</td>\n",
       "      <td>2</td>\n",
       "      <td>0.341565</td>\n",
       "      <td>16</td>\n",
       "      <td>4</td>\n",
       "      <td>0</td>\n",
       "    </tr>\n",
       "    <tr>\n",
       "      <th>67.45.195.216</th>\n",
       "      <th>Mozilla/5.0 (iPhone; CPU iPhone OS 14_4_2 like Mac OS X) AppleWebKit/605.1.15 (KHTML, like Gecko) Version/14.0.3 Mobile/15E148 Safari/604.1</th>\n",
       "      <td>0.0</td>\n",
       "      <td>1.0</td>\n",
       "      <td>12.000000</td>\n",
       "      <td>1.080520e+11</td>\n",
       "      <td>31.386985</td>\n",
       "      <td>4.184836e+11</td>\n",
       "      <td>0.0</td>\n",
       "      <td>15.0</td>\n",
       "      <td>0.0</td>\n",
       "      <td>6.0</td>\n",
       "      <td>0.0</td>\n",
       "      <td>0.125</td>\n",
       "      <td>0.0</td>\n",
       "      <td>United States</td>\n",
       "      <td>5000000000</td>\n",
       "      <td>2</td>\n",
       "      <td>0.351866</td>\n",
       "      <td>15</td>\n",
       "      <td>4</td>\n",
       "      <td>0</td>\n",
       "    </tr>\n",
       "    <tr>\n",
       "      <th>153.126.15.177</th>\n",
       "      <th>Mozilla/5.0 (Windows NT 10.0; Win64; x64) AppleWebKit/537.36 (KHTML, like Gecko) Chrome/91.0.4472.77 Safari/537.36</th>\n",
       "      <td>183.0</td>\n",
       "      <td>3.5</td>\n",
       "      <td>86923.500000</td>\n",
       "      <td>8.103899e+11</td>\n",
       "      <td>122917.078880</td>\n",
       "      <td>1.146064e+12</td>\n",
       "      <td>2.0</td>\n",
       "      <td>1.0</td>\n",
       "      <td>0.0</td>\n",
       "      <td>0.0</td>\n",
       "      <td>0.0</td>\n",
       "      <td>0.000</td>\n",
       "      <td>0.0</td>\n",
       "      <td>Japan</td>\n",
       "      <td>7000000000</td>\n",
       "      <td>4</td>\n",
       "      <td>0.707107</td>\n",
       "      <td>2</td>\n",
       "      <td>4</td>\n",
       "      <td>0</td>\n",
       "    </tr>\n",
       "  </tbody>\n",
       "</table>\n",
       "</div>"
      ],
      "text/plain": [
       "                                                                         med_response_length  \\\n",
       "index client_ip      user_agent                                                                \n",
       "0     102.86.34.193  Mozilla/5.0 (iPhone; CPU iPhone OS 14_4_2 like ...                  0.0   \n",
       "      113.97.231.42  Mozilla/5.0 (iPhone; CPU iPhone OS 14_4_2 like ...              28400.0   \n",
       "      35.19.227.189  Mozilla/5.0 (iPhone; CPU iPhone OS 14_4_2 like ...              29645.5   \n",
       "      67.45.195.216  Mozilla/5.0 (iPhone; CPU iPhone OS 14_4_2 like ...                  0.0   \n",
       "      153.126.15.177 Mozilla/5.0 (Windows NT 10.0; Win64; x64) Apple...                183.0   \n",
       "\n",
       "                                                                         med_depth  \\\n",
       "index client_ip      user_agent                                                      \n",
       "0     102.86.34.193  Mozilla/5.0 (iPhone; CPU iPhone OS 14_4_2 like ...        1.0   \n",
       "      113.97.231.42  Mozilla/5.0 (iPhone; CPU iPhone OS 14_4_2 like ...        1.0   \n",
       "      35.19.227.189  Mozilla/5.0 (iPhone; CPU iPhone OS 14_4_2 like ...        1.0   \n",
       "      67.45.195.216  Mozilla/5.0 (iPhone; CPU iPhone OS 14_4_2 like ...        1.0   \n",
       "      153.126.15.177 Mozilla/5.0 (Windows NT 10.0; Win64; x64) Apple...        3.5   \n",
       "\n",
       "                                                                         avg_response_time  \\\n",
       "index client_ip      user_agent                                                              \n",
       "0     102.86.34.193  Mozilla/5.0 (iPhone; CPU iPhone OS 14_4_2 like ...           4.571429   \n",
       "      113.97.231.42  Mozilla/5.0 (iPhone; CPU iPhone OS 14_4_2 like ...           7.200000   \n",
       "      35.19.227.189  Mozilla/5.0 (iPhone; CPU iPhone OS 14_4_2 like ...           8.250000   \n",
       "      67.45.195.216  Mozilla/5.0 (iPhone; CPU iPhone OS 14_4_2 like ...          12.000000   \n",
       "      153.126.15.177 Mozilla/5.0 (Windows NT 10.0; Win64; x64) Apple...       86923.500000   \n",
       "\n",
       "                                                                         avg_time_interval  \\\n",
       "index client_ip      user_agent                                                              \n",
       "0     102.86.34.193  Mozilla/5.0 (iPhone; CPU iPhone OS 14_4_2 like ...       1.157700e+11   \n",
       "      113.97.231.42  Mozilla/5.0 (iPhone; CPU iPhone OS 14_4_2 like ...       1.080520e+11   \n",
       "      35.19.227.189  Mozilla/5.0 (iPhone; CPU iPhone OS 14_4_2 like ...       1.012987e+11   \n",
       "      67.45.195.216  Mozilla/5.0 (iPhone; CPU iPhone OS 14_4_2 like ...       1.080520e+11   \n",
       "      153.126.15.177 Mozilla/5.0 (Windows NT 10.0; Win64; x64) Apple...       8.103899e+11   \n",
       "\n",
       "                                                                         std_response_time  \\\n",
       "index client_ip      user_agent                                                              \n",
       "0     102.86.34.193  Mozilla/5.0 (iPhone; CPU iPhone OS 14_4_2 like ...           2.138090   \n",
       "      113.97.231.42  Mozilla/5.0 (iPhone; CPU iPhone OS 14_4_2 like ...           9.096310   \n",
       "      35.19.227.189  Mozilla/5.0 (iPhone; CPU iPhone OS 14_4_2 like ...           5.927338   \n",
       "      67.45.195.216  Mozilla/5.0 (iPhone; CPU iPhone OS 14_4_2 like ...          31.386985   \n",
       "      153.126.15.177 Mozilla/5.0 (Windows NT 10.0; Win64; x64) Apple...      122917.078880   \n",
       "\n",
       "                                                                         std_time_interval  \\\n",
       "index client_ip      user_agent                                                              \n",
       "0     102.86.34.193  Mozilla/5.0 (iPhone; CPU iPhone OS 14_4_2 like ...       4.331716e+11   \n",
       "      113.97.231.42  Mozilla/5.0 (iPhone; CPU iPhone OS 14_4_2 like ...       4.184836e+11   \n",
       "      35.19.227.189  Mozilla/5.0 (iPhone; CPU iPhone OS 14_4_2 like ...       4.051949e+11   \n",
       "      67.45.195.216  Mozilla/5.0 (iPhone; CPU iPhone OS 14_4_2 like ...       4.184836e+11   \n",
       "      153.126.15.177 Mozilla/5.0 (Windows NT 10.0; Win64; x64) Apple...       1.146064e+12   \n",
       "\n",
       "                                                                         is_pc  \\\n",
       "index client_ip      user_agent                                                  \n",
       "0     102.86.34.193  Mozilla/5.0 (iPhone; CPU iPhone OS 14_4_2 like ...    0.0   \n",
       "      113.97.231.42  Mozilla/5.0 (iPhone; CPU iPhone OS 14_4_2 like ...    0.0   \n",
       "      35.19.227.189  Mozilla/5.0 (iPhone; CPU iPhone OS 14_4_2 like ...    0.0   \n",
       "      67.45.195.216  Mozilla/5.0 (iPhone; CPU iPhone OS 14_4_2 like ...    0.0   \n",
       "      153.126.15.177 Mozilla/5.0 (Windows NT 10.0; Win64; x64) Apple...    2.0   \n",
       "\n",
       "                                                                          Get  \\\n",
       "index client_ip      user_agent                                                 \n",
       "0     102.86.34.193  Mozilla/5.0 (iPhone; CPU iPhone OS 14_4_2 like ...  14.0   \n",
       "      113.97.231.42  Mozilla/5.0 (iPhone; CPU iPhone OS 14_4_2 like ...  15.0   \n",
       "      35.19.227.189  Mozilla/5.0 (iPhone; CPU iPhone OS 14_4_2 like ...  16.0   \n",
       "      67.45.195.216  Mozilla/5.0 (iPhone; CPU iPhone OS 14_4_2 like ...  15.0   \n",
       "      153.126.15.177 Mozilla/5.0 (Windows NT 10.0; Win64; x64) Apple...   1.0   \n",
       "\n",
       "                                                                         Post  \\\n",
       "index client_ip      user_agent                                                 \n",
       "0     102.86.34.193  Mozilla/5.0 (iPhone; CPU iPhone OS 14_4_2 like ...   0.0   \n",
       "      113.97.231.42  Mozilla/5.0 (iPhone; CPU iPhone OS 14_4_2 like ...   0.0   \n",
       "      35.19.227.189  Mozilla/5.0 (iPhone; CPU iPhone OS 14_4_2 like ...   0.0   \n",
       "      67.45.195.216  Mozilla/5.0 (iPhone; CPU iPhone OS 14_4_2 like ...   0.0   \n",
       "      153.126.15.177 Mozilla/5.0 (Windows NT 10.0; Win64; x64) Apple...   0.0   \n",
       "\n",
       "                                                                         image  \\\n",
       "index client_ip      user_agent                                                  \n",
       "0     102.86.34.193  Mozilla/5.0 (iPhone; CPU iPhone OS 14_4_2 like ...    6.0   \n",
       "      113.97.231.42  Mozilla/5.0 (iPhone; CPU iPhone OS 14_4_2 like ...    6.0   \n",
       "      35.19.227.189  Mozilla/5.0 (iPhone; CPU iPhone OS 14_4_2 like ...    7.0   \n",
       "      67.45.195.216  Mozilla/5.0 (iPhone; CPU iPhone OS 14_4_2 like ...    6.0   \n",
       "      153.126.15.177 Mozilla/5.0 (Windows NT 10.0; Win64; x64) Apple...    0.0   \n",
       "\n",
       "                                                                         400  \\\n",
       "index client_ip      user_agent                                                \n",
       "0     102.86.34.193  Mozilla/5.0 (iPhone; CPU iPhone OS 14_4_2 like ...  0.0   \n",
       "      113.97.231.42  Mozilla/5.0 (iPhone; CPU iPhone OS 14_4_2 like ...  0.0   \n",
       "      35.19.227.189  Mozilla/5.0 (iPhone; CPU iPhone OS 14_4_2 like ...  0.0   \n",
       "      67.45.195.216  Mozilla/5.0 (iPhone; CPU iPhone OS 14_4_2 like ...  0.0   \n",
       "      153.126.15.177 Mozilla/5.0 (Windows NT 10.0; Win64; x64) Apple...  0.0   \n",
       "\n",
       "                                                                         html/css  \\\n",
       "index client_ip      user_agent                                                     \n",
       "0     102.86.34.193  Mozilla/5.0 (iPhone; CPU iPhone OS 14_4_2 like ...     0.000   \n",
       "      113.97.231.42  Mozilla/5.0 (iPhone; CPU iPhone OS 14_4_2 like ...     0.125   \n",
       "      35.19.227.189  Mozilla/5.0 (iPhone; CPU iPhone OS 14_4_2 like ...     0.125   \n",
       "      67.45.195.216  Mozilla/5.0 (iPhone; CPU iPhone OS 14_4_2 like ...     0.125   \n",
       "      153.126.15.177 Mozilla/5.0 (Windows NT 10.0; Win64; x64) Apple...     0.000   \n",
       "\n",
       "                                                                         4xx/200  \\\n",
       "index client_ip      user_agent                                                    \n",
       "0     102.86.34.193  Mozilla/5.0 (iPhone; CPU iPhone OS 14_4_2 like ...      0.0   \n",
       "      113.97.231.42  Mozilla/5.0 (iPhone; CPU iPhone OS 14_4_2 like ...      0.0   \n",
       "      35.19.227.189  Mozilla/5.0 (iPhone; CPU iPhone OS 14_4_2 like ...      0.0   \n",
       "      67.45.195.216  Mozilla/5.0 (iPhone; CPU iPhone OS 14_4_2 like ...      0.0   \n",
       "      153.126.15.177 Mozilla/5.0 (Windows NT 10.0; Win64; x64) Apple...      0.0   \n",
       "\n",
       "                                                                              location  \\\n",
       "index client_ip      user_agent                                                          \n",
       "0     102.86.34.193  Mozilla/5.0 (iPhone; CPU iPhone OS 14_4_2 like ...            NaN   \n",
       "      113.97.231.42  Mozilla/5.0 (iPhone; CPU iPhone OS 14_4_2 like ...          China   \n",
       "      35.19.227.189  Mozilla/5.0 (iPhone; CPU iPhone OS 14_4_2 like ...  United States   \n",
       "      67.45.195.216  Mozilla/5.0 (iPhone; CPU iPhone OS 14_4_2 like ...  United States   \n",
       "      153.126.15.177 Mozilla/5.0 (Windows NT 10.0; Win64; x64) Apple...          Japan   \n",
       "\n",
       "                                                                         lf_time_interval  \\\n",
       "index client_ip      user_agent                                                             \n",
       "0     102.86.34.193  Mozilla/5.0 (iPhone; CPU iPhone OS 14_4_2 like ...                 0   \n",
       "      113.97.231.42  Mozilla/5.0 (iPhone; CPU iPhone OS 14_4_2 like ...                 0   \n",
       "      35.19.227.189  Mozilla/5.0 (iPhone; CPU iPhone OS 14_4_2 like ...        5000000000   \n",
       "      67.45.195.216  Mozilla/5.0 (iPhone; CPU iPhone OS 14_4_2 like ...        5000000000   \n",
       "      153.126.15.177 Mozilla/5.0 (Windows NT 10.0; Win64; x64) Apple...        7000000000   \n",
       "\n",
       "                                                                         max_depth  \\\n",
       "index client_ip      user_agent                                                      \n",
       "0     102.86.34.193  Mozilla/5.0 (iPhone; CPU iPhone OS 14_4_2 like ...          2   \n",
       "      113.97.231.42  Mozilla/5.0 (iPhone; CPU iPhone OS 14_4_2 like ...          2   \n",
       "      35.19.227.189  Mozilla/5.0 (iPhone; CPU iPhone OS 14_4_2 like ...          2   \n",
       "      67.45.195.216  Mozilla/5.0 (iPhone; CPU iPhone OS 14_4_2 like ...          2   \n",
       "      153.126.15.177 Mozilla/5.0 (Windows NT 10.0; Win64; x64) Apple...          4   \n",
       "\n",
       "                                                                         std_depth  \\\n",
       "index client_ip      user_agent                                                      \n",
       "0     102.86.34.193  Mozilla/5.0 (iPhone; CPU iPhone OS 14_4_2 like ...   0.267261   \n",
       "      113.97.231.42  Mozilla/5.0 (iPhone; CPU iPhone OS 14_4_2 like ...   0.351866   \n",
       "      35.19.227.189  Mozilla/5.0 (iPhone; CPU iPhone OS 14_4_2 like ...   0.341565   \n",
       "      67.45.195.216  Mozilla/5.0 (iPhone; CPU iPhone OS 14_4_2 like ...   0.351866   \n",
       "      153.126.15.177 Mozilla/5.0 (Windows NT 10.0; Win64; x64) Apple...   0.707107   \n",
       "\n",
       "                                                                         number_of_requests  \\\n",
       "index client_ip      user_agent                                                               \n",
       "0     102.86.34.193  Mozilla/5.0 (iPhone; CPU iPhone OS 14_4_2 like ...                  14   \n",
       "      113.97.231.42  Mozilla/5.0 (iPhone; CPU iPhone OS 14_4_2 like ...                  15   \n",
       "      35.19.227.189  Mozilla/5.0 (iPhone; CPU iPhone OS 14_4_2 like ...                  16   \n",
       "      67.45.195.216  Mozilla/5.0 (iPhone; CPU iPhone OS 14_4_2 like ...                  15   \n",
       "      153.126.15.177 Mozilla/5.0 (Windows NT 10.0; Win64; x64) Apple...                   2   \n",
       "\n",
       "                                                                         times_ip_changed  \\\n",
       "index client_ip      user_agent                                                             \n",
       "0     102.86.34.193  Mozilla/5.0 (iPhone; CPU iPhone OS 14_4_2 like ...                 4   \n",
       "      113.97.231.42  Mozilla/5.0 (iPhone; CPU iPhone OS 14_4_2 like ...                 4   \n",
       "      35.19.227.189  Mozilla/5.0 (iPhone; CPU iPhone OS 14_4_2 like ...                 4   \n",
       "      67.45.195.216  Mozilla/5.0 (iPhone; CPU iPhone OS 14_4_2 like ...                 4   \n",
       "      153.126.15.177 Mozilla/5.0 (Windows NT 10.0; Win64; x64) Apple...                 4   \n",
       "\n",
       "                                                                         is_bot  \n",
       "index client_ip      user_agent                                                  \n",
       "0     102.86.34.193  Mozilla/5.0 (iPhone; CPU iPhone OS 14_4_2 like ...       0  \n",
       "      113.97.231.42  Mozilla/5.0 (iPhone; CPU iPhone OS 14_4_2 like ...       0  \n",
       "      35.19.227.189  Mozilla/5.0 (iPhone; CPU iPhone OS 14_4_2 like ...       0  \n",
       "      67.45.195.216  Mozilla/5.0 (iPhone; CPU iPhone OS 14_4_2 like ...       0  \n",
       "      153.126.15.177 Mozilla/5.0 (Windows NT 10.0; Win64; x64) Apple...       0  "
      ]
     },
     "execution_count": 31,
     "metadata": {},
     "output_type": "execute_result"
    }
   ],
   "source": [
    "session_df[session_df['times_ip_changed']==4].head()"
   ]
  },
  {
   "cell_type": "code",
   "execution_count": 27,
   "metadata": {},
   "outputs": [],
   "source": [
    "session_df = session_df.drop('times_ip_changed_y',axis=1)"
   ]
  },
  {
   "cell_type": "code",
   "execution_count": 35,
   "metadata": {
    "pycharm": {
     "name": "#%%\n"
    }
   },
   "outputs": [],
   "source": [
    "session_df.to_csv('session_defined_2min.csv')"
   ]
  },
  {
   "cell_type": "code",
   "execution_count": 26,
   "metadata": {
    "pycharm": {
     "name": "#%%\n"
    }
   },
   "outputs": [],
   "source": [
    "x = pd.read_csv('session_defined.csv')\n",
    "x = x.set_index(['index','client_ip','user_agent'])\n",
    "#x = pd.concat([x,session_7],axis=1)"
   ]
  },
  {
   "cell_type": "code",
   "execution_count": 27,
   "metadata": {
    "pycharm": {
     "name": "#%%\n"
    }
   },
   "outputs": [],
   "source": [
    "x.to_csv('session_defined.csv')"
   ]
  },
  {
   "cell_type": "code",
   "execution_count": null,
   "metadata": {},
   "outputs": [],
   "source": []
  },
  {
   "cell_type": "code",
   "execution_count": null,
   "metadata": {},
   "outputs": [],
   "source": [
    "session_df.iloc[10:20]"
   ]
  },
  {
   "cell_type": "code",
   "execution_count": 72,
   "metadata": {},
   "outputs": [],
   "source": [
    "session_df['Get/number_of_requests'] = session_df.apply(lambda x:x['Get']/x['number_of_requests'],axis=1)"
   ]
  },
  {
   "cell_type": "code",
   "execution_count": null,
   "metadata": {},
   "outputs": [],
   "source": []
  },
  {
   "cell_type": "code",
   "execution_count": null,
   "metadata": {},
   "outputs": [],
   "source": []
  },
  {
   "cell_type": "code",
   "execution_count": null,
   "metadata": {},
   "outputs": [],
   "source": []
  },
  {
   "cell_type": "code",
   "execution_count": 77,
   "metadata": {},
   "outputs": [],
   "source": [
    "columns = ['med_depth','avg_time_interval','html/css', '4xx/200','Get/number_of_requests','image','times_ip_changed']"
   ]
  },
  {
   "cell_type": "code",
   "execution_count": 29,
   "metadata": {},
   "outputs": [],
   "source": [
    "null_columns = ['std_response_time','std_time_interval','std_depth','location','is_bot']"
   ]
  },
  {
   "cell_type": "code",
   "execution_count": null,
   "metadata": {},
   "outputs": [],
   "source": [
    "session_df.columns = ['med_response_length', 'med_depth', 'avg_response_time',\n",
    "       'avg_time_interval', 'std_response_time', 'std_time_interval',\n",
    "       'is_pc', 'Get', 'Post', 'image', '400', 'html/css', '4xx/200','location',\n",
    "       'lf_time_interval', 'max_depth', 'std_depth','number_of_requests','times_ip_changed','is_bot']"
   ]
  },
  {
   "cell_type": "code",
   "execution_count": 23,
   "metadata": {},
   "outputs": [],
   "source": [
    "from user_agents import parse\n",
    "\n",
    "session_df = session_df.reset_index()\n",
    "session_df = session_df.set_index(['index','client_ip'])\n",
    "session_df['is_bot'] = session_df['user_agent'].apply(lambda x:parse(x).is_bot)\n",
    "session_df['is_bot'] = session_df['is_bot'].apply(lambda x:1 if x==True else 0)\n"
   ]
  },
  {
   "cell_type": "code",
   "execution_count": 24,
   "metadata": {},
   "outputs": [],
   "source": [
    "session_df = session_df.reset_index()\n",
    "session_df = session_df.set_index(['index','client_ip','user_agent'])\n"
   ]
  },
  {
   "cell_type": "code",
   "execution_count": null,
   "metadata": {},
   "outputs": [],
   "source": []
  },
  {
   "cell_type": "code",
   "execution_count": 52,
   "metadata": {},
   "outputs": [
    {
     "data": {
      "text/html": [
       "<div>\n",
       "<style scoped>\n",
       "    .dataframe tbody tr th:only-of-type {\n",
       "        vertical-align: middle;\n",
       "    }\n",
       "\n",
       "    .dataframe tbody tr th {\n",
       "        vertical-align: top;\n",
       "    }\n",
       "\n",
       "    .dataframe thead th {\n",
       "        text-align: right;\n",
       "    }\n",
       "</style>\n",
       "<table border=\"1\" class=\"dataframe\">\n",
       "  <thead>\n",
       "    <tr style=\"text-align: right;\">\n",
       "      <th></th>\n",
       "      <th>count</th>\n",
       "      <th>mean</th>\n",
       "      <th>std</th>\n",
       "      <th>min</th>\n",
       "      <th>25%</th>\n",
       "      <th>50%</th>\n",
       "      <th>75%</th>\n",
       "      <th>max</th>\n",
       "    </tr>\n",
       "  </thead>\n",
       "  <tbody>\n",
       "    <tr>\n",
       "      <th>med_response_length</th>\n",
       "      <td>130836.0</td>\n",
       "      <td>2.916701e+04</td>\n",
       "      <td>4.232397e+05</td>\n",
       "      <td>0.000000</td>\n",
       "      <td>236.500000</td>\n",
       "      <td>5.224000e+03</td>\n",
       "      <td>2.988700e+04</td>\n",
       "      <td>3.104202e+07</td>\n",
       "    </tr>\n",
       "    <tr>\n",
       "      <th>med_depth</th>\n",
       "      <td>130836.0</td>\n",
       "      <td>2.602158e+00</td>\n",
       "      <td>1.118233e+00</td>\n",
       "      <td>1.000000</td>\n",
       "      <td>1.000000</td>\n",
       "      <td>3.000000e+00</td>\n",
       "      <td>3.500000e+00</td>\n",
       "      <td>6.000000e+00</td>\n",
       "    </tr>\n",
       "    <tr>\n",
       "      <th>avg_response_time</th>\n",
       "      <td>130836.0</td>\n",
       "      <td>3.653502e+04</td>\n",
       "      <td>5.512795e+05</td>\n",
       "      <td>0.000000</td>\n",
       "      <td>11.000000</td>\n",
       "      <td>2.640000e+01</td>\n",
       "      <td>1.914525e+04</td>\n",
       "      <td>1.750470e+08</td>\n",
       "    </tr>\n",
       "    <tr>\n",
       "      <th>avg_time_interval</th>\n",
       "      <td>130836.0</td>\n",
       "      <td>2.608750e+11</td>\n",
       "      <td>5.211786e+11</td>\n",
       "      <td>38.461538</td>\n",
       "      <td>60000.000000</td>\n",
       "      <td>6.600000e+05</td>\n",
       "      <td>1.246756e+11</td>\n",
       "      <td>1.620816e+12</td>\n",
       "    </tr>\n",
       "    <tr>\n",
       "      <th>std_response_time</th>\n",
       "      <td>87813.0</td>\n",
       "      <td>2.099320e+04</td>\n",
       "      <td>8.013941e+04</td>\n",
       "      <td>0.000000</td>\n",
       "      <td>4.618802</td>\n",
       "      <td>1.037625e+01</td>\n",
       "      <td>2.259913e+03</td>\n",
       "      <td>8.648404e+06</td>\n",
       "    </tr>\n",
       "    <tr>\n",
       "      <th>std_time_interval</th>\n",
       "      <td>87813.0</td>\n",
       "      <td>2.487050e+11</td>\n",
       "      <td>3.595787e+11</td>\n",
       "      <td>0.000000</td>\n",
       "      <td>51961.524227</td>\n",
       "      <td>5.338656e+05</td>\n",
       "      <td>4.184906e+11</td>\n",
       "      <td>1.146090e+12</td>\n",
       "    </tr>\n",
       "    <tr>\n",
       "      <th>is_pc</th>\n",
       "      <td>130836.0</td>\n",
       "      <td>1.988635e+00</td>\n",
       "      <td>1.160247e+01</td>\n",
       "      <td>0.000000</td>\n",
       "      <td>0.000000</td>\n",
       "      <td>0.000000e+00</td>\n",
       "      <td>1.000000e+00</td>\n",
       "      <td>2.737000e+03</td>\n",
       "    </tr>\n",
       "    <tr>\n",
       "      <th>Get</th>\n",
       "      <td>130836.0</td>\n",
       "      <td>8.713382e+00</td>\n",
       "      <td>1.915906e+01</td>\n",
       "      <td>0.000000</td>\n",
       "      <td>1.000000</td>\n",
       "      <td>1.000000e+00</td>\n",
       "      <td>1.200000e+01</td>\n",
       "      <td>2.645000e+03</td>\n",
       "    </tr>\n",
       "    <tr>\n",
       "      <th>Post</th>\n",
       "      <td>130836.0</td>\n",
       "      <td>2.476688e-01</td>\n",
       "      <td>8.499742e-01</td>\n",
       "      <td>0.000000</td>\n",
       "      <td>0.000000</td>\n",
       "      <td>0.000000e+00</td>\n",
       "      <td>0.000000e+00</td>\n",
       "      <td>4.200000e+01</td>\n",
       "    </tr>\n",
       "    <tr>\n",
       "      <th>image</th>\n",
       "      <td>130836.0</td>\n",
       "      <td>2.276720e+00</td>\n",
       "      <td>7.858488e+00</td>\n",
       "      <td>0.000000</td>\n",
       "      <td>0.000000</td>\n",
       "      <td>0.000000e+00</td>\n",
       "      <td>2.000000e+00</td>\n",
       "      <td>1.858000e+03</td>\n",
       "    </tr>\n",
       "    <tr>\n",
       "      <th>400</th>\n",
       "      <td>130836.0</td>\n",
       "      <td>4.983338e-03</td>\n",
       "      <td>1.071007e-01</td>\n",
       "      <td>0.000000</td>\n",
       "      <td>0.000000</td>\n",
       "      <td>0.000000e+00</td>\n",
       "      <td>0.000000e+00</td>\n",
       "      <td>1.400000e+01</td>\n",
       "    </tr>\n",
       "    <tr>\n",
       "      <th>html/css</th>\n",
       "      <td>130836.0</td>\n",
       "      <td>3.891185e-01</td>\n",
       "      <td>2.108367e+00</td>\n",
       "      <td>0.000000</td>\n",
       "      <td>0.000000</td>\n",
       "      <td>0.000000e+00</td>\n",
       "      <td>0.000000e+00</td>\n",
       "      <td>6.400000e+01</td>\n",
       "    </tr>\n",
       "    <tr>\n",
       "      <th>4xx/200</th>\n",
       "      <td>130836.0</td>\n",
       "      <td>9.462739e-03</td>\n",
       "      <td>1.570275e-01</td>\n",
       "      <td>0.000000</td>\n",
       "      <td>0.000000</td>\n",
       "      <td>0.000000e+00</td>\n",
       "      <td>0.000000e+00</td>\n",
       "      <td>8.000000e+00</td>\n",
       "    </tr>\n",
       "    <tr>\n",
       "      <th>lf_time_interval</th>\n",
       "      <td>130836.0</td>\n",
       "      <td>1.666939e+10</td>\n",
       "      <td>3.113450e+10</td>\n",
       "      <td>0.000000</td>\n",
       "      <td>0.000000</td>\n",
       "      <td>1.000000e+09</td>\n",
       "      <td>1.100000e+10</td>\n",
       "      <td>1.190000e+11</td>\n",
       "    </tr>\n",
       "    <tr>\n",
       "      <th>max_depth</th>\n",
       "      <td>130836.0</td>\n",
       "      <td>3.107195e+00</td>\n",
       "      <td>1.010412e+00</td>\n",
       "      <td>1.000000</td>\n",
       "      <td>2.000000</td>\n",
       "      <td>3.000000e+00</td>\n",
       "      <td>4.000000e+00</td>\n",
       "      <td>6.000000e+00</td>\n",
       "    </tr>\n",
       "    <tr>\n",
       "      <th>std_depth</th>\n",
       "      <td>87813.0</td>\n",
       "      <td>4.608163e-01</td>\n",
       "      <td>3.846229e-01</td>\n",
       "      <td>0.000000</td>\n",
       "      <td>0.000000</td>\n",
       "      <td>4.045199e-01</td>\n",
       "      <td>7.071068e-01</td>\n",
       "      <td>2.581989e+00</td>\n",
       "    </tr>\n",
       "    <tr>\n",
       "      <th>number_of_requests</th>\n",
       "      <td>130836.0</td>\n",
       "      <td>9.615496e+00</td>\n",
       "      <td>1.974496e+01</td>\n",
       "      <td>1.000000</td>\n",
       "      <td>1.000000</td>\n",
       "      <td>2.000000e+00</td>\n",
       "      <td>1.300000e+01</td>\n",
       "      <td>2.737000e+03</td>\n",
       "    </tr>\n",
       "    <tr>\n",
       "      <th>times_ip_changed</th>\n",
       "      <td>130836.0</td>\n",
       "      <td>2.783353e+01</td>\n",
       "      <td>3.941445e+01</td>\n",
       "      <td>1.000000</td>\n",
       "      <td>1.000000</td>\n",
       "      <td>6.000000e+00</td>\n",
       "      <td>5.300000e+01</td>\n",
       "      <td>1.510000e+02</td>\n",
       "    </tr>\n",
       "    <tr>\n",
       "      <th>is_bot</th>\n",
       "      <td>130836.0</td>\n",
       "      <td>1.400608e-01</td>\n",
       "      <td>3.470515e-01</td>\n",
       "      <td>0.000000</td>\n",
       "      <td>0.000000</td>\n",
       "      <td>0.000000e+00</td>\n",
       "      <td>0.000000e+00</td>\n",
       "      <td>1.000000e+00</td>\n",
       "    </tr>\n",
       "  </tbody>\n",
       "</table>\n",
       "</div>"
      ],
      "text/plain": [
       "                        count          mean           std        min  \\\n",
       "med_response_length  130836.0  2.916701e+04  4.232397e+05   0.000000   \n",
       "med_depth            130836.0  2.602158e+00  1.118233e+00   1.000000   \n",
       "avg_response_time    130836.0  3.653502e+04  5.512795e+05   0.000000   \n",
       "avg_time_interval    130836.0  2.608750e+11  5.211786e+11  38.461538   \n",
       "std_response_time     87813.0  2.099320e+04  8.013941e+04   0.000000   \n",
       "std_time_interval     87813.0  2.487050e+11  3.595787e+11   0.000000   \n",
       "is_pc                130836.0  1.988635e+00  1.160247e+01   0.000000   \n",
       "Get                  130836.0  8.713382e+00  1.915906e+01   0.000000   \n",
       "Post                 130836.0  2.476688e-01  8.499742e-01   0.000000   \n",
       "image                130836.0  2.276720e+00  7.858488e+00   0.000000   \n",
       "400                  130836.0  4.983338e-03  1.071007e-01   0.000000   \n",
       "html/css             130836.0  3.891185e-01  2.108367e+00   0.000000   \n",
       "4xx/200              130836.0  9.462739e-03  1.570275e-01   0.000000   \n",
       "lf_time_interval     130836.0  1.666939e+10  3.113450e+10   0.000000   \n",
       "max_depth            130836.0  3.107195e+00  1.010412e+00   1.000000   \n",
       "std_depth             87813.0  4.608163e-01  3.846229e-01   0.000000   \n",
       "number_of_requests   130836.0  9.615496e+00  1.974496e+01   1.000000   \n",
       "times_ip_changed     130836.0  2.783353e+01  3.941445e+01   1.000000   \n",
       "is_bot               130836.0  1.400608e-01  3.470515e-01   0.000000   \n",
       "\n",
       "                              25%           50%           75%           max  \n",
       "med_response_length    236.500000  5.224000e+03  2.988700e+04  3.104202e+07  \n",
       "med_depth                1.000000  3.000000e+00  3.500000e+00  6.000000e+00  \n",
       "avg_response_time       11.000000  2.640000e+01  1.914525e+04  1.750470e+08  \n",
       "avg_time_interval    60000.000000  6.600000e+05  1.246756e+11  1.620816e+12  \n",
       "std_response_time        4.618802  1.037625e+01  2.259913e+03  8.648404e+06  \n",
       "std_time_interval    51961.524227  5.338656e+05  4.184906e+11  1.146090e+12  \n",
       "is_pc                    0.000000  0.000000e+00  1.000000e+00  2.737000e+03  \n",
       "Get                      1.000000  1.000000e+00  1.200000e+01  2.645000e+03  \n",
       "Post                     0.000000  0.000000e+00  0.000000e+00  4.200000e+01  \n",
       "image                    0.000000  0.000000e+00  2.000000e+00  1.858000e+03  \n",
       "400                      0.000000  0.000000e+00  0.000000e+00  1.400000e+01  \n",
       "html/css                 0.000000  0.000000e+00  0.000000e+00  6.400000e+01  \n",
       "4xx/200                  0.000000  0.000000e+00  0.000000e+00  8.000000e+00  \n",
       "lf_time_interval         0.000000  1.000000e+09  1.100000e+10  1.190000e+11  \n",
       "max_depth                2.000000  3.000000e+00  4.000000e+00  6.000000e+00  \n",
       "std_depth                0.000000  4.045199e-01  7.071068e-01  2.581989e+00  \n",
       "number_of_requests       1.000000  2.000000e+00  1.300000e+01  2.737000e+03  \n",
       "times_ip_changed         1.000000  6.000000e+00  5.300000e+01  1.510000e+02  \n",
       "is_bot                   0.000000  0.000000e+00  0.000000e+00  1.000000e+00  "
      ]
     },
     "execution_count": 52,
     "metadata": {},
     "output_type": "execute_result"
    }
   ],
   "source": [
    "session_df.describe().transpose()"
   ]
  },
  {
   "cell_type": "code",
   "execution_count": null,
   "metadata": {},
   "outputs": [],
   "source": []
  },
  {
   "cell_type": "code",
   "execution_count": 462,
   "metadata": {
    "scrolled": true
   },
   "outputs": [
    {
     "data": {
      "text/plain": [
       "<matplotlib.axes._subplots.AxesSubplot at 0x1d1286b8a30>"
      ]
     },
     "execution_count": 462,
     "metadata": {},
     "output_type": "execute_result"
    },
    {
     "data": {
      "image/png": "[encoded data removed]",
      "text/plain": [
       "<Figure size 720x432 with 1 Axes>"
      ]
     },
     "metadata": {},
     "output_type": "display_data"
    }
   ],
   "source": [
    "plt.figure(figsize=(10,6))\n",
    "session_df['times_ip_changed'].hist()"
   ]
  },
  {
   "cell_type": "code",
   "execution_count": 464,
   "metadata": {
    "scrolled": true
   },
   "outputs": [
    {
     "data": {
      "text/plain": [
       "<matplotlib.axes._subplots.AxesSubplot at 0x1d12b4dee20>"
      ]
     },
     "execution_count": 464,
     "metadata": {},
     "output_type": "execute_result"
    },
    {
     "data": {
      "image/png": "[encoded data removed]",
      "text/plain": [
       "<Figure size 720x432 with 1 Axes>"
      ]
     },
     "metadata": {},
     "output_type": "display_data"
    }
   ],
   "source": [
    "plt.figure(figsize=(10,6))\n",
    "session_df['std_time_interval'].hist()"
   ]
  },
  {
   "cell_type": "code",
   "execution_count": 118,
   "metadata": {},
   "outputs": [
    {
     "data": {
      "text/plain": [
       "<matplotlib.axes._subplots.AxesSubplot at 0x26c02554970>"
      ]
     },
     "execution_count": 118,
     "metadata": {},
     "output_type": "execute_result"
    },
    {
     "data": {
      "image/png": "[encoded data removed]",
      "text/plain": [
       "<Figure size 720x432 with 1 Axes>"
      ]
     },
     "metadata": {},
     "output_type": "display_data"
    }
   ],
   "source": [
    "plt.figure(figsize=(10,6))\n",
    "session_df[session_df['number_of_requests']<150]['number_of_requests'].hist(bins=20)"
   ]
  },
  {
   "cell_type": "code",
   "execution_count": 75,
   "metadata": {},
   "outputs": [
    {
     "data": {
      "text/html": [
       "<div>\n",
       "<style scoped>\n",
       "    .dataframe tbody tr th:only-of-type {\n",
       "        vertical-align: middle;\n",
       "    }\n",
       "\n",
       "    .dataframe tbody tr th {\n",
       "        vertical-align: top;\n",
       "    }\n",
       "\n",
       "    .dataframe thead th {\n",
       "        text-align: right;\n",
       "    }\n",
       "</style>\n",
       "<table border=\"1\" class=\"dataframe\">\n",
       "  <thead>\n",
       "    <tr style=\"text-align: right;\">\n",
       "      <th></th>\n",
       "      <th></th>\n",
       "      <th></th>\n",
       "      <th>med_response_length</th>\n",
       "      <th>med_depth</th>\n",
       "      <th>avg_response_time</th>\n",
       "      <th>avg_time_interval</th>\n",
       "      <th>std_response_time</th>\n",
       "      <th>std_time_interval</th>\n",
       "      <th>is_pc</th>\n",
       "      <th>Get</th>\n",
       "      <th>Post</th>\n",
       "      <th>image</th>\n",
       "      <th>...</th>\n",
       "      <th>html/css</th>\n",
       "      <th>4xx/200</th>\n",
       "      <th>location</th>\n",
       "      <th>lf_time_interval</th>\n",
       "      <th>max_depth</th>\n",
       "      <th>std_depth</th>\n",
       "      <th>number_of_requests</th>\n",
       "      <th>times_ip_changed</th>\n",
       "      <th>is_bot</th>\n",
       "      <th>Get/number_of_requests</th>\n",
       "    </tr>\n",
       "    <tr>\n",
       "      <th>index</th>\n",
       "      <th>client_ip</th>\n",
       "      <th>user_agent</th>\n",
       "      <th></th>\n",
       "      <th></th>\n",
       "      <th></th>\n",
       "      <th></th>\n",
       "      <th></th>\n",
       "      <th></th>\n",
       "      <th></th>\n",
       "      <th></th>\n",
       "      <th></th>\n",
       "      <th></th>\n",
       "      <th></th>\n",
       "      <th></th>\n",
       "      <th></th>\n",
       "      <th></th>\n",
       "      <th></th>\n",
       "      <th></th>\n",
       "      <th></th>\n",
       "      <th></th>\n",
       "      <th></th>\n",
       "      <th></th>\n",
       "      <th></th>\n",
       "    </tr>\n",
       "  </thead>\n",
       "  <tbody>\n",
       "    <tr>\n",
       "      <th>283</th>\n",
       "      <th>35.26.221.84</th>\n",
       "      <th>Mozilla/5.0 (Windows NT 6.1; Win64; x64) AppleWebKit/537.36 (KHTML, like Gecko) Chrome/91.0.4472.101 Safari/537.36</th>\n",
       "      <td>0.0</td>\n",
       "      <td>1.0</td>\n",
       "      <td>836.196361</td>\n",
       "      <td>1.228820e+09</td>\n",
       "      <td>4657.774804</td>\n",
       "      <td>4.462834e+10</td>\n",
       "      <td>1319.0</td>\n",
       "      <td>1276.0</td>\n",
       "      <td>0.0</td>\n",
       "      <td>892.0</td>\n",
       "      <td>...</td>\n",
       "      <td>0.447458</td>\n",
       "      <td>0.0</td>\n",
       "      <td>United States</td>\n",
       "      <td>43000000000</td>\n",
       "      <td>4</td>\n",
       "      <td>0.717090</td>\n",
       "      <td>1319</td>\n",
       "      <td>7</td>\n",
       "      <td>0</td>\n",
       "      <td>0.967400</td>\n",
       "    </tr>\n",
       "    <tr>\n",
       "      <th>284</th>\n",
       "      <th>35.26.221.84</th>\n",
       "      <th>Mozilla/5.0 (Windows NT 6.1; Win64; x64) AppleWebKit/537.36 (KHTML, like Gecko) Chrome/91.0.4472.101 Safari/537.36</th>\n",
       "      <td>0.0</td>\n",
       "      <td>1.0</td>\n",
       "      <td>261.281695</td>\n",
       "      <td>4.859335e+01</td>\n",
       "      <td>1857.656868</td>\n",
       "      <td>7.169973e+02</td>\n",
       "      <td>2737.0</td>\n",
       "      <td>2645.0</td>\n",
       "      <td>0.0</td>\n",
       "      <td>1858.0</td>\n",
       "      <td>...</td>\n",
       "      <td>0.404153</td>\n",
       "      <td>0.0</td>\n",
       "      <td>United States</td>\n",
       "      <td>105000000000</td>\n",
       "      <td>4</td>\n",
       "      <td>0.681845</td>\n",
       "      <td>2737</td>\n",
       "      <td>6</td>\n",
       "      <td>0</td>\n",
       "      <td>0.966387</td>\n",
       "    </tr>\n",
       "  </tbody>\n",
       "</table>\n",
       "<p>2 rows × 21 columns</p>\n",
       "</div>"
      ],
      "text/plain": [
       "                                                                       med_response_length  \\\n",
       "index client_ip    user_agent                                                                \n",
       "283   35.26.221.84 Mozilla/5.0 (Windows NT 6.1; Win64; x64) AppleW...                  0.0   \n",
       "284   35.26.221.84 Mozilla/5.0 (Windows NT 6.1; Win64; x64) AppleW...                  0.0   \n",
       "\n",
       "                                                                       med_depth  \\\n",
       "index client_ip    user_agent                                                      \n",
       "283   35.26.221.84 Mozilla/5.0 (Windows NT 6.1; Win64; x64) AppleW...        1.0   \n",
       "284   35.26.221.84 Mozilla/5.0 (Windows NT 6.1; Win64; x64) AppleW...        1.0   \n",
       "\n",
       "                                                                       avg_response_time  \\\n",
       "index client_ip    user_agent                                                              \n",
       "283   35.26.221.84 Mozilla/5.0 (Windows NT 6.1; Win64; x64) AppleW...         836.196361   \n",
       "284   35.26.221.84 Mozilla/5.0 (Windows NT 6.1; Win64; x64) AppleW...         261.281695   \n",
       "\n",
       "                                                                       avg_time_interval  \\\n",
       "index client_ip    user_agent                                                              \n",
       "283   35.26.221.84 Mozilla/5.0 (Windows NT 6.1; Win64; x64) AppleW...       1.228820e+09   \n",
       "284   35.26.221.84 Mozilla/5.0 (Windows NT 6.1; Win64; x64) AppleW...       4.859335e+01   \n",
       "\n",
       "                                                                       std_response_time  \\\n",
       "index client_ip    user_agent                                                              \n",
       "283   35.26.221.84 Mozilla/5.0 (Windows NT 6.1; Win64; x64) AppleW...        4657.774804   \n",
       "284   35.26.221.84 Mozilla/5.0 (Windows NT 6.1; Win64; x64) AppleW...        1857.656868   \n",
       "\n",
       "                                                                       std_time_interval  \\\n",
       "index client_ip    user_agent                                                              \n",
       "283   35.26.221.84 Mozilla/5.0 (Windows NT 6.1; Win64; x64) AppleW...       4.462834e+10   \n",
       "284   35.26.221.84 Mozilla/5.0 (Windows NT 6.1; Win64; x64) AppleW...       7.169973e+02   \n",
       "\n",
       "                                                                        is_pc  \\\n",
       "index client_ip    user_agent                                                   \n",
       "283   35.26.221.84 Mozilla/5.0 (Windows NT 6.1; Win64; x64) AppleW...  1319.0   \n",
       "284   35.26.221.84 Mozilla/5.0 (Windows NT 6.1; Win64; x64) AppleW...  2737.0   \n",
       "\n",
       "                                                                          Get  \\\n",
       "index client_ip    user_agent                                                   \n",
       "283   35.26.221.84 Mozilla/5.0 (Windows NT 6.1; Win64; x64) AppleW...  1276.0   \n",
       "284   35.26.221.84 Mozilla/5.0 (Windows NT 6.1; Win64; x64) AppleW...  2645.0   \n",
       "\n",
       "                                                                       Post  \\\n",
       "index client_ip    user_agent                                                 \n",
       "283   35.26.221.84 Mozilla/5.0 (Windows NT 6.1; Win64; x64) AppleW...   0.0   \n",
       "284   35.26.221.84 Mozilla/5.0 (Windows NT 6.1; Win64; x64) AppleW...   0.0   \n",
       "\n",
       "                                                                        image  \\\n",
       "index client_ip    user_agent                                                   \n",
       "283   35.26.221.84 Mozilla/5.0 (Windows NT 6.1; Win64; x64) AppleW...   892.0   \n",
       "284   35.26.221.84 Mozilla/5.0 (Windows NT 6.1; Win64; x64) AppleW...  1858.0   \n",
       "\n",
       "                                                                       ...  \\\n",
       "index client_ip    user_agent                                          ...   \n",
       "283   35.26.221.84 Mozilla/5.0 (Windows NT 6.1; Win64; x64) AppleW...  ...   \n",
       "284   35.26.221.84 Mozilla/5.0 (Windows NT 6.1; Win64; x64) AppleW...  ...   \n",
       "\n",
       "                                                                       html/css  \\\n",
       "index client_ip    user_agent                                                     \n",
       "283   35.26.221.84 Mozilla/5.0 (Windows NT 6.1; Win64; x64) AppleW...  0.447458   \n",
       "284   35.26.221.84 Mozilla/5.0 (Windows NT 6.1; Win64; x64) AppleW...  0.404153   \n",
       "\n",
       "                                                                       4xx/200  \\\n",
       "index client_ip    user_agent                                                    \n",
       "283   35.26.221.84 Mozilla/5.0 (Windows NT 6.1; Win64; x64) AppleW...      0.0   \n",
       "284   35.26.221.84 Mozilla/5.0 (Windows NT 6.1; Win64; x64) AppleW...      0.0   \n",
       "\n",
       "                                                                            location  \\\n",
       "index client_ip    user_agent                                                          \n",
       "283   35.26.221.84 Mozilla/5.0 (Windows NT 6.1; Win64; x64) AppleW...  United States   \n",
       "284   35.26.221.84 Mozilla/5.0 (Windows NT 6.1; Win64; x64) AppleW...  United States   \n",
       "\n",
       "                                                                      lf_time_interval  \\\n",
       "index client_ip    user_agent                                                            \n",
       "283   35.26.221.84 Mozilla/5.0 (Windows NT 6.1; Win64; x64) AppleW...      43000000000   \n",
       "284   35.26.221.84 Mozilla/5.0 (Windows NT 6.1; Win64; x64) AppleW...     105000000000   \n",
       "\n",
       "                                                                       max_depth  \\\n",
       "index client_ip    user_agent                                                      \n",
       "283   35.26.221.84 Mozilla/5.0 (Windows NT 6.1; Win64; x64) AppleW...          4   \n",
       "284   35.26.221.84 Mozilla/5.0 (Windows NT 6.1; Win64; x64) AppleW...          4   \n",
       "\n",
       "                                                                       std_depth  \\\n",
       "index client_ip    user_agent                                                      \n",
       "283   35.26.221.84 Mozilla/5.0 (Windows NT 6.1; Win64; x64) AppleW...   0.717090   \n",
       "284   35.26.221.84 Mozilla/5.0 (Windows NT 6.1; Win64; x64) AppleW...   0.681845   \n",
       "\n",
       "                                                                       number_of_requests  \\\n",
       "index client_ip    user_agent                                                               \n",
       "283   35.26.221.84 Mozilla/5.0 (Windows NT 6.1; Win64; x64) AppleW...                1319   \n",
       "284   35.26.221.84 Mozilla/5.0 (Windows NT 6.1; Win64; x64) AppleW...                2737   \n",
       "\n",
       "                                                                       times_ip_changed  \\\n",
       "index client_ip    user_agent                                                             \n",
       "283   35.26.221.84 Mozilla/5.0 (Windows NT 6.1; Win64; x64) AppleW...                 7   \n",
       "284   35.26.221.84 Mozilla/5.0 (Windows NT 6.1; Win64; x64) AppleW...                 6   \n",
       "\n",
       "                                                                       is_bot  \\\n",
       "index client_ip    user_agent                                                   \n",
       "283   35.26.221.84 Mozilla/5.0 (Windows NT 6.1; Win64; x64) AppleW...       0   \n",
       "284   35.26.221.84 Mozilla/5.0 (Windows NT 6.1; Win64; x64) AppleW...       0   \n",
       "\n",
       "                                                                       Get/number_of_requests  \n",
       "index client_ip    user_agent                                                                  \n",
       "283   35.26.221.84 Mozilla/5.0 (Windows NT 6.1; Win64; x64) AppleW...                0.967400  \n",
       "284   35.26.221.84 Mozilla/5.0 (Windows NT 6.1; Win64; x64) AppleW...                0.966387  \n",
       "\n",
       "[2 rows x 21 columns]"
      ]
     },
     "execution_count": 75,
     "metadata": {},
     "output_type": "execute_result"
    }
   ],
   "source": [
    "session_df[session_df['number_of_requests']>500]"
   ]
  },
  {
   "cell_type": "code",
   "execution_count": 85,
   "metadata": {},
   "outputs": [],
   "source": [
    "#new_df[(new_df['index']==283)&(new_df['client_ip']=='35.26.221.84')]\n"
   ]
  },
  {
   "cell_type": "code",
   "execution_count": 461,
   "metadata": {
    "scrolled": true
   },
   "outputs": [
    {
     "data": {
      "text/plain": [
       "<matplotlib.axes._subplots.AxesSubplot at 0x1d0d5029430>"
      ]
     },
     "execution_count": 461,
     "metadata": {},
     "output_type": "execute_result"
    },
    {
     "data": {
      "image/png": "[encoded data removed]",
      "text/plain": [
       "<Figure size 720x576 with 2 Axes>"
      ]
     },
     "metadata": {},
     "output_type": "display_data"
    }
   ],
   "source": [
    "plt.figure(figsize=(10,8))\n",
    "sns.heatmap(session_df.corr())"
   ]
  },
  {
   "cell_type": "code",
   "execution_count": null,
   "metadata": {},
   "outputs": [],
   "source": []
  },
  {
   "cell_type": "code",
   "execution_count": null,
   "metadata": {},
   "outputs": [],
   "source": [
    "new features:\n",
    "    #get/num_requests\n",
    "    avg_time_interval/lf_time_interval"
   ]
  },
  {
   "cell_type": "markdown",
   "metadata": {},
   "source": [
    "Modeling\n",
    "---"
   ]
  },
  {
   "cell_type": "code",
   "execution_count": 32,
   "metadata": {},
   "outputs": [],
   "source": [
    "train = session_df[columns]"
   ]
  },
  {
   "cell_type": "code",
   "execution_count": 102,
   "metadata": {},
   "outputs": [
    {
     "data": {
      "text/plain": [
       "(130835, 130836)"
      ]
     },
     "execution_count": 102,
     "metadata": {},
     "output_type": "execute_result"
    }
   ],
   "source": [
    "len(train) , len(session_df)\n"
   ]
  },
  {
   "cell_type": "code",
   "execution_count": 45,
   "metadata": {},
   "outputs": [
    {
     "data": {
      "text/plain": [
       "(array([120254, 120780], dtype=int64),)"
      ]
     },
     "execution_count": 45,
     "metadata": {},
     "output_type": "execute_result"
    }
   ],
   "source": [
    "np.where(DFpca[:,0]>48)"
   ]
  },
  {
   "cell_type": "code",
   "execution_count": 78,
   "metadata": {},
   "outputs": [],
   "source": [
    "train = session_df.drop([session_df.iloc[120254].name,session_df.iloc[120780].name],axis=0)"
   ]
  },
  {
   "cell_type": "code",
   "execution_count": 79,
   "metadata": {},
   "outputs": [],
   "source": [
    "from sklearn.preprocessing import  StandardScaler\n",
    "scalar = StandardScaler()\n",
    "#scalar.fit(train.drop(null_columns,axis=1))\n",
    "#scaled = scalar.fit_transform(train.drop(null_columns,axis=1))\n",
    "scaled_train = scalar.fit_transform(train.loc[train['is_bot']==0,columns])\n",
    "scaled_test = scalar.transform(train[columns])"
   ]
  },
  {
   "cell_type": "code",
   "execution_count": null,
   "metadata": {},
   "outputs": [],
   "source": []
  },
  {
   "cell_type": "code",
   "execution_count": 80,
   "metadata": {},
   "outputs": [],
   "source": [
    "from sklearn.decomposition import PCA\n",
    "pca = PCA(n_components=2)  #to be able to visualize it\n",
    "pca.fit(scaled_test)\n",
    "DFpca = pca.transform(scaled_test)"
   ]
  },
  {
   "cell_type": "code",
   "execution_count": 81,
   "metadata": {},
   "outputs": [],
   "source": [
    "from sklearn.decomposition import PCA\n",
    "pca = PCA(n_components=3)  #to be able to visualize it\n",
    "pca.fit(scaled_test)\n",
    "DF3pca = pca.transform(scaled_test)"
   ]
  },
  {
   "cell_type": "code",
   "execution_count": 82,
   "metadata": {
    "scrolled": true
   },
   "outputs": [
    {
     "data": {
      "text/plain": [
       "<matplotlib.collections.PathCollection at 0x1c41235be80>"
      ]
     },
     "execution_count": 82,
     "metadata": {},
     "output_type": "execute_result"
    },
    {
     "data": {
      "image/png": "[encoded data removed]",
      "text/plain": [
       "<Figure size 720x432 with 1 Axes>"
      ]
     },
     "metadata": {},
     "output_type": "display_data"
    }
   ],
   "source": [
    "sns.set_style('darkgrid')\n",
    "plt.figure(figsize=(10,6))\n",
    "plt.scatter(DFpca[:,0],DFpca[:,1],c=train['is_bot'],cmap='plasma')"
   ]
  },
  {
   "cell_type": "code",
   "execution_count": 83,
   "metadata": {
    "scrolled": true
   },
   "outputs": [
    {
     "data": {
      "image/png": "[encoded data removed]",
      "text/plain": [
       "<Figure size 432x288 with 1 Axes>"
      ]
     },
     "metadata": {},
     "output_type": "display_data"
    }
   ],
   "source": [
    "ax = plt.axes(projection='3d')\n",
    "ax.scatter3D(DF3pca[:,0], DF3pca[:,1], DF3pca[:,2],c=train['is_bot'], cmap='plasma');"
   ]
  },
  {
   "cell_type": "code",
   "execution_count": 47,
   "metadata": {},
   "outputs": [
    {
     "data": {
      "text/plain": [
       "(130834, 8)"
      ]
     },
     "execution_count": 47,
     "metadata": {},
     "output_type": "execute_result"
    }
   ],
   "source": [
    "scaled_test.shape"
   ]
  },
  {
   "cell_type": "markdown",
   "metadata": {},
   "source": [
    "Isolation Forest\n",
    "---"
   ]
  },
  {
   "cell_type": "code",
   "execution_count": 44,
   "metadata": {},
   "outputs": [],
   "source": [
    "from sklearn.ensemble import IsolationForest\n",
    "Iforest= IsolationForest(n_estimators=30,contamination=0.08)"
   ]
  },
  {
   "cell_type": "code",
   "execution_count": 45,
   "metadata": {},
   "outputs": [],
   "source": [
    "Iforest_train = Iforest.fit(scaled_train)\n",
    "forest_label = Iforest.predict(scaled_test)"
   ]
  },
  {
   "cell_type": "code",
   "execution_count": 46,
   "metadata": {},
   "outputs": [
    {
     "data": {
      "text/plain": [
       "<matplotlib.collections.PathCollection at 0x1c3a5742250>"
      ]
     },
     "execution_count": 46,
     "metadata": {},
     "output_type": "execute_result"
    },
    {
     "data": {
      "image/png": "[encoded data removed]",
      "text/plain": [
       "<Figure size 720x432 with 1 Axes>"
      ]
     },
     "metadata": {},
     "output_type": "display_data"
    }
   ],
   "source": [
    "sns.set_style('darkgrid')\n",
    "plt.figure(figsize=(10,6))\n",
    "plt.legend(forest_label)\n",
    "plt.scatter(DFpca[:,0],DFpca[:,1],c=forest_label,cmap='plasma')"
   ]
  },
  {
   "cell_type": "code",
   "execution_count": 68,
   "metadata": {},
   "outputs": [
    {
     "data": {
      "text/plain": [
       "<matplotlib.collections.PathCollection at 0x1c41501a400>"
      ]
     },
     "execution_count": 68,
     "metadata": {},
     "output_type": "execute_result"
    },
    {
     "data": {
      "image/png": "[encoded data removed]",
      "text/plain": [
       "<Figure size 720x432 with 1 Axes>"
      ]
     },
     "metadata": {},
     "output_type": "display_data"
    }
   ],
   "source": [
    "sns.set_style('darkgrid')\n",
    "plt.figure(figsize=(10,6))\n",
    "plt.legend(forest_label)\n",
    "plt.scatter(train['avg_time_interval'],train['lf_time_interval'],c=train['is_bot'],cmap='plasma')"
   ]
  },
  {
   "cell_type": "code",
   "execution_count": 47,
   "metadata": {
    "scrolled": true
   },
   "outputs": [
    {
     "data": {
      "text/html": [
       "<div>\n",
       "<style scoped>\n",
       "    .dataframe tbody tr th:only-of-type {\n",
       "        vertical-align: middle;\n",
       "    }\n",
       "\n",
       "    .dataframe tbody tr th {\n",
       "        vertical-align: top;\n",
       "    }\n",
       "\n",
       "    .dataframe thead th {\n",
       "        text-align: right;\n",
       "    }\n",
       "</style>\n",
       "<table border=\"1\" class=\"dataframe\">\n",
       "  <thead>\n",
       "    <tr style=\"text-align: right;\">\n",
       "      <th></th>\n",
       "      <th></th>\n",
       "      <th></th>\n",
       "      <th>med_response_length</th>\n",
       "      <th>med_depth</th>\n",
       "      <th>avg_response_time</th>\n",
       "      <th>avg_time_interval</th>\n",
       "      <th>std_response_time</th>\n",
       "      <th>std_time_interval</th>\n",
       "      <th>is_pc</th>\n",
       "      <th>Get</th>\n",
       "      <th>Post</th>\n",
       "      <th>image</th>\n",
       "      <th>400</th>\n",
       "      <th>html/css</th>\n",
       "      <th>4xx/200</th>\n",
       "      <th>location</th>\n",
       "      <th>lf_time_interval</th>\n",
       "      <th>max_depth</th>\n",
       "      <th>std_depth</th>\n",
       "      <th>number_of_requests</th>\n",
       "      <th>times_ip_changed</th>\n",
       "      <th>is_bot</th>\n",
       "    </tr>\n",
       "    <tr>\n",
       "      <th>index</th>\n",
       "      <th>client_ip</th>\n",
       "      <th>user_agent</th>\n",
       "      <th></th>\n",
       "      <th></th>\n",
       "      <th></th>\n",
       "      <th></th>\n",
       "      <th></th>\n",
       "      <th></th>\n",
       "      <th></th>\n",
       "      <th></th>\n",
       "      <th></th>\n",
       "      <th></th>\n",
       "      <th></th>\n",
       "      <th></th>\n",
       "      <th></th>\n",
       "      <th></th>\n",
       "      <th></th>\n",
       "      <th></th>\n",
       "      <th></th>\n",
       "      <th></th>\n",
       "      <th></th>\n",
       "      <th></th>\n",
       "    </tr>\n",
       "  </thead>\n",
       "  <tbody>\n",
       "    <tr>\n",
       "      <th rowspan=\"5\" valign=\"top\">0</th>\n",
       "      <th>126.145.72.90</th>\n",
       "      <th>FreshpingBot/1.0 (+https://freshping.io/)</th>\n",
       "      <td>63379.0</td>\n",
       "      <td>1.0</td>\n",
       "      <td>32.000000</td>\n",
       "      <td>1.620780e+12</td>\n",
       "      <td>NaN</td>\n",
       "      <td>NaN</td>\n",
       "      <td>0.0</td>\n",
       "      <td>1.0</td>\n",
       "      <td>0.0</td>\n",
       "      <td>0.0</td>\n",
       "      <td>0.0</td>\n",
       "      <td>0.000000</td>\n",
       "      <td>0.00</td>\n",
       "      <td>Japan</td>\n",
       "      <td>0</td>\n",
       "      <td>1</td>\n",
       "      <td>NaN</td>\n",
       "      <td>1</td>\n",
       "      <td>6</td>\n",
       "      <td>1</td>\n",
       "    </tr>\n",
       "    <tr>\n",
       "      <th>14.6.66.228</th>\n",
       "      <th>Mozilla/5.0 (Linux; Android 8.1.0; BKK-LX2) AppleWebKit/537.36 (KHTML, like Gecko) Chrome/91.0.4472.88 Mobile Safari/537.36</th>\n",
       "      <td>30290.5</td>\n",
       "      <td>1.0</td>\n",
       "      <td>4.000000</td>\n",
       "      <td>8.103899e+11</td>\n",
       "      <td>0.000000</td>\n",
       "      <td>1.146064e+12</td>\n",
       "      <td>0.0</td>\n",
       "      <td>2.0</td>\n",
       "      <td>0.0</td>\n",
       "      <td>2.0</td>\n",
       "      <td>0.0</td>\n",
       "      <td>0.000000</td>\n",
       "      <td>0.00</td>\n",
       "      <td>Republic of Korea</td>\n",
       "      <td>5000000000</td>\n",
       "      <td>1</td>\n",
       "      <td>0.000000</td>\n",
       "      <td>2</td>\n",
       "      <td>2</td>\n",
       "      <td>0</td>\n",
       "    </tr>\n",
       "    <tr>\n",
       "      <th>186.236.39.213</th>\n",
       "      <th>Mozilla/5.0+(compatible; UptimeRobot/2.0; http://www.uptimerobot.com/)</th>\n",
       "      <td>0.0</td>\n",
       "      <td>1.0</td>\n",
       "      <td>4.000000</td>\n",
       "      <td>1.620780e+12</td>\n",
       "      <td>NaN</td>\n",
       "      <td>NaN</td>\n",
       "      <td>0.0</td>\n",
       "      <td>0.0</td>\n",
       "      <td>0.0</td>\n",
       "      <td>0.0</td>\n",
       "      <td>0.0</td>\n",
       "      <td>0.000000</td>\n",
       "      <td>0.00</td>\n",
       "      <td>Brazil</td>\n",
       "      <td>0</td>\n",
       "      <td>1</td>\n",
       "      <td>NaN</td>\n",
       "      <td>1</td>\n",
       "      <td>1</td>\n",
       "      <td>1</td>\n",
       "    </tr>\n",
       "    <tr>\n",
       "      <th rowspan=\"2\" valign=\"top\">207.213.193.143</th>\n",
       "      <th>Mozilla/5.0 (Linux; Android 6.0.1; Nexus 5X Build/MMB29P) AppleWebKit/537.36 (KHTML, like Gecko) Chrome/91.0.4472.90 Mobile Safari/537.36 (compatible; Googlebot/2.1; +http://www.google.com/bot.html)</th>\n",
       "      <td>82562.0</td>\n",
       "      <td>3.0</td>\n",
       "      <td>1080.400000</td>\n",
       "      <td>1.620780e+11</td>\n",
       "      <td>2086.224405</td>\n",
       "      <td>5.125356e+11</td>\n",
       "      <td>0.0</td>\n",
       "      <td>10.0</td>\n",
       "      <td>0.0</td>\n",
       "      <td>0.0</td>\n",
       "      <td>0.0</td>\n",
       "      <td>4.000000</td>\n",
       "      <td>0.00</td>\n",
       "      <td>United States</td>\n",
       "      <td>91000000000</td>\n",
       "      <td>4</td>\n",
       "      <td>1.154701</td>\n",
       "      <td>10</td>\n",
       "      <td>5</td>\n",
       "      <td>1</td>\n",
       "    </tr>\n",
       "    <tr>\n",
       "      <th>Googlebot-Image/1.0</th>\n",
       "      <td>0.0</td>\n",
       "      <td>3.0</td>\n",
       "      <td>19.257143</td>\n",
       "      <td>2.315400e+10</td>\n",
       "      <td>10.881024</td>\n",
       "      <td>1.937202e+11</td>\n",
       "      <td>0.0</td>\n",
       "      <td>70.0</td>\n",
       "      <td>0.0</td>\n",
       "      <td>12.0</td>\n",
       "      <td>0.0</td>\n",
       "      <td>0.000000</td>\n",
       "      <td>0.00</td>\n",
       "      <td>United States</td>\n",
       "      <td>119000000000</td>\n",
       "      <td>3</td>\n",
       "      <td>0.759208</td>\n",
       "      <td>70</td>\n",
       "      <td>3</td>\n",
       "      <td>1</td>\n",
       "    </tr>\n",
       "    <tr>\n",
       "      <th>...</th>\n",
       "      <th>...</th>\n",
       "      <th>...</th>\n",
       "      <td>...</td>\n",
       "      <td>...</td>\n",
       "      <td>...</td>\n",
       "      <td>...</td>\n",
       "      <td>...</td>\n",
       "      <td>...</td>\n",
       "      <td>...</td>\n",
       "      <td>...</td>\n",
       "      <td>...</td>\n",
       "      <td>...</td>\n",
       "      <td>...</td>\n",
       "      <td>...</td>\n",
       "      <td>...</td>\n",
       "      <td>...</td>\n",
       "      <td>...</td>\n",
       "      <td>...</td>\n",
       "      <td>...</td>\n",
       "      <td>...</td>\n",
       "      <td>...</td>\n",
       "      <td>...</td>\n",
       "    </tr>\n",
       "    <tr>\n",
       "      <th rowspan=\"5\" valign=\"top\">300</th>\n",
       "      <th>35.26.123.225</th>\n",
       "      <th>Mozilla/5.0 (iPhone; CPU iPhone OS 14_4 like Mac OS X) AppleWebKit/605.1.15 (KHTML, like Gecko) CriOS/80.0.3987.95 Mobile/15E148 Safari/604.1</th>\n",
       "      <td>0.0</td>\n",
       "      <td>1.0</td>\n",
       "      <td>2244.578947</td>\n",
       "      <td>4.236842e+03</td>\n",
       "      <td>13323.384497</td>\n",
       "      <td>1.704118e+04</td>\n",
       "      <td>0.0</td>\n",
       "      <td>36.0</td>\n",
       "      <td>0.0</td>\n",
       "      <td>20.0</td>\n",
       "      <td>0.0</td>\n",
       "      <td>0.636364</td>\n",
       "      <td>0.00</td>\n",
       "      <td>United States</td>\n",
       "      <td>86000000000</td>\n",
       "      <td>4</td>\n",
       "      <td>0.823292</td>\n",
       "      <td>38</td>\n",
       "      <td>1</td>\n",
       "      <td>0</td>\n",
       "    </tr>\n",
       "    <tr>\n",
       "      <th>35.33.222.66</th>\n",
       "      <th>Mozilla/5.0 (Linux; Android 11; SAMSUNG SM-A715F) AppleWebKit/537.36 (KHTML, like Gecko) SamsungBrowser/14.0 Chrome/87.0.4280.141 Mobile Safari/537.36</th>\n",
       "      <td>0.0</td>\n",
       "      <td>1.0</td>\n",
       "      <td>2002.512821</td>\n",
       "      <td>6.384615e+03</td>\n",
       "      <td>12059.545385</td>\n",
       "      <td>2.914177e+04</td>\n",
       "      <td>0.0</td>\n",
       "      <td>36.0</td>\n",
       "      <td>0.0</td>\n",
       "      <td>20.0</td>\n",
       "      <td>0.0</td>\n",
       "      <td>0.900000</td>\n",
       "      <td>0.00</td>\n",
       "      <td>United States</td>\n",
       "      <td>81000000000</td>\n",
       "      <td>4</td>\n",
       "      <td>0.846522</td>\n",
       "      <td>39</td>\n",
       "      <td>2</td>\n",
       "      <td>0</td>\n",
       "    </tr>\n",
       "    <tr>\n",
       "      <th>37.192.112.41</th>\n",
       "      <th>Mozilla/5.0 (X11; Linux x86_64) AppleWebKit/537.36 (KHTML, like Gecko) Chrome/90.0.4430.91 Safari/537.36</th>\n",
       "      <td>7724.5</td>\n",
       "      <td>2.0</td>\n",
       "      <td>145.588235</td>\n",
       "      <td>2.383553e+10</td>\n",
       "      <td>1090.317361</td>\n",
       "      <td>1.965528e+11</td>\n",
       "      <td>68.0</td>\n",
       "      <td>65.0</td>\n",
       "      <td>0.0</td>\n",
       "      <td>23.0</td>\n",
       "      <td>0.0</td>\n",
       "      <td>2.750000</td>\n",
       "      <td>0.00</td>\n",
       "      <td>Russia</td>\n",
       "      <td>16000000000</td>\n",
       "      <td>4</td>\n",
       "      <td>0.938284</td>\n",
       "      <td>68</td>\n",
       "      <td>1</td>\n",
       "      <td>0</td>\n",
       "    </tr>\n",
       "    <tr>\n",
       "      <th>67.149.194.62</th>\n",
       "      <th>Mozilla/5.0 (Windows NT 10.0; Win64; x64) AppleWebKit/537.36 (KHTML, like Gecko) Chrome/92.0.4515.51 Safari/537.36</th>\n",
       "      <td>29827.0</td>\n",
       "      <td>1.0</td>\n",
       "      <td>10.588235</td>\n",
       "      <td>7.000000e+03</td>\n",
       "      <td>10.192269</td>\n",
       "      <td>1.756417e+04</td>\n",
       "      <td>17.0</td>\n",
       "      <td>17.0</td>\n",
       "      <td>0.0</td>\n",
       "      <td>5.0</td>\n",
       "      <td>0.0</td>\n",
       "      <td>5.000000</td>\n",
       "      <td>0.75</td>\n",
       "      <td>United States</td>\n",
       "      <td>65000000000</td>\n",
       "      <td>3</td>\n",
       "      <td>0.664211</td>\n",
       "      <td>17</td>\n",
       "      <td>1</td>\n",
       "      <td>0</td>\n",
       "    </tr>\n",
       "    <tr>\n",
       "      <th>92.130.186.37</th>\n",
       "      <th>Mozilla/5.0 (Linux; Android 8.0.0; SM-G570F) AppleWebKit/537.36 (KHTML, like Gecko) Chrome/86.0.4240.110 Mobile Safari/537.36</th>\n",
       "      <td>0.0</td>\n",
       "      <td>2.0</td>\n",
       "      <td>1326.803922</td>\n",
       "      <td>1.627451e+03</td>\n",
       "      <td>8728.330690</td>\n",
       "      <td>6.016513e+03</td>\n",
       "      <td>0.0</td>\n",
       "      <td>46.0</td>\n",
       "      <td>2.0</td>\n",
       "      <td>17.0</td>\n",
       "      <td>0.0</td>\n",
       "      <td>2.777778</td>\n",
       "      <td>0.00</td>\n",
       "      <td>France</td>\n",
       "      <td>82000000000</td>\n",
       "      <td>4</td>\n",
       "      <td>1.027848</td>\n",
       "      <td>51</td>\n",
       "      <td>1</td>\n",
       "      <td>0</td>\n",
       "    </tr>\n",
       "  </tbody>\n",
       "</table>\n",
       "<p>11574 rows × 20 columns</p>\n",
       "</div>"
      ],
      "text/plain": [
       "                                                                          med_response_length  \\\n",
       "index client_ip       user_agent                                                                \n",
       "0     126.145.72.90   FreshpingBot/1.0 (+https://freshping.io/)                       63379.0   \n",
       "      14.6.66.228     Mozilla/5.0 (Linux; Android 8.1.0; BKK-LX2) App...              30290.5   \n",
       "      186.236.39.213  Mozilla/5.0+(compatible; UptimeRobot/2.0; http:...                  0.0   \n",
       "      207.213.193.143 Mozilla/5.0 (Linux; Android 6.0.1; Nexus 5X Bui...              82562.0   \n",
       "                      Googlebot-Image/1.0                                                 0.0   \n",
       "...                                                                                       ...   \n",
       "300   35.26.123.225   Mozilla/5.0 (iPhone; CPU iPhone OS 14_4 like Ma...                  0.0   \n",
       "      35.33.222.66    Mozilla/5.0 (Linux; Android 11; SAMSUNG SM-A715...                  0.0   \n",
       "      37.192.112.41   Mozilla/5.0 (X11; Linux x86_64) AppleWebKit/537...               7724.5   \n",
       "      67.149.194.62   Mozilla/5.0 (Windows NT 10.0; Win64; x64) Apple...              29827.0   \n",
       "      92.130.186.37   Mozilla/5.0 (Linux; Android 8.0.0; SM-G570F) Ap...                  0.0   \n",
       "\n",
       "                                                                          med_depth  \\\n",
       "index client_ip       user_agent                                                      \n",
       "0     126.145.72.90   FreshpingBot/1.0 (+https://freshping.io/)                 1.0   \n",
       "      14.6.66.228     Mozilla/5.0 (Linux; Android 8.1.0; BKK-LX2) App...        1.0   \n",
       "      186.236.39.213  Mozilla/5.0+(compatible; UptimeRobot/2.0; http:...        1.0   \n",
       "      207.213.193.143 Mozilla/5.0 (Linux; Android 6.0.1; Nexus 5X Bui...        3.0   \n",
       "                      Googlebot-Image/1.0                                       3.0   \n",
       "...                                                                             ...   \n",
       "300   35.26.123.225   Mozilla/5.0 (iPhone; CPU iPhone OS 14_4 like Ma...        1.0   \n",
       "      35.33.222.66    Mozilla/5.0 (Linux; Android 11; SAMSUNG SM-A715...        1.0   \n",
       "      37.192.112.41   Mozilla/5.0 (X11; Linux x86_64) AppleWebKit/537...        2.0   \n",
       "      67.149.194.62   Mozilla/5.0 (Windows NT 10.0; Win64; x64) Apple...        1.0   \n",
       "      92.130.186.37   Mozilla/5.0 (Linux; Android 8.0.0; SM-G570F) Ap...        2.0   \n",
       "\n",
       "                                                                          avg_response_time  \\\n",
       "index client_ip       user_agent                                                              \n",
       "0     126.145.72.90   FreshpingBot/1.0 (+https://freshping.io/)                   32.000000   \n",
       "      14.6.66.228     Mozilla/5.0 (Linux; Android 8.1.0; BKK-LX2) App...           4.000000   \n",
       "      186.236.39.213  Mozilla/5.0+(compatible; UptimeRobot/2.0; http:...           4.000000   \n",
       "      207.213.193.143 Mozilla/5.0 (Linux; Android 6.0.1; Nexus 5X Bui...        1080.400000   \n",
       "                      Googlebot-Image/1.0                                         19.257143   \n",
       "...                                                                                     ...   \n",
       "300   35.26.123.225   Mozilla/5.0 (iPhone; CPU iPhone OS 14_4 like Ma...        2244.578947   \n",
       "      35.33.222.66    Mozilla/5.0 (Linux; Android 11; SAMSUNG SM-A715...        2002.512821   \n",
       "      37.192.112.41   Mozilla/5.0 (X11; Linux x86_64) AppleWebKit/537...         145.588235   \n",
       "      67.149.194.62   Mozilla/5.0 (Windows NT 10.0; Win64; x64) Apple...          10.588235   \n",
       "      92.130.186.37   Mozilla/5.0 (Linux; Android 8.0.0; SM-G570F) Ap...        1326.803922   \n",
       "\n",
       "                                                                          avg_time_interval  \\\n",
       "index client_ip       user_agent                                                              \n",
       "0     126.145.72.90   FreshpingBot/1.0 (+https://freshping.io/)                1.620780e+12   \n",
       "      14.6.66.228     Mozilla/5.0 (Linux; Android 8.1.0; BKK-LX2) App...       8.103899e+11   \n",
       "      186.236.39.213  Mozilla/5.0+(compatible; UptimeRobot/2.0; http:...       1.620780e+12   \n",
       "      207.213.193.143 Mozilla/5.0 (Linux; Android 6.0.1; Nexus 5X Bui...       1.620780e+11   \n",
       "                      Googlebot-Image/1.0                                      2.315400e+10   \n",
       "...                                                                                     ...   \n",
       "300   35.26.123.225   Mozilla/5.0 (iPhone; CPU iPhone OS 14_4 like Ma...       4.236842e+03   \n",
       "      35.33.222.66    Mozilla/5.0 (Linux; Android 11; SAMSUNG SM-A715...       6.384615e+03   \n",
       "      37.192.112.41   Mozilla/5.0 (X11; Linux x86_64) AppleWebKit/537...       2.383553e+10   \n",
       "      67.149.194.62   Mozilla/5.0 (Windows NT 10.0; Win64; x64) Apple...       7.000000e+03   \n",
       "      92.130.186.37   Mozilla/5.0 (Linux; Android 8.0.0; SM-G570F) Ap...       1.627451e+03   \n",
       "\n",
       "                                                                          std_response_time  \\\n",
       "index client_ip       user_agent                                                              \n",
       "0     126.145.72.90   FreshpingBot/1.0 (+https://freshping.io/)                         NaN   \n",
       "      14.6.66.228     Mozilla/5.0 (Linux; Android 8.1.0; BKK-LX2) App...           0.000000   \n",
       "      186.236.39.213  Mozilla/5.0+(compatible; UptimeRobot/2.0; http:...                NaN   \n",
       "      207.213.193.143 Mozilla/5.0 (Linux; Android 6.0.1; Nexus 5X Bui...        2086.224405   \n",
       "                      Googlebot-Image/1.0                                         10.881024   \n",
       "...                                                                                     ...   \n",
       "300   35.26.123.225   Mozilla/5.0 (iPhone; CPU iPhone OS 14_4 like Ma...       13323.384497   \n",
       "      35.33.222.66    Mozilla/5.0 (Linux; Android 11; SAMSUNG SM-A715...       12059.545385   \n",
       "      37.192.112.41   Mozilla/5.0 (X11; Linux x86_64) AppleWebKit/537...        1090.317361   \n",
       "      67.149.194.62   Mozilla/5.0 (Windows NT 10.0; Win64; x64) Apple...          10.192269   \n",
       "      92.130.186.37   Mozilla/5.0 (Linux; Android 8.0.0; SM-G570F) Ap...        8728.330690   \n",
       "\n",
       "                                                                          std_time_interval  \\\n",
       "index client_ip       user_agent                                                              \n",
       "0     126.145.72.90   FreshpingBot/1.0 (+https://freshping.io/)                         NaN   \n",
       "      14.6.66.228     Mozilla/5.0 (Linux; Android 8.1.0; BKK-LX2) App...       1.146064e+12   \n",
       "      186.236.39.213  Mozilla/5.0+(compatible; UptimeRobot/2.0; http:...                NaN   \n",
       "      207.213.193.143 Mozilla/5.0 (Linux; Android 6.0.1; Nexus 5X Bui...       5.125356e+11   \n",
       "                      Googlebot-Image/1.0                                      1.937202e+11   \n",
       "...                                                                                     ...   \n",
       "300   35.26.123.225   Mozilla/5.0 (iPhone; CPU iPhone OS 14_4 like Ma...       1.704118e+04   \n",
       "      35.33.222.66    Mozilla/5.0 (Linux; Android 11; SAMSUNG SM-A715...       2.914177e+04   \n",
       "      37.192.112.41   Mozilla/5.0 (X11; Linux x86_64) AppleWebKit/537...       1.965528e+11   \n",
       "      67.149.194.62   Mozilla/5.0 (Windows NT 10.0; Win64; x64) Apple...       1.756417e+04   \n",
       "      92.130.186.37   Mozilla/5.0 (Linux; Android 8.0.0; SM-G570F) Ap...       6.016513e+03   \n",
       "\n",
       "                                                                          is_pc  \\\n",
       "index client_ip       user_agent                                                  \n",
       "0     126.145.72.90   FreshpingBot/1.0 (+https://freshping.io/)             0.0   \n",
       "      14.6.66.228     Mozilla/5.0 (Linux; Android 8.1.0; BKK-LX2) App...    0.0   \n",
       "      186.236.39.213  Mozilla/5.0+(compatible; UptimeRobot/2.0; http:...    0.0   \n",
       "      207.213.193.143 Mozilla/5.0 (Linux; Android 6.0.1; Nexus 5X Bui...    0.0   \n",
       "                      Googlebot-Image/1.0                                   0.0   \n",
       "...                                                                         ...   \n",
       "300   35.26.123.225   Mozilla/5.0 (iPhone; CPU iPhone OS 14_4 like Ma...    0.0   \n",
       "      35.33.222.66    Mozilla/5.0 (Linux; Android 11; SAMSUNG SM-A715...    0.0   \n",
       "      37.192.112.41   Mozilla/5.0 (X11; Linux x86_64) AppleWebKit/537...   68.0   \n",
       "      67.149.194.62   Mozilla/5.0 (Windows NT 10.0; Win64; x64) Apple...   17.0   \n",
       "      92.130.186.37   Mozilla/5.0 (Linux; Android 8.0.0; SM-G570F) Ap...    0.0   \n",
       "\n",
       "                                                                           Get  \\\n",
       "index client_ip       user_agent                                                 \n",
       "0     126.145.72.90   FreshpingBot/1.0 (+https://freshping.io/)            1.0   \n",
       "      14.6.66.228     Mozilla/5.0 (Linux; Android 8.1.0; BKK-LX2) App...   2.0   \n",
       "      186.236.39.213  Mozilla/5.0+(compatible; UptimeRobot/2.0; http:...   0.0   \n",
       "      207.213.193.143 Mozilla/5.0 (Linux; Android 6.0.1; Nexus 5X Bui...  10.0   \n",
       "                      Googlebot-Image/1.0                                 70.0   \n",
       "...                                                                        ...   \n",
       "300   35.26.123.225   Mozilla/5.0 (iPhone; CPU iPhone OS 14_4 like Ma...  36.0   \n",
       "      35.33.222.66    Mozilla/5.0 (Linux; Android 11; SAMSUNG SM-A715...  36.0   \n",
       "      37.192.112.41   Mozilla/5.0 (X11; Linux x86_64) AppleWebKit/537...  65.0   \n",
       "      67.149.194.62   Mozilla/5.0 (Windows NT 10.0; Win64; x64) Apple...  17.0   \n",
       "      92.130.186.37   Mozilla/5.0 (Linux; Android 8.0.0; SM-G570F) Ap...  46.0   \n",
       "\n",
       "                                                                          Post  \\\n",
       "index client_ip       user_agent                                                 \n",
       "0     126.145.72.90   FreshpingBot/1.0 (+https://freshping.io/)            0.0   \n",
       "      14.6.66.228     Mozilla/5.0 (Linux; Android 8.1.0; BKK-LX2) App...   0.0   \n",
       "      186.236.39.213  Mozilla/5.0+(compatible; UptimeRobot/2.0; http:...   0.0   \n",
       "      207.213.193.143 Mozilla/5.0 (Linux; Android 6.0.1; Nexus 5X Bui...   0.0   \n",
       "                      Googlebot-Image/1.0                                  0.0   \n",
       "...                                                                        ...   \n",
       "300   35.26.123.225   Mozilla/5.0 (iPhone; CPU iPhone OS 14_4 like Ma...   0.0   \n",
       "      35.33.222.66    Mozilla/5.0 (Linux; Android 11; SAMSUNG SM-A715...   0.0   \n",
       "      37.192.112.41   Mozilla/5.0 (X11; Linux x86_64) AppleWebKit/537...   0.0   \n",
       "      67.149.194.62   Mozilla/5.0 (Windows NT 10.0; Win64; x64) Apple...   0.0   \n",
       "      92.130.186.37   Mozilla/5.0 (Linux; Android 8.0.0; SM-G570F) Ap...   2.0   \n",
       "\n",
       "                                                                          image  \\\n",
       "index client_ip       user_agent                                                  \n",
       "0     126.145.72.90   FreshpingBot/1.0 (+https://freshping.io/)             0.0   \n",
       "      14.6.66.228     Mozilla/5.0 (Linux; Android 8.1.0; BKK-LX2) App...    2.0   \n",
       "      186.236.39.213  Mozilla/5.0+(compatible; UptimeRobot/2.0; http:...    0.0   \n",
       "      207.213.193.143 Mozilla/5.0 (Linux; Android 6.0.1; Nexus 5X Bui...    0.0   \n",
       "                      Googlebot-Image/1.0                                  12.0   \n",
       "...                                                                         ...   \n",
       "300   35.26.123.225   Mozilla/5.0 (iPhone; CPU iPhone OS 14_4 like Ma...   20.0   \n",
       "      35.33.222.66    Mozilla/5.0 (Linux; Android 11; SAMSUNG SM-A715...   20.0   \n",
       "      37.192.112.41   Mozilla/5.0 (X11; Linux x86_64) AppleWebKit/537...   23.0   \n",
       "      67.149.194.62   Mozilla/5.0 (Windows NT 10.0; Win64; x64) Apple...    5.0   \n",
       "      92.130.186.37   Mozilla/5.0 (Linux; Android 8.0.0; SM-G570F) Ap...   17.0   \n",
       "\n",
       "                                                                          400  \\\n",
       "index client_ip       user_agent                                                \n",
       "0     126.145.72.90   FreshpingBot/1.0 (+https://freshping.io/)           0.0   \n",
       "      14.6.66.228     Mozilla/5.0 (Linux; Android 8.1.0; BKK-LX2) App...  0.0   \n",
       "      186.236.39.213  Mozilla/5.0+(compatible; UptimeRobot/2.0; http:...  0.0   \n",
       "      207.213.193.143 Mozilla/5.0 (Linux; Android 6.0.1; Nexus 5X Bui...  0.0   \n",
       "                      Googlebot-Image/1.0                                 0.0   \n",
       "...                                                                       ...   \n",
       "300   35.26.123.225   Mozilla/5.0 (iPhone; CPU iPhone OS 14_4 like Ma...  0.0   \n",
       "      35.33.222.66    Mozilla/5.0 (Linux; Android 11; SAMSUNG SM-A715...  0.0   \n",
       "      37.192.112.41   Mozilla/5.0 (X11; Linux x86_64) AppleWebKit/537...  0.0   \n",
       "      67.149.194.62   Mozilla/5.0 (Windows NT 10.0; Win64; x64) Apple...  0.0   \n",
       "      92.130.186.37   Mozilla/5.0 (Linux; Android 8.0.0; SM-G570F) Ap...  0.0   \n",
       "\n",
       "                                                                          html/css  \\\n",
       "index client_ip       user_agent                                                     \n",
       "0     126.145.72.90   FreshpingBot/1.0 (+https://freshping.io/)           0.000000   \n",
       "      14.6.66.228     Mozilla/5.0 (Linux; Android 8.1.0; BKK-LX2) App...  0.000000   \n",
       "      186.236.39.213  Mozilla/5.0+(compatible; UptimeRobot/2.0; http:...  0.000000   \n",
       "      207.213.193.143 Mozilla/5.0 (Linux; Android 6.0.1; Nexus 5X Bui...  4.000000   \n",
       "                      Googlebot-Image/1.0                                 0.000000   \n",
       "...                                                                            ...   \n",
       "300   35.26.123.225   Mozilla/5.0 (iPhone; CPU iPhone OS 14_4 like Ma...  0.636364   \n",
       "      35.33.222.66    Mozilla/5.0 (Linux; Android 11; SAMSUNG SM-A715...  0.900000   \n",
       "      37.192.112.41   Mozilla/5.0 (X11; Linux x86_64) AppleWebKit/537...  2.750000   \n",
       "      67.149.194.62   Mozilla/5.0 (Windows NT 10.0; Win64; x64) Apple...  5.000000   \n",
       "      92.130.186.37   Mozilla/5.0 (Linux; Android 8.0.0; SM-G570F) Ap...  2.777778   \n",
       "\n",
       "                                                                          4xx/200  \\\n",
       "index client_ip       user_agent                                                    \n",
       "0     126.145.72.90   FreshpingBot/1.0 (+https://freshping.io/)              0.00   \n",
       "      14.6.66.228     Mozilla/5.0 (Linux; Android 8.1.0; BKK-LX2) App...     0.00   \n",
       "      186.236.39.213  Mozilla/5.0+(compatible; UptimeRobot/2.0; http:...     0.00   \n",
       "      207.213.193.143 Mozilla/5.0 (Linux; Android 6.0.1; Nexus 5X Bui...     0.00   \n",
       "                      Googlebot-Image/1.0                                    0.00   \n",
       "...                                                                           ...   \n",
       "300   35.26.123.225   Mozilla/5.0 (iPhone; CPU iPhone OS 14_4 like Ma...     0.00   \n",
       "      35.33.222.66    Mozilla/5.0 (Linux; Android 11; SAMSUNG SM-A715...     0.00   \n",
       "      37.192.112.41   Mozilla/5.0 (X11; Linux x86_64) AppleWebKit/537...     0.00   \n",
       "      67.149.194.62   Mozilla/5.0 (Windows NT 10.0; Win64; x64) Apple...     0.75   \n",
       "      92.130.186.37   Mozilla/5.0 (Linux; Android 8.0.0; SM-G570F) Ap...     0.00   \n",
       "\n",
       "                                                                                   location  \\\n",
       "index client_ip       user_agent                                                              \n",
       "0     126.145.72.90   FreshpingBot/1.0 (+https://freshping.io/)                       Japan   \n",
       "      14.6.66.228     Mozilla/5.0 (Linux; Android 8.1.0; BKK-LX2) App...  Republic of Korea   \n",
       "      186.236.39.213  Mozilla/5.0+(compatible; UptimeRobot/2.0; http:...             Brazil   \n",
       "      207.213.193.143 Mozilla/5.0 (Linux; Android 6.0.1; Nexus 5X Bui...      United States   \n",
       "                      Googlebot-Image/1.0                                     United States   \n",
       "...                                                                                     ...   \n",
       "300   35.26.123.225   Mozilla/5.0 (iPhone; CPU iPhone OS 14_4 like Ma...      United States   \n",
       "      35.33.222.66    Mozilla/5.0 (Linux; Android 11; SAMSUNG SM-A715...      United States   \n",
       "      37.192.112.41   Mozilla/5.0 (X11; Linux x86_64) AppleWebKit/537...             Russia   \n",
       "      67.149.194.62   Mozilla/5.0 (Windows NT 10.0; Win64; x64) Apple...      United States   \n",
       "      92.130.186.37   Mozilla/5.0 (Linux; Android 8.0.0; SM-G570F) Ap...             France   \n",
       "\n",
       "                                                                          lf_time_interval  \\\n",
       "index client_ip       user_agent                                                             \n",
       "0     126.145.72.90   FreshpingBot/1.0 (+https://freshping.io/)                          0   \n",
       "      14.6.66.228     Mozilla/5.0 (Linux; Android 8.1.0; BKK-LX2) App...        5000000000   \n",
       "      186.236.39.213  Mozilla/5.0+(compatible; UptimeRobot/2.0; http:...                 0   \n",
       "      207.213.193.143 Mozilla/5.0 (Linux; Android 6.0.1; Nexus 5X Bui...       91000000000   \n",
       "                      Googlebot-Image/1.0                                     119000000000   \n",
       "...                                                                                    ...   \n",
       "300   35.26.123.225   Mozilla/5.0 (iPhone; CPU iPhone OS 14_4 like Ma...       86000000000   \n",
       "      35.33.222.66    Mozilla/5.0 (Linux; Android 11; SAMSUNG SM-A715...       81000000000   \n",
       "      37.192.112.41   Mozilla/5.0 (X11; Linux x86_64) AppleWebKit/537...       16000000000   \n",
       "      67.149.194.62   Mozilla/5.0 (Windows NT 10.0; Win64; x64) Apple...       65000000000   \n",
       "      92.130.186.37   Mozilla/5.0 (Linux; Android 8.0.0; SM-G570F) Ap...       82000000000   \n",
       "\n",
       "                                                                          max_depth  \\\n",
       "index client_ip       user_agent                                                      \n",
       "0     126.145.72.90   FreshpingBot/1.0 (+https://freshping.io/)                   1   \n",
       "      14.6.66.228     Mozilla/5.0 (Linux; Android 8.1.0; BKK-LX2) App...          1   \n",
       "      186.236.39.213  Mozilla/5.0+(compatible; UptimeRobot/2.0; http:...          1   \n",
       "      207.213.193.143 Mozilla/5.0 (Linux; Android 6.0.1; Nexus 5X Bui...          4   \n",
       "                      Googlebot-Image/1.0                                         3   \n",
       "...                                                                             ...   \n",
       "300   35.26.123.225   Mozilla/5.0 (iPhone; CPU iPhone OS 14_4 like Ma...          4   \n",
       "      35.33.222.66    Mozilla/5.0 (Linux; Android 11; SAMSUNG SM-A715...          4   \n",
       "      37.192.112.41   Mozilla/5.0 (X11; Linux x86_64) AppleWebKit/537...          4   \n",
       "      67.149.194.62   Mozilla/5.0 (Windows NT 10.0; Win64; x64) Apple...          3   \n",
       "      92.130.186.37   Mozilla/5.0 (Linux; Android 8.0.0; SM-G570F) Ap...          4   \n",
       "\n",
       "                                                                          std_depth  \\\n",
       "index client_ip       user_agent                                                      \n",
       "0     126.145.72.90   FreshpingBot/1.0 (+https://freshping.io/)                 NaN   \n",
       "      14.6.66.228     Mozilla/5.0 (Linux; Android 8.1.0; BKK-LX2) App...   0.000000   \n",
       "      186.236.39.213  Mozilla/5.0+(compatible; UptimeRobot/2.0; http:...        NaN   \n",
       "      207.213.193.143 Mozilla/5.0 (Linux; Android 6.0.1; Nexus 5X Bui...   1.154701   \n",
       "                      Googlebot-Image/1.0                                  0.759208   \n",
       "...                                                                             ...   \n",
       "300   35.26.123.225   Mozilla/5.0 (iPhone; CPU iPhone OS 14_4 like Ma...   0.823292   \n",
       "      35.33.222.66    Mozilla/5.0 (Linux; Android 11; SAMSUNG SM-A715...   0.846522   \n",
       "      37.192.112.41   Mozilla/5.0 (X11; Linux x86_64) AppleWebKit/537...   0.938284   \n",
       "      67.149.194.62   Mozilla/5.0 (Windows NT 10.0; Win64; x64) Apple...   0.664211   \n",
       "      92.130.186.37   Mozilla/5.0 (Linux; Android 8.0.0; SM-G570F) Ap...   1.027848   \n",
       "\n",
       "                                                                          number_of_requests  \\\n",
       "index client_ip       user_agent                                                               \n",
       "0     126.145.72.90   FreshpingBot/1.0 (+https://freshping.io/)                            1   \n",
       "      14.6.66.228     Mozilla/5.0 (Linux; Android 8.1.0; BKK-LX2) App...                   2   \n",
       "      186.236.39.213  Mozilla/5.0+(compatible; UptimeRobot/2.0; http:...                   1   \n",
       "      207.213.193.143 Mozilla/5.0 (Linux; Android 6.0.1; Nexus 5X Bui...                  10   \n",
       "                      Googlebot-Image/1.0                                                 70   \n",
       "...                                                                                      ...   \n",
       "300   35.26.123.225   Mozilla/5.0 (iPhone; CPU iPhone OS 14_4 like Ma...                  38   \n",
       "      35.33.222.66    Mozilla/5.0 (Linux; Android 11; SAMSUNG SM-A715...                  39   \n",
       "      37.192.112.41   Mozilla/5.0 (X11; Linux x86_64) AppleWebKit/537...                  68   \n",
       "      67.149.194.62   Mozilla/5.0 (Windows NT 10.0; Win64; x64) Apple...                  17   \n",
       "      92.130.186.37   Mozilla/5.0 (Linux; Android 8.0.0; SM-G570F) Ap...                  51   \n",
       "\n",
       "                                                                          times_ip_changed  \\\n",
       "index client_ip       user_agent                                                             \n",
       "0     126.145.72.90   FreshpingBot/1.0 (+https://freshping.io/)                          6   \n",
       "      14.6.66.228     Mozilla/5.0 (Linux; Android 8.1.0; BKK-LX2) App...                 2   \n",
       "      186.236.39.213  Mozilla/5.0+(compatible; UptimeRobot/2.0; http:...                 1   \n",
       "      207.213.193.143 Mozilla/5.0 (Linux; Android 6.0.1; Nexus 5X Bui...                 5   \n",
       "                      Googlebot-Image/1.0                                                3   \n",
       "...                                                                                    ...   \n",
       "300   35.26.123.225   Mozilla/5.0 (iPhone; CPU iPhone OS 14_4 like Ma...                 1   \n",
       "      35.33.222.66    Mozilla/5.0 (Linux; Android 11; SAMSUNG SM-A715...                 2   \n",
       "      37.192.112.41   Mozilla/5.0 (X11; Linux x86_64) AppleWebKit/537...                 1   \n",
       "      67.149.194.62   Mozilla/5.0 (Windows NT 10.0; Win64; x64) Apple...                 1   \n",
       "      92.130.186.37   Mozilla/5.0 (Linux; Android 8.0.0; SM-G570F) Ap...                 1   \n",
       "\n",
       "                                                                          is_bot  \n",
       "index client_ip       user_agent                                                  \n",
       "0     126.145.72.90   FreshpingBot/1.0 (+https://freshping.io/)                1  \n",
       "      14.6.66.228     Mozilla/5.0 (Linux; Android 8.1.0; BKK-LX2) App...       0  \n",
       "      186.236.39.213  Mozilla/5.0+(compatible; UptimeRobot/2.0; http:...       1  \n",
       "      207.213.193.143 Mozilla/5.0 (Linux; Android 6.0.1; Nexus 5X Bui...       1  \n",
       "                      Googlebot-Image/1.0                                      1  \n",
       "...                                                                          ...  \n",
       "300   35.26.123.225   Mozilla/5.0 (iPhone; CPU iPhone OS 14_4 like Ma...       0  \n",
       "      35.33.222.66    Mozilla/5.0 (Linux; Android 11; SAMSUNG SM-A715...       0  \n",
       "      37.192.112.41   Mozilla/5.0 (X11; Linux x86_64) AppleWebKit/537...       0  \n",
       "      67.149.194.62   Mozilla/5.0 (Windows NT 10.0; Win64; x64) Apple...       0  \n",
       "      92.130.186.37   Mozilla/5.0 (Linux; Android 8.0.0; SM-G570F) Ap...       0  \n",
       "\n",
       "[11574 rows x 20 columns]"
      ]
     },
     "execution_count": 47,
     "metadata": {},
     "output_type": "execute_result"
    }
   ],
   "source": [
    "train[forest_label==-1]"
   ]
  },
  {
   "cell_type": "code",
   "execution_count": 48,
   "metadata": {},
   "outputs": [
    {
     "data": {
      "text/plain": [
       "0    8984\n",
       "1    2590\n",
       "Name: is_bot, dtype: int64"
      ]
     },
     "execution_count": 48,
     "metadata": {},
     "output_type": "execute_result"
    }
   ],
   "source": [
    "train[forest_label==-1]['is_bot'].value_counts()"
   ]
  },
  {
   "cell_type": "code",
   "execution_count": 49,
   "metadata": {},
   "outputs": [
    {
     "data": {
      "text/plain": [
       "-1    0.223777\n",
       " 1    0.131939\n",
       "Name: is_bot, dtype: float64"
      ]
     },
     "execution_count": 49,
     "metadata": {},
     "output_type": "execute_result"
    }
   ],
   "source": [
    "train.groupby(forest_label).mean()['is_bot']"
   ]
  },
  {
   "cell_type": "code",
   "execution_count": 50,
   "metadata": {},
   "outputs": [
    {
     "data": {
      "text/plain": [
       "(-1    1.395883e+11\n",
       "  1    2.726500e+11\n",
       " Name: avg_time_interval, dtype: float64,\n",
       " -1    1.551468e+11\n",
       "  1    2.620466e+11\n",
       " Name: std_time_interval, dtype: float64)"
      ]
     },
     "execution_count": 50,
     "metadata": {},
     "output_type": "execute_result"
    }
   ],
   "source": [
    "train.groupby(forest_label).mean()['avg_time_interval'],train.groupby(forest_label).mean()['std_time_interval']"
   ]
  },
  {
   "cell_type": "code",
   "execution_count": 51,
   "metadata": {},
   "outputs": [
    {
     "data": {
      "text/plain": [
       "(-1     28967.234262\n",
       "  1    708000.000000\n",
       " Name: avg_time_interval, dtype: float64,\n",
       " -1     44037.862497\n",
       "  1    625728.439185\n",
       " Name: std_time_interval, dtype: float64)"
      ]
     },
     "execution_count": 51,
     "metadata": {},
     "output_type": "execute_result"
    }
   ],
   "source": [
    "train.groupby(forest_label).median()['avg_time_interval'],train.groupby(forest_label).median()['std_time_interval']"
   ]
  },
  {
   "cell_type": "code",
   "execution_count": 65,
   "metadata": {
    "scrolled": true
   },
   "outputs": [
    {
     "data": {
      "image/png": "[encoded data removed]",
      "text/plain": [
       "<Figure size 1080x432 with 2 Axes>"
      ]
     },
     "metadata": {},
     "output_type": "display_data"
    }
   ],
   "source": [
    "fig, axes= plt.subplots(1,2,figsize=(15,6))\n",
    "\n",
    "axes[0].hist(train[forest_label==-1]['avg_time_interval'],bins = 20)\n",
    "axes[0].set_title('Anomalous Requests')\n",
    "axes[1] = train[forest_label==1]['avg_time_interval'].hist(bins=20)\n",
    "plt.title('Normal Requests')\n",
    "plt.suptitle('Average Time Interval')\n",
    "plt.show()"
   ]
  },
  {
   "cell_type": "code",
   "execution_count": 66,
   "metadata": {
    "scrolled": true
   },
   "outputs": [
    {
     "data": {
      "text/plain": [
       "Text(0.5, 0.98, 'Average Standard Deviation of Time Intervals between Requests')"
      ]
     },
     "execution_count": 66,
     "metadata": {},
     "output_type": "execute_result"
    },
    {
     "data": {
      "image/png": "[encoded data removed]",
      "text/plain": [
       "<Figure size 1080x432 with 2 Axes>"
      ]
     },
     "metadata": {},
     "output_type": "display_data"
    }
   ],
   "source": [
    "fig, (axes1,axes2) = plt.subplots(1,2,figsize=(15,6) ,sharex=True)\n",
    "axes1.hist(train[forest_label==-1]['std_time_interval'],bins = 20)\n",
    "axes1.set_title('Anomalous Requests')\n",
    "axes2 = train[forest_label==1]['std_time_interval'].hist(bins=20)\n",
    "plt.title('Normal Requests')\n",
    "plt.suptitle('Average Standard Deviation of Time Intervals between Requests')"
   ]
  },
  {
   "cell_type": "code",
   "execution_count": 67,
   "metadata": {},
   "outputs": [
    {
     "data": {
      "text/plain": [
       "(-1    0.761011\n",
       "  1    0.417426\n",
       " Name: std_depth, dtype: float64,\n",
       " -1    49.331839\n",
       "  1     5.800604\n",
       " Name: number_of_requests, dtype: float64)"
      ]
     },
     "execution_count": 67,
     "metadata": {},
     "output_type": "execute_result"
    }
   ],
   "source": [
    "train.groupby(forest_label).mean()['std_depth'],train.groupby(forest_label).mean()['number_of_requests']"
   ]
  },
  {
   "cell_type": "code",
   "execution_count": 68,
   "metadata": {},
   "outputs": [
    {
     "data": {
      "text/plain": [
       "(-1    0.897634\n",
       "  1    0.363137\n",
       " Name: std_depth, dtype: float64,\n",
       " -1    42\n",
       "  1     2\n",
       " Name: number_of_requests, dtype: int64)"
      ]
     },
     "execution_count": 68,
     "metadata": {},
     "output_type": "execute_result"
    }
   ],
   "source": [
    "train.groupby(forest_label).median()['std_depth'],train.groupby(forest_label).median()['number_of_requests']"
   ]
  },
  {
   "cell_type": "code",
   "execution_count": 69,
   "metadata": {},
   "outputs": [
    {
     "data": {
      "text/plain": [
       "(-1    2\n",
       "  1    6\n",
       " Name: times_ip_changed, dtype: int64,\n",
       " -1    13.803306\n",
       "  1    29.169603\n",
       " Name: times_ip_changed, dtype: float64)"
      ]
     },
     "execution_count": 69,
     "metadata": {},
     "output_type": "execute_result"
    }
   ],
   "source": [
    "train.groupby(forest_label).median()['times_ip_changed'],train.groupby(forest_label).mean()['times_ip_changed']"
   ]
  },
  {
   "cell_type": "code",
   "execution_count": 70,
   "metadata": {
    "scrolled": true
   },
   "outputs": [
    {
     "data": {
      "text/plain": [
       "Text(0.5, 0.98, 'Average Standard Deviation of Depth between Requests')"
      ]
     },
     "execution_count": 70,
     "metadata": {},
     "output_type": "execute_result"
    },
    {
     "data": {
      "image/png": "[encoded data removed]",
      "text/plain": [
       "<Figure size 1080x432 with 2 Axes>"
      ]
     },
     "metadata": {},
     "output_type": "display_data"
    }
   ],
   "source": [
    "fig, (axes1,axes2) = plt.subplots(1,2,figsize=(15,6) ,sharex=True)\n",
    "axes1.hist(train[forest_label==-1]['std_depth'],bins = 20)\n",
    "axes1.set_title('Anomalous Requests')\n",
    "axes2 = train[forest_label==1]['std_depth'].hist(bins=20)\n",
    "plt.title('Normal Requests')\n",
    "plt.suptitle('Average Standard Deviation of Depth between Requests')"
   ]
  },
  {
   "cell_type": "code",
   "execution_count": 71,
   "metadata": {
    "scrolled": true
   },
   "outputs": [
    {
     "data": {
      "text/plain": [
       "Text(0.5, 0.98, 'Average Number of Requests in 2 Minutes')"
      ]
     },
     "execution_count": 71,
     "metadata": {},
     "output_type": "execute_result"
    },
    {
     "data": {
      "image/png": "[encoded data removed]",
      "text/plain": [
       "<Figure size 1080x432 with 2 Axes>"
      ]
     },
     "metadata": {},
     "output_type": "display_data"
    }
   ],
   "source": [
    "fig, (axes1,axes2) = plt.subplots(1,2,figsize=(15,6) ,sharex=True)\n",
    "axes1.hist(train[forest_label==-1]['number_of_requests'],bins = 20)\n",
    "axes1.set_title('Anomalous Requests')\n",
    "axes2 = train[forest_label==1]['number_of_requests'].hist(bins=20)\n",
    "plt.title('Normal Requests')\n",
    "plt.suptitle('Average Number of Requests in 2 Minutes')"
   ]
  },
  {
   "cell_type": "code",
   "execution_count": 72,
   "metadata": {},
   "outputs": [
    {
     "data": {
      "text/plain": [
       "(-1    3.510364\n",
       "  1    0.091967\n",
       " Name: html/css, dtype: float64,\n",
       " -1    0.104324\n",
       "  1    0.000432\n",
       " Name: 4xx/200, dtype: float64)"
      ]
     },
     "execution_count": 72,
     "metadata": {},
     "output_type": "execute_result"
    }
   ],
   "source": [
    "train.groupby(forest_label).mean()['html/css'],train.groupby(forest_label).mean()['4xx/200']\n"
   ]
  },
  {
   "cell_type": "code",
   "execution_count": 73,
   "metadata": {},
   "outputs": [
    {
     "data": {
      "text/plain": [
       "(-1    1.857143\n",
       "  1    0.000000\n",
       " Name: html/css, dtype: float64,\n",
       " -1    0.0\n",
       "  1    0.0\n",
       " Name: 4xx/200, dtype: float64)"
      ]
     },
     "execution_count": 73,
     "metadata": {},
     "output_type": "execute_result"
    }
   ],
   "source": [
    "train.groupby(forest_label).median()['html/css'],train.groupby(forest_label).median()['4xx/200']"
   ]
  },
  {
   "cell_type": "code",
   "execution_count": 74,
   "metadata": {
    "scrolled": true
   },
   "outputs": [
    {
     "data": {
      "text/plain": [
       "Text(0.5, 0.98, 'Average Value of html/css between Requests')"
      ]
     },
     "execution_count": 74,
     "metadata": {},
     "output_type": "execute_result"
    },
    {
     "data": {
      "image/png": "[encoded data removed]",
      "text/plain": [
       "<Figure size 1080x432 with 2 Axes>"
      ]
     },
     "metadata": {},
     "output_type": "display_data"
    }
   ],
   "source": [
    "fig, (axes1,axes2) = plt.subplots(1,2,figsize=(15,6) ,sharex=True)\n",
    "axes1.hist(train[forest_label==-1]['html/css'],bins = 20)\n",
    "axes1.set_title('Anomalous Requests')\n",
    "axes2 = train[forest_label==1]['html/css'].hist(bins=20)\n",
    "plt.title('Normal Requests')\n",
    "plt.suptitle('Average Value of html/css between Requests')"
   ]
  },
  {
   "cell_type": "code",
   "execution_count": 75,
   "metadata": {
    "scrolled": true
   },
   "outputs": [
    {
     "data": {
      "text/plain": [
       "Text(0.5, 0.98, 'Average Value of 4xx/200 Status Codes between Requests')"
      ]
     },
     "execution_count": 75,
     "metadata": {},
     "output_type": "execute_result"
    },
    {
     "data": {
      "image/png": "[encoded data removed]",
      "text/plain": [
       "<Figure size 1080x432 with 2 Axes>"
      ]
     },
     "metadata": {},
     "output_type": "display_data"
    }
   ],
   "source": [
    "fig, (axes1,axes2) = plt.subplots(1,2,figsize=(15,6) ,sharex=True)\n",
    "axes1.hist(train[forest_label==-1]['4xx/200'],bins = 20)\n",
    "axes1.set_title('Anomalous Requests')\n",
    "\n",
    "axes2 = train[forest_label==1]['4xx/200'].hist(bins=20)\n",
    "plt.title('Normal Requests')\n",
    "plt.suptitle('Average Value of 4xx/200 Status Codes between Requests')"
   ]
  },
  {
   "cell_type": "code",
   "execution_count": null,
   "metadata": {},
   "outputs": [],
   "source": []
  },
  {
   "cell_type": "code",
   "execution_count": 77,
   "metadata": {},
   "outputs": [],
   "source": [
    "from  sklearn.neighbors import LocalOutlierFactor\n",
    "LOF = LocalOutlierFactor(n_neighbors = 2, metric = \"manhattan\", contamination = 0.02,novelty=True)\n",
    "LOF.fit(scaled_test[forest_label==-1])\n",
    "lof_label = LOF.predict(scaled_test[forest_label==-1])"
   ]
  },
  {
   "cell_type": "code",
   "execution_count": 80,
   "metadata": {
    "scrolled": true
   },
   "outputs": [
    {
     "data": {
      "text/plain": [
       "<matplotlib.legend.Legend at 0x143103752b0>"
      ]
     },
     "execution_count": 80,
     "metadata": {},
     "output_type": "execute_result"
    },
    {
     "data": {
      "image/png": "[encoded data removed]",
      "text/plain": [
       "<Figure size 720x432 with 1 Axes>"
      ]
     },
     "metadata": {},
     "output_type": "display_data"
    }
   ],
   "source": [
    "sns.set_style('darkgrid')\n",
    "plt.figure(figsize=(10,6))\n",
    "plt.legend(forest_label)\n",
    "plt.scatter(DFpca[:,0],DFpca[:,1],c=lof_label,cmap='plasma')"
   ]
  },
  {
   "cell_type": "code",
   "execution_count": null,
   "metadata": {
    "scrolled": true
   },
   "outputs": [],
   "source": [
    "train[(forest_label==-1)][(lof_label==1)]"
   ]
  },
  {
   "cell_type": "code",
   "execution_count": 203,
   "metadata": {},
   "outputs": [
    {
     "data": {
      "text/plain": [
       "1    2426\n",
       "0     859\n",
       "Name: is_bot, dtype: int64"
      ]
     },
     "execution_count": 203,
     "metadata": {},
     "output_type": "execute_result"
    }
   ],
   "source": [
    "train[lof_label==-1]['is_bot'].value_counts()"
   ]
  },
  {
   "cell_type": "code",
   "execution_count": 204,
   "metadata": {},
   "outputs": [
    {
     "data": {
      "text/plain": [
       "-1    0.738508\n",
       " 1    0.124650\n",
       "Name: is_bot, dtype: float64"
      ]
     },
     "execution_count": 204,
     "metadata": {},
     "output_type": "execute_result"
    }
   ],
   "source": [
    "train.groupby(lof_label).mean()['is_bot']"
   ]
  },
  {
   "cell_type": "code",
   "execution_count": 205,
   "metadata": {},
   "outputs": [
    {
     "data": {
      "text/plain": [
       "(-1    3.184648e+10\n",
       "  1    2.667776e+11\n",
       " Name: avg_time_interval, dtype: float64,\n",
       " -1    6.059248e+10\n",
       "  1    2.536729e+11\n",
       " Name: std_time_interval, dtype: float64)"
      ]
     },
     "execution_count": 205,
     "metadata": {},
     "output_type": "execute_result"
    }
   ],
   "source": [
    "train.groupby(lof_label).mean()['avg_time_interval'],train.groupby(lof_label).mean()['std_time_interval']"
   ]
  },
  {
   "cell_type": "code",
   "execution_count": 206,
   "metadata": {},
   "outputs": [
    {
     "data": {
      "text/plain": [
       "(-1     95500.0\n",
       "  1    720000.0\n",
       " Name: avg_time_interval, dtype: float64,\n",
       " -1     45420.993678\n",
       "  1    632781.948082\n",
       " Name: std_time_interval, dtype: float64)"
      ]
     },
     "execution_count": 206,
     "metadata": {},
     "output_type": "execute_result"
    }
   ],
   "source": [
    "train.groupby(lof_label).median()['avg_time_interval'],train.groupby(lof_label).median()['std_time_interval']"
   ]
  },
  {
   "cell_type": "code",
   "execution_count": 207,
   "metadata": {},
   "outputs": [
    {
     "data": {
      "text/plain": [
       "(-1    0.455345\n",
       "  1    0.460955\n",
       " Name: std_depth, dtype: float64,\n",
       " -1    8.019178\n",
       "  1    9.624960\n",
       " Name: number_of_requests, dtype: float64)"
      ]
     },
     "execution_count": 207,
     "metadata": {},
     "output_type": "execute_result"
    }
   ],
   "source": [
    "train.groupby(lof_label).mean()['std_depth'],train.groupby(lof_label).mean()['number_of_requests']"
   ]
  },
  {
   "cell_type": "code",
   "execution_count": 208,
   "metadata": {},
   "outputs": [
    {
     "data": {
      "text/plain": [
       "(-1    0.468807\n",
       "  1    0.404520\n",
       " Name: std_depth, dtype: float64,\n",
       " -1    3\n",
       "  1    2\n",
       " Name: number_of_requests, dtype: int64)"
      ]
     },
     "execution_count": 208,
     "metadata": {},
     "output_type": "execute_result"
    }
   ],
   "source": [
    "train.groupby(lof_label).median()['std_depth'],train.groupby(lof_label).median()['number_of_requests']"
   ]
  },
  {
   "cell_type": "code",
   "execution_count": 209,
   "metadata": {},
   "outputs": [
    {
     "data": {
      "text/plain": [
       "(-1    0.311847\n",
       "  1    0.391108\n",
       " Name: html/css, dtype: float64,\n",
       " -1    0.005805\n",
       "  1    0.009557\n",
       " Name: 4xx/200, dtype: float64)"
      ]
     },
     "execution_count": 209,
     "metadata": {},
     "output_type": "execute_result"
    }
   ],
   "source": [
    "train.groupby(lof_label).mean()['html/css'],train.groupby(lof_label).mean()['4xx/200']\n"
   ]
  },
  {
   "cell_type": "code",
   "execution_count": 211,
   "metadata": {},
   "outputs": [
    {
     "data": {
      "text/plain": [
       "(-1    0.0\n",
       "  1    0.0\n",
       " Name: html/css, dtype: float64,\n",
       " -1    0.0\n",
       "  1    0.0\n",
       " Name: 4xx/200, dtype: float64)"
      ]
     },
     "execution_count": 211,
     "metadata": {},
     "output_type": "execute_result"
    }
   ],
   "source": [
    "train.groupby(lof_label).median()['html/css'],train.groupby(lof_label).median()['4xx/200']"
   ]
  },
  {
   "cell_type": "code",
   "execution_count": 212,
   "metadata": {},
   "outputs": [
    {
     "data": {
      "text/plain": [
       "(-1    8\n",
       "  1    6\n",
       " Name: times_ip_changed, dtype: int64,\n",
       " -1    10.924505\n",
       "  1    28.269355\n",
       " Name: times_ip_changed, dtype: float64)"
      ]
     },
     "execution_count": 212,
     "metadata": {},
     "output_type": "execute_result"
    }
   ],
   "source": [
    "train.groupby(lof_label).median()['times_ip_changed'],train.groupby(lof_label).mean()['times_ip_changed']"
   ]
  },
  {
   "cell_type": "code",
   "execution_count": null,
   "metadata": {},
   "outputs": [],
   "source": []
  },
  {
   "cell_type": "code",
   "execution_count": null,
   "metadata": {},
   "outputs": [],
   "source": []
  },
  {
   "cell_type": "code",
   "execution_count": 53,
   "metadata": {},
   "outputs": [],
   "source": [
    "labeled = train.reset_index(level=2)\n",
    "labeled['label'] = labeled['user_agent'].apply(lambda x:-1 if (str(x).lower().find('google')>=0 or\n",
    "                                                               str(x).lower().find('python')>=0)==True else 1)"
   ]
  },
  {
   "cell_type": "code",
   "execution_count": 54,
   "metadata": {},
   "outputs": [
    {
     "data": {
      "text/plain": [
       " 1    121199\n",
       "-1      9635\n",
       "Name: label, dtype: int64"
      ]
     },
     "execution_count": 54,
     "metadata": {},
     "output_type": "execute_result"
    }
   ],
   "source": [
    "labeled['label'].value_counts()"
   ]
  },
  {
   "cell_type": "code",
   "execution_count": null,
   "metadata": {},
   "outputs": [],
   "source": [
    "labeled= labeled.drop('model_label',axis=1)"
   ]
  },
  {
   "cell_type": "code",
   "execution_count": 480,
   "metadata": {},
   "outputs": [],
   "source": [
    "labeled = pd.concat( [labeled.reset_index(),pd.DataFrame(forest_label)],axis=1)"
   ]
  },
  {
   "cell_type": "code",
   "execution_count": 481,
   "metadata": {},
   "outputs": [],
   "source": [
    "labeled = labeled.reset_index()\n",
    "labeled = labeled.drop('level_0',axis=1)\n",
    "labeled = labeled.set_index(['index','client_ip','user_agent'])"
   ]
  },
  {
   "cell_type": "code",
   "execution_count": 482,
   "metadata": {},
   "outputs": [],
   "source": [
    "labeled.columns = ['med_response_length','med_depth','avg_response_time','avg_time_interval','std_response_time',\n",
    "                   'std_time_interval','is_pc','Get','Post','image','400','html/css','4xx/200','location','lf_time_interval',\n",
    "                   'max_depth','std_depth','number_of_requests','is_bot','label','model_label']"
   ]
  },
  {
   "cell_type": "code",
   "execution_count": 483,
   "metadata": {},
   "outputs": [
    {
     "data": {
      "text/plain": [
       " 1    121675\n",
       "-1      9159\n",
       "Name: model_label, dtype: int64"
      ]
     },
     "execution_count": 483,
     "metadata": {},
     "output_type": "execute_result"
    }
   ],
   "source": [
    "labeled['model_label'].value_counts()"
   ]
  },
  {
   "cell_type": "code",
   "execution_count": 484,
   "metadata": {},
   "outputs": [
    {
     "name": "stdout",
     "output_type": "stream",
     "text": [
      "              precision    recall  f1-score   support\n",
      "\n",
      "          -1       0.04      0.04      0.04      9635\n",
      "           1       0.92      0.93      0.93    121199\n",
      "\n",
      "    accuracy                           0.86    130834\n",
      "   macro avg       0.48      0.48      0.48    130834\n",
      "weighted avg       0.86      0.86      0.86    130834\n",
      "\n",
      "[[   347   9288]\n",
      " [  8812 112387]]\n"
     ]
    }
   ],
   "source": [
    "from sklearn.metrics import classification_report,confusion_matrix,f1_score\n",
    "print(classification_report(labeled['label'],labeled['model_label']))\n",
    "print(confusion_matrix(labeled['label'],labeled['model_label']))\n"
   ]
  },
  {
   "cell_type": "code",
   "execution_count": null,
   "metadata": {},
   "outputs": [],
   "source": []
  },
  {
   "cell_type": "code",
   "execution_count": null,
   "metadata": {},
   "outputs": [],
   "source": []
  }
 ],
 "metadata": {
  "kernelspec": {
   "display_name": "Python 3",
   "language": "python",
   "name": "python3"
  },
  "language_info": {
   "codemirror_mode": {
    "name": "ipython",
    "version": 3
   },
   "file_extension": ".py",
   "mimetype": "text/x-python",
   "name": "python",
   "nbconvert_exporter": "python",
   "pygments_lexer": "ipython3",
   "version": "3.8.3"
  }
 },
 "nbformat": 4,
 "nbformat_minor": 1
}
