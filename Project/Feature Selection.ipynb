{
 "cells": [
  {
   "cell_type": "code",
   "execution_count": 1,
   "metadata": {
    "collapsed": true
   },
   "outputs": [],
   "source": [
    "from __future__ import print_function\n",
    "import pandas as pd\n",
    "import numpy as np\n",
    "import re\n",
    "from tqdm import tqdm,trange\n",
    "import os\n",
    "import time\n",
    "import matplotlib.pyplot as plt\n",
    "import seaborn as sns"
   ]
  },
  {
   "cell_type": "code",
   "execution_count": 2,
   "metadata": {
    "pycharm": {
     "name": "#%%\n"
    }
   },
   "outputs": [],
   "source": [
    "os.chdir('C:\\\\Users\\\\ASUS\\\\PycharmProjects\\\\RahnemaProject')"
   ]
  },
  {
   "cell_type": "code",
   "execution_count": 3,
   "metadata": {
    "pycharm": {
     "name": "#%%\n"
    }
   },
   "outputs": [],
   "source": [
    "df = pd.read_csv('Feature_extracted.csv')"
   ]
  },
  {
   "cell_type": "code",
   "execution_count": 4,
   "metadata": {
    "pycharm": {
     "name": "#%%\n"
    }
   },
   "outputs": [],
   "source": [
    "method = pd.get_dummies(df['method'],drop_first=True)\n",
    "df = pd.concat([df,method],axis=1)"
   ]
  },
  {
   "cell_type": "code",
   "execution_count": 5,
   "metadata": {
    "pycharm": {
     "name": "#%%\n"
    }
   },
   "outputs": [],
   "source": [
    "from sklearn.preprocessing import LabelEncoder\n",
    "geole = LabelEncoder()"
   ]
  },
  {
   "cell_type": "code",
   "execution_count": 6,
   "metadata": {
    "pycharm": {
     "name": "#%%\n"
    }
   },
   "outputs": [],
   "source": [
    "df.loc[df['last_page'].isnull()==True,'last_page']= 'NaN'\n",
    "\n",
    "le = LabelEncoder()\n",
    "df['Le_coded_path']=le.fit_transform(df['coded_path'])\n",
    "df['le_last_page'] = df.groupby(['client_ip','user_agent'])['Le_coded_path'].shift(1)"
   ]
  },
  {
   "cell_type": "code",
   "execution_count": 7,
   "metadata": {
    "pycharm": {
     "name": "#%%\n"
    }
   },
   "outputs": [],
   "source": [
    "df.loc[df['le_last_page'].isnull()==True,'le_last_page']= df['le_last_page'].max()+1"
   ]
  },
  {
   "cell_type": "code",
   "execution_count": 8,
   "metadata": {
    "pycharm": {
     "name": "#%%\n"
    }
   },
   "outputs": [],
   "source": [
    "df['last_refer'] = df.loc[df['last_refer'].isnull()==True,'last_refer']= 0"
   ]
  },
  {
   "cell_type": "code",
   "execution_count": 9,
   "metadata": {
    "pycharm": {
     "name": "#%%\n"
    }
   },
   "outputs": [],
   "source": [
    "df.loc[df['geolocation'].isnull()==True,'geolocation']= 'NaN'"
   ]
  },
  {
   "cell_type": "code",
   "execution_count": 10,
   "metadata": {
    "pycharm": {
     "name": "#%%\n"
    }
   },
   "outputs": [],
   "source": [
    "df['geo_coded'] = geole.fit_transform(df['geolocation'])"
   ]
  },
  {
   "cell_type": "code",
   "execution_count": 11,
   "metadata": {
    "pycharm": {
     "name": "#%%\n"
    }
   },
   "outputs": [],
   "source": [
    "userLe = LabelEncoder()\n",
    "df['user_coded'] = userLe.fit_transform(df['user_agent'])"
   ]
  },
  {
   "cell_type": "code",
   "execution_count": 12,
   "metadata": {
    "pycharm": {
     "name": "#%%\n"
    }
   },
   "outputs": [],
   "source": [
    "ipLe = LabelEncoder()\n",
    "\n",
    "df['ip_encoded'] = ipLe.fit_transform(df['client_ip'])"
   ]
  },
  {
   "cell_type": "code",
   "execution_count": 13,
   "metadata": {
    "pycharm": {
     "name": "#%%\n"
    }
   },
   "outputs": [],
   "source": [
    "df.loc[df['response_time'].isnull()==True,'response_time']=0\n"
   ]
  },
  {
   "cell_type": "code",
   "execution_count": 123,
   "metadata": {
    "pycharm": {
     "name": "#%%\n"
    }
   },
   "outputs": [
    {
     "name": "stdout",
     "output_type": "stream",
     "text": [
      "<class 'pandas.core.frame.DataFrame'>\n",
      "RangeIndex: 1260035 entries, 0 to 1260034\n",
      "Data columns (total 21 columns):\n",
      " #   Column           Non-Null Count    Dtype  \n",
      "---  ------           --------------    -----  \n",
      " 0   client_ip        1260035 non-null  object \n",
      " 1   date_time        1260035 non-null  object \n",
      " 2   status_code      1260035 non-null  int64  \n",
      " 3   response_length  1260035 non-null  int64  \n",
      " 4   user_agent       1260035 non-null  object \n",
      " 5   response_time    1260035 non-null  float64\n",
      " 6   method           1260035 non-null  object \n",
      " 7   path             1260035 non-null  object \n",
      " 8   geolocation      1260035 non-null  object \n",
      " 9   last_refer       1260035 non-null  int64  \n",
      " 10  coded_path       1260035 non-null  object \n",
      " 11  last_page        1260035 non-null  object \n",
      " 12  Head             1260035 non-null  uint8  \n",
      " 13  Options          1260035 non-null  uint8  \n",
      " 14  Post             1260035 non-null  uint8  \n",
      " 15  Put              1260035 non-null  uint8  \n",
      " 16  Le_coded_path    1260035 non-null  int32  \n",
      " 17  le_last_page     1260035 non-null  float64\n",
      " 18  geo_coded        1260035 non-null  int32  \n",
      " 19  user_coded       1260035 non-null  int32  \n",
      " 20  ip_encoded       1260035 non-null  int32  \n",
      "dtypes: float64(2), int32(4), int64(3), object(8), uint8(4)\n",
      "memory usage: 149.0+ MB\n"
     ]
    }
   ],
   "source": [
    "df.info()\n"
   ]
  },
  {
   "cell_type": "code",
   "execution_count": 144,
   "metadata": {
    "pycharm": {
     "name": "#%%\n"
    }
   },
   "outputs": [],
   "source": [
    "date_time = pd.to_datetime(df['date_time']).astype(int)/10**6\n",
    "last_date_time = pd.to_datetime(df['date_time']).astype(int)/10**6"
   ]
  },
  {
   "cell_type": "code",
   "execution_count": 146,
   "metadata": {
    "pycharm": {
     "name": "#%%\n"
    }
   },
   "outputs": [],
   "source": [
    "model_df = df[['user_coded','ip_encoded','status_code','response_length','response_time','Head'\n",
    "               ,'Options','Post','Put','geo_coded','Le_coded_path','le_last_page']]"
   ]
  },
  {
   "cell_type": "code",
   "execution_count": 148,
   "metadata": {
    "pycharm": {
     "name": "#%%\n"
    }
   },
   "outputs": [],
   "source": [
    "model_df = pd.concat([model_df,date_time,last_date_time],axis=1)"
   ]
  },
  {
   "cell_type": "code",
   "execution_count": 149,
   "metadata": {
    "pycharm": {
     "name": "#%%\n"
    }
   },
   "outputs": [],
   "source": [
    "model_df.to_csv('processed_df.csv',index=False)"
   ]
  },
  {
   "cell_type": "markdown",
   "metadata": {},
   "source": [
    "---"
   ]
  },
  {
   "cell_type": "markdown",
   "metadata": {
    "pycharm": {
     "name": "#%% md\n"
    }
   },
   "source": [
    "---"
   ]
  },
  {
   "cell_type": "code",
   "execution_count": null,
   "metadata": {
    "pycharm": {
     "name": "#%%\n"
    }
   },
   "outputs": [],
   "source": [
    "df[(df['response_length']>0.4*10**4)&(df['response_time']>10**7)]"
   ]
  },
  {
   "cell_type": "code",
   "execution_count": null,
   "metadata": {
    "pycharm": {
     "name": "#%%\n"
    }
   },
   "outputs": [],
   "source": [
    "df[df['client_ip']=='244.3.200.14']"
   ]
  },
  {
   "cell_type": "code",
   "execution_count": 9,
   "metadata": {
    "pycharm": {
     "name": "#%%\n"
    }
   },
   "outputs": [
    {
     "data": {
      "text/plain": [
       "client_ip                                              78.157.60.161\n",
       "date_time                                  2021-05-12 12:41:12+04:30\n",
       "status_code                                                      101\n",
       "response_length                                               248408\n",
       "user_agent         Mozilla/5.0 (Windows NT 10.0; Win64; x64; rv:8...\n",
       "response_time                                            1.75047e+08\n",
       "method                                                           Get\n",
       "path                                       /api/v2/connect/806030186\n",
       "geolocation                                                     Iran\n",
       "last_refer                                 2021-05-12 11:46:43+04:30\n",
       "coded_path                                            12-18-22-37009\n",
       "last_page                                             12-18-22-27653\n",
       "Name: 774051, dtype: object"
      ]
     },
     "execution_count": 9,
     "metadata": {},
     "output_type": "execute_result"
    }
   ],
   "source": [
    "df.loc[df['response_time'].argmax()]"
   ]
  },
  {
   "cell_type": "code",
   "execution_count": null,
   "metadata": {
    "pycharm": {
     "name": "#%%\n"
    }
   },
   "outputs": [],
   "source": [
    "df[df['client_ip']=='78.157.60.161']"
   ]
  },
  {
   "cell_type": "code",
   "execution_count": 10,
   "metadata": {
    "pycharm": {
     "name": "#%%\n"
    }
   },
   "outputs": [
    {
     "data": {
      "text/plain": [
       "client_ip                                              14.226.145.71\n",
       "date_time                                  2021-05-12 13:09:15+04:30\n",
       "status_code                                                      200\n",
       "response_length                                            102233543\n",
       "user_agent         Mozilla/5.0 (Windows NT 10.0; Win64; x64) Appl...\n",
       "response_time                                                   6328\n",
       "method                                                           Get\n",
       "path                /cdn/downloads/videos/workshops/cat/session3.mp4\n",
       "geolocation                                                  Vietnam\n",
       "last_refer                                 2021-05-12 13:09:02+04:30\n",
       "coded_path                                      1-887-92-41632-41633\n",
       "last_page                                                          4\n",
       "Name: 899972, dtype: object"
      ]
     },
     "execution_count": 10,
     "metadata": {},
     "output_type": "execute_result"
    }
   ],
   "source": [
    "df.loc[df['response_length'].argmax()]\n",
    "\n"
   ]
  },
  {
   "cell_type": "code",
   "execution_count": null,
   "metadata": {
    "pycharm": {
     "name": "#%%\n"
    }
   },
   "outputs": [],
   "source": [
    "df[df['client_ip']=='14.226.145.71']"
   ]
  },
  {
   "cell_type": "code",
   "execution_count": null,
   "metadata": {
    "pycharm": {
     "name": "#%%\n"
    }
   },
   "outputs": [],
   "source": [
    "df.sort_values('response_time',ascending=False).head()"
   ]
  },
  {
   "cell_type": "code",
   "execution_count": 20,
   "metadata": {
    "pycharm": {
     "name": "#%%\n"
    }
   },
   "outputs": [],
   "source": [
    "list_index = df.sort_values('response_length',ascending=False).head().index"
   ]
  },
  {
   "cell_type": "code",
   "execution_count": 31,
   "metadata": {
    "pycharm": {
     "name": "#%%\n"
    }
   },
   "outputs": [],
   "source": [
    "new_df = df.drop(list(list_index))"
   ]
  }
 ],
 "metadata": {
  "kernelspec": {
   "display_name": "Python 3",
   "language": "python",
   "name": "python3"
  },
  "language_info": {
   "codemirror_mode": {
    "name": "ipython",
    "version": 3
   },
   "file_extension": ".py",
   "mimetype": "text/x-python",
   "name": "python",
   "nbconvert_exporter": "python",
   "pygments_lexer": "ipython3",
   "version": "3.8.3"
  }
 },
 "nbformat": 4,
 "nbformat_minor": 1
}
