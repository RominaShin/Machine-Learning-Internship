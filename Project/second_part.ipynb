{
 "cells": [
  {
   "cell_type": "code",
   "execution_count": 1,
   "metadata": {},
   "outputs": [],
   "source": [
    "from __future__ import print_function\n",
    "import pandas as pd\n",
    "import numpy as np\n",
    "import re\n",
    "from tqdm import tqdm,trange\n",
    "import os\n",
    "import time\n",
    "import matplotlib.pyplot as plt\n",
    "import seaborn as sns\n",
    "import pickle"
   ]
  },
  {
   "cell_type": "code",
   "execution_count": 2,
   "metadata": {
    "pycharm": {
     "name": "#%%\n"
    }
   },
   "outputs": [],
   "source": [
    "os.chdir('C:\\\\Users\\\\ASUS\\\\PycharmProjects\\\\RahnemaProject')"
   ]
  },
  {
   "cell_type": "code",
   "execution_count": 3,
   "metadata": {
    "pycharm": {
     "name": "#%%\n"
    }
   },
   "outputs": [],
   "source": [
    "df = pd.read_csv('Feature_extracted.csv')\n",
    "#df = df.drop('Unnamed: 0',axis=1)"
   ]
  },
  {
   "cell_type": "code",
   "execution_count": 4,
   "metadata": {
    "pycharm": {
     "name": "#%%\n"
    }
   },
   "outputs": [],
   "source": [
    "df = df.sort_values('date_time')"
   ]
  },
  {
   "cell_type": "code",
   "execution_count": 5,
   "metadata": {
    "pycharm": {
     "name": "#%%\n"
    }
   },
   "outputs": [],
   "source": [
    "df = df.reset_index()"
   ]
  },
  {
   "cell_type": "code",
   "execution_count": 6,
   "metadata": {
    "pycharm": {
     "name": "#%%\n"
    }
   },
   "outputs": [],
   "source": [
    "df = df.drop('index',axis=1)"
   ]
  },
  {
   "cell_type": "code",
   "execution_count": null,
   "metadata": {
    "pycharm": {
     "name": "#%%\n"
    }
   },
   "outputs": [],
   "source": [
    "with open('anomaly_index.txt','rb') as file:\n",
    "    indices = pickle.load(file)"
   ]
  },
  {
   "cell_type": "code",
   "execution_count": 9,
   "metadata": {
    "pycharm": {
     "name": "#%%\n"
    }
   },
   "outputs": [],
   "source": [
    "anomaly = df.drop(list(indices))\n",
    "anomaly.tail(20)"
   ]
  },
  {
   "cell_type": "code",
   "execution_count": 14,
   "metadata": {
    "pycharm": {
     "name": "#%%\n"
    }
   },
   "outputs": [],
   "source": [
    "df['auth'] =  df['path'].apply(lambda x:x if x.split('/')[-1].endswith('.html') else 0 )\n",
    "df[df['auth']!=0]['path'].value_counts()"
   ]
  },
  {
   "cell_type": "code",
   "execution_count": 17,
   "metadata": {
    "pycharm": {
     "name": "#%%\n"
    }
   },
   "outputs": [],
   "source": [
    "df['login'] = df['path'].apply(lambda x:x if 'login' in x.split('/') else 0 )\n",
    "df[df['login']!=0]"
   ]
  },
  {
   "cell_type": "code",
   "execution_count": null,
   "metadata": {
    "pycharm": {
     "name": "#%%\n"
    }
   },
   "outputs": [],
   "source": []
  },
  {
   "cell_type": "markdown",
   "metadata": {
    "pycharm": {
     "name": "#%% md\n"
    }
   },
   "source": [
    "new features\n",
    "---\n",
    "\n"
   ]
  },
  {
   "cell_type": "code",
   "execution_count": 7,
   "metadata": {
    "pycharm": {
     "name": "#%%\n"
    }
   },
   "outputs": [],
   "source": [
    "from user_agents import parse\n",
    "df['is_pc'] = df['user_agent'].apply(lambda x:parse(x).is_pc)"
   ]
  },
  {
   "cell_type": "code",
   "execution_count": 8,
   "metadata": {
    "pycharm": {
     "name": "#%%\n"
    }
   },
   "outputs": [],
   "source": [
    "df['is_pc'] = df['is_pc'].apply(lambda x:1 if x==True else 0)"
   ]
  },
  {
   "cell_type": "markdown",
   "metadata": {
    "pycharm": {
     "name": "#%% md\n"
    }
   },
   "source": [
    "---"
   ]
  },
  {
   "cell_type": "code",
   "execution_count": null,
   "metadata": {
    "pycharm": {
     "name": "#%%\n"
    }
   },
   "outputs": [],
   "source": [
    "#df.loc[df['response_time'].isnull()==True,'response_time']='NaN'"
   ]
  },
  {
   "cell_type": "code",
   "execution_count": 30,
   "metadata": {
    "pycharm": {
     "name": "#%%\n"
    }
   },
   "outputs": [],
   "source": [
    "df.loc[df['response_time'].isnull()==True,'response_time']=\\\n",
    "    df.loc[df['response_time'].isnull()==False,'response_time'].mean()"
   ]
  },
  {
   "cell_type": "code",
   "execution_count": null,
   "metadata": {
    "pycharm": {
     "name": "#%%\n"
    }
   },
   "outputs": [],
   "source": []
  },
  {
   "cell_type": "code",
   "execution_count": 9,
   "metadata": {
    "pycharm": {
     "name": "#%%\n"
    }
   },
   "outputs": [],
   "source": [
    "df['method'] =  df['method'].astype('category')\n",
    "df['status_code'] =  df['status_code'].astype('category')"
   ]
  },
  {
   "cell_type": "markdown",
   "metadata": {
    "pycharm": {
     "name": "#%% md\n"
    }
   },
   "source": [
    "---"
   ]
  },
  {
   "cell_type": "code",
   "execution_count": 10,
   "metadata": {
    "pycharm": {
     "name": "#%%\n"
    }
   },
   "outputs": [],
   "source": [
    "df.loc[df['geolocation'].isnull()==True,'geolocation'] = 'NaN'"
   ]
  },
  {
   "cell_type": "markdown",
   "metadata": {},
   "source": [
    "---"
   ]
  },
  {
   "cell_type": "code",
   "execution_count": 11,
   "metadata": {
    "pycharm": {
     "name": "#%%\n"
    }
   },
   "outputs": [],
   "source": [
    "df.loc[df['last_refer'].isnull()==True,'last_refer'] = 0\n",
    "df['date_time'] = pd.to_datetime(df['date_time']).astype(int)/10**6\n",
    "df.loc[df['last_refer']!=0,'last_refer'] = pd.to_datetime(df.loc[df['last_refer']!=0,'last_refer']).astype(int)/10**6\n",
    "df['time_interval'] = df.apply(lambda x:x['date_time']-x['last_refer'],axis=1)"
   ]
  },
  {
   "cell_type": "code",
   "execution_count": 74,
   "metadata": {
    "pycharm": {
     "name": "#%%\n"
    }
   },
   "outputs": [],
   "source": []
  },
  {
   "cell_type": "code",
   "execution_count": 12,
   "metadata": {
    "pycharm": {
     "name": "#%%\n"
    }
   },
   "outputs": [],
   "source": [
    "df['method'] =  df['method'].astype('category')\n",
    "df['status_code'] =  df['status_code'].astype('category')\n"
   ]
  },
  {
   "cell_type": "code",
   "execution_count": 13,
   "metadata": {
    "pycharm": {
     "name": "#%%\n"
    }
   },
   "outputs": [],
   "source": [
    "method = pd.get_dummies(df['method'])\n",
    "stat_code = pd.get_dummies(df['status_code'])"
   ]
  },
  {
   "cell_type": "code",
   "execution_count": 14,
   "metadata": {
    "pycharm": {
     "name": "#%%\n"
    }
   },
   "outputs": [],
   "source": [
    "method = method.drop(['Head','Options','Put'],axis=1)\n",
    "stat_code = stat_code.drop([101,206,301,307,308,500,503,405,408,413,401,403],axis=1)"
   ]
  },
  {
   "cell_type": "code",
   "execution_count": 15,
   "metadata": {
    "pycharm": {
     "name": "#%%\n"
    }
   },
   "outputs": [],
   "source": [
    "df.to_csv('feature_extracted_mid')\n",
    "df = pd.concat([df,method,stat_code],axis=1)\n",
    "df = df.drop(['status_code','method'],axis=1)"
   ]
  },
  {
   "cell_type": "code",
   "execution_count": null,
   "metadata": {
    "pycharm": {
     "name": "#%%\n"
    }
   },
   "outputs": [],
   "source": []
  },
  {
   "cell_type": "code",
   "execution_count": 17,
   "metadata": {
    "pycharm": {
     "name": "#%%\n"
    }
   },
   "outputs": [],
   "source": [
    "df['depth'] = df['path'].apply(lambda x:len(x.split('/'))-1)"
   ]
  },
  {
   "cell_type": "code",
   "execution_count": 18,
   "metadata": {
    "pycharm": {
     "name": "#%%\n"
    }
   },
   "outputs": [],
   "source": [
    "def get_page_type(path):\n",
    "    path = path.split('/')\n",
    "    if path[0]=='css'or path[0]=='fonts' or path[0] =='js' :\n",
    "        return 'css_font_js'\n",
    "    if path[0]=='images':\n",
    "        return 'image'\n",
    "    #if path[0]=='fonts':\n",
    "     #   return 'fonts'\n",
    "    #if path[0] =='js':\n",
    "     #   return 'Js'\n",
    "    if path[0]=='api':\n",
    "        return 'api'\n",
    "    else:\n",
    "        return 'html'\n",
    "\n",
    "df['page_type'] = df['path'].apply(lambda x:get_page_type(x))"
   ]
  },
  {
   "cell_type": "code",
   "execution_count": 32,
   "metadata": {},
   "outputs": [
    {
     "data": {
      "text/plain": [
       "<matplotlib.axes._subplots.AxesSubplot at 0x21ea3d66400>"
      ]
     },
     "execution_count": 32,
     "metadata": {},
     "output_type": "execute_result"
    },
    {
     "data": {
      "image/png": "[encoded data removed]",
      "text/plain": [
       "<Figure size 1080x576 with 1 Axes>"
      ]
     },
     "metadata": {},
     "output_type": "display_data"
    }
   ],
   "source": [
    "sns.set_style('darkgrid')\n",
    "plt.figure(figsize=(15,8))\n",
    "sns.color_palette(\"Set2\")\n",
    "sns.countplot(df['depth'],palette = 'cool')"
   ]
  },
  {
   "cell_type": "code",
   "execution_count": 33,
   "metadata": {},
   "outputs": [
    {
     "data": {
      "text/plain": [
       "<matplotlib.axes._subplots.AxesSubplot at 0x21e9f0f3400>"
      ]
     },
     "execution_count": 33,
     "metadata": {},
     "output_type": "execute_result"
    },
    {
     "data": {
      "image/png": "[encoded data removed]",
      "text/plain": [
       "<Figure size 1080x576 with 1 Axes>"
      ]
     },
     "metadata": {},
     "output_type": "display_data"
    }
   ],
   "source": [
    "sns.set_style('darkgrid')\n",
    "plt.figure(figsize=(15,8))\n",
    "sns.color_palette(\"Set2\")\n",
    "sns.countplot(df['page_type'],palette = 'cool')"
   ]
  },
  {
   "cell_type": "code",
   "execution_count": 20,
   "metadata": {},
   "outputs": [
    {
     "name": "stdout",
     "output_type": "stream",
     "text": [
      "<class 'pandas.core.frame.DataFrame'>\n",
      "RangeIndex: 1260035 entries, 0 to 1260034\n",
      "Data columns (total 21 columns):\n",
      " #   Column           Non-Null Count    Dtype  \n",
      "---  ------           --------------    -----  \n",
      " 0   client_ip        1260035 non-null  object \n",
      " 1   date_time        1260035 non-null  float64\n",
      " 2   response_length  1260035 non-null  int64  \n",
      " 3   user_agent       1260035 non-null  object \n",
      " 4   response_time    1258317 non-null  float64\n",
      " 5   path             1260035 non-null  object \n",
      " 6   geolocation      1260035 non-null  object \n",
      " 7   last_refer       1260035 non-null  object \n",
      " 8   coded_path       1260035 non-null  object \n",
      " 9   last_page        1208910 non-null  object \n",
      " 10  is_pc            1260035 non-null  int64  \n",
      " 11  time_interval    1260035 non-null  float64\n",
      " 12  Get              1260035 non-null  uint8  \n",
      " 13  Post             1260035 non-null  uint8  \n",
      " 14  200              1260035 non-null  uint8  \n",
      " 15  304              1260035 non-null  uint8  \n",
      " 16  400              1260035 non-null  uint8  \n",
      " 17  404              1260035 non-null  uint8  \n",
      " 18  499              1260035 non-null  uint8  \n",
      " 19  depth            1260035 non-null  int64  \n",
      " 20  page_type        1260035 non-null  object \n",
      "dtypes: float64(3), int64(3), object(8), uint8(7)\n",
      "memory usage: 143.0+ MB\n"
     ]
    }
   ],
   "source": [
    "df.info()"
   ]
  },
  {
   "cell_type": "code",
   "execution_count": 112,
   "metadata": {
    "pycharm": {
     "name": "#%%\n"
    }
   },
   "outputs": [],
   "source": [
    "page_type = pd.get_dummies(df['page_type'],drop_first=False)"
   ]
  },
  {
   "cell_type": "code",
   "execution_count": 114,
   "metadata": {
    "pycharm": {
     "name": "#%%\n"
    }
   },
   "outputs": [],
   "source": [
    "df = pd.concat([df,page_type],axis=1)\n",
    "df = df.drop('page_type',axis=1)"
   ]
  },
  {
   "cell_type": "code",
   "execution_count": 120,
   "metadata": {
    "pycharm": {
     "name": "#%%\n"
    }
   },
   "outputs": [],
   "source": [
    "df.to_csv('feature_extracted_mid.csv')"
   ]
  },
  {
   "cell_type": "code",
   "execution_count": 121,
   "metadata": {
    "pycharm": {
     "name": "#%%\n"
    }
   },
   "outputs": [],
   "source": [
    "df['cycle_count'] = df.apply(lambda x:1  if\n",
    "                            x['coded_path'].split('-')[-1]==x['last_page'].split('-')[0] else 0 , axis=1)"
   ]
  },
  {
   "cell_type": "code",
   "execution_count": null,
   "metadata": {
    "pycharm": {
     "name": "#%%\n"
    }
   },
   "outputs": [],
   "source": [
    "df[df['cycle_count']==1]"
   ]
  },
  {
   "cell_type": "code",
   "execution_count": null,
   "metadata": {
    "pycharm": {
     "name": "#%%\n"
    }
   },
   "outputs": [],
   "source": [
    "df.loc[df['last_page'].isnull()==True,'last_page'] = 'NaN'"
   ]
  },
  {
   "cell_type": "code",
   "execution_count": null,
   "metadata": {
    "pycharm": {
     "name": "#%%\n"
    }
   },
   "outputs": [],
   "source": [
    "df.info()"
   ]
  },
  {
   "cell_type": "code",
   "execution_count": null,
   "metadata": {
    "pycharm": {
     "name": "#%%\n"
    }
   },
   "outputs": [],
   "source": []
  },
  {
   "cell_type": "code",
   "execution_count": null,
   "metadata": {
    "pycharm": {
     "name": "#%%\n"
    }
   },
   "outputs": [],
   "source": [
    "df['coded_path'].value_counts()"
   ]
  },
  {
   "cell_type": "code",
   "execution_count": 99,
   "metadata": {
    "pycharm": {
     "name": "#%%\n"
    }
   },
   "outputs": [],
   "source": [
    "df.loc[df['last_page'].isnull()==True,'last_page'] = 'NaN'"
   ]
  },
  {
   "cell_type": "code",
   "execution_count": 115,
   "metadata": {
    "pycharm": {
     "name": "#%%\n"
    }
   },
   "outputs": [
    {
     "name": "stdout",
     "output_type": "stream",
     "text": [
      "<class 'pandas.core.frame.DataFrame'>\n",
      "RangeIndex: 1260035 entries, 0 to 1260034\n",
      "Data columns (total 23 columns):\n",
      " #   Column           Non-Null Count    Dtype  \n",
      "---  ------           --------------    -----  \n",
      " 0   client_ip        1260035 non-null  object \n",
      " 1   date_time        1260035 non-null  float64\n",
      " 2   response_length  1260035 non-null  int64  \n",
      " 3   user_agent       1260035 non-null  object \n",
      " 4   response_time    1260035 non-null  float64\n",
      " 5   path             1260035 non-null  object \n",
      " 6   geolocation      1260035 non-null  object \n",
      " 7   last_refer       1260035 non-null  object \n",
      " 8   coded_path       1260035 non-null  object \n",
      " 9   last_page        1260035 non-null  object \n",
      " 10  time_interval    1260035 non-null  float64\n",
      " 11  is_pc            1260035 non-null  int64  \n",
      " 12  Get              1260035 non-null  uint8  \n",
      " 13  Post             1260035 non-null  uint8  \n",
      " 14  200              1260035 non-null  uint8  \n",
      " 15  304              1260035 non-null  uint8  \n",
      " 16  400              1260035 non-null  uint8  \n",
      " 17  404              1260035 non-null  uint8  \n",
      " 18  499              1260035 non-null  uint8  \n",
      " 19  depth            1260035 non-null  int64  \n",
      " 20  css_font_js      1260035 non-null  uint8  \n",
      " 21  html             1260035 non-null  uint8  \n",
      " 22  image            1260035 non-null  uint8  \n",
      "dtypes: float64(3), int64(3), object(7), uint8(10)\n",
      "memory usage: 137.0+ MB\n"
     ]
    }
   ],
   "source": [
    "df.info()"
   ]
  },
  {
   "cell_type": "code",
   "execution_count": 108,
   "metadata": {
    "pycharm": {
     "name": "#%%\n"
    }
   },
   "outputs": [],
   "source": []
  },
  {
   "cell_type": "code",
   "execution_count": 35,
   "metadata": {},
   "outputs": [
    {
     "data": {
      "text/plain": [
       "4                 225124\n",
       "6                 125158\n",
       "1-3               115094\n",
       "5                  98485\n",
       "1-2                82802\n",
       "                   ...  \n",
       "12-18-22-8867          1\n",
       "12-18-22-29829         1\n",
       "12-18-22-16408         1\n",
       "12-18-22-35631         1\n",
       "12-18-22-8491          1\n",
       "Name: coded_path, Length: 62537, dtype: int64"
      ]
     },
     "execution_count": 35,
     "metadata": {},
     "output_type": "execute_result"
    }
   ],
   "source": [
    "df['coded_path'].value_counts()"
   ]
  },
  {
   "cell_type": "code",
   "execution_count": null,
   "metadata": {},
   "outputs": [],
   "source": []
  },
  {
   "cell_type": "code",
   "execution_count": 101,
   "metadata": {
    "pycharm": {
     "name": "#%%\n"
    }
   },
   "outputs": [
    {
     "data": {
      "text/plain": [
       "client_ip          0\n",
       "date_time          0\n",
       "response_length    0\n",
       "user_agent         0\n",
       "response_time      0\n",
       "path               0\n",
       "geolocation        0\n",
       "last_refer         0\n",
       "coded_path         0\n",
       "last_page          0\n",
       "time_interval      0\n",
       "is_pc              0\n",
       "Get                0\n",
       "Post               0\n",
       "200                0\n",
       "304                0\n",
       "400                0\n",
       "404                0\n",
       "499                0\n",
       "depth              0\n",
       "page_type          0\n",
       "dtype: int64"
      ]
     },
     "execution_count": 101,
     "metadata": {},
     "output_type": "execute_result"
    }
   ],
   "source": [
    "df.isnull().sum()"
   ]
  },
  {
   "cell_type": "code",
   "execution_count": 84,
   "metadata": {
    "pycharm": {
     "name": "#%%\n"
    }
   },
   "outputs": [
    {
     "data": {
      "text/plain": [
       "array(['/cdn/profiles/1026106239', 'css/page.2f0fc69390da8cdff683.css',\n",
       "       'images/badge.png', ..., '/api/v2/connect/568748247',\n",
       "       '/cdn/pro_photo_gallery/1858858035', '/api/v2/connect/215865643'],\n",
       "      dtype=object)"
      ]
     },
     "execution_count": 84,
     "metadata": {},
     "output_type": "execute_result"
    }
   ],
   "source": []
  },
  {
   "cell_type": "code",
   "execution_count": 83,
   "metadata": {
    "pycharm": {
     "name": "#%%\n"
    }
   },
   "outputs": [],
   "source": []
  },
  {
   "cell_type": "code",
   "execution_count": null,
   "metadata": {
    "pycharm": {
     "name": "#%%\n"
    }
   },
   "outputs": [],
   "source": []
  }
 ],
 "metadata": {
  "kernelspec": {
   "display_name": "Python 3",
   "language": "python",
   "name": "python3"
  },
  "language_info": {
   "codemirror_mode": {
    "name": "ipython",
    "version": 3
   },
   "file_extension": ".py",
   "mimetype": "text/x-python",
   "name": "python",
   "nbconvert_exporter": "python",
   "pygments_lexer": "ipython3",
   "version": "3.8.3"
  }
 },
 "nbformat": 4,
 "nbformat_minor": 1
}
