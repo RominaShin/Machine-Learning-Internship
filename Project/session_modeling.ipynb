{
 "cells": [
  {
   "cell_type": "code",
   "execution_count": 2,
   "metadata": {},
   "outputs": [],
   "source": [
    "from __future__ import print_function\n",
    "import pandas as pd\n",
    "import numpy as np\n",
    "import re\n",
    "from tqdm import tqdm,trange\n",
    "import os\n",
    "import time\n",
    "import matplotlib.pyplot as plt\n",
    "import seaborn as sns\n",
    "import pickle"
   ]
  },
  {
   "cell_type": "code",
   "execution_count": 3,
   "metadata": {
    "pycharm": {
     "name": "#%%\n"
    }
   },
   "outputs": [],
   "source": [
    "os.chdir('C:\\\\Users\\\\ASUS\\\\PycharmProjects\\\\RahnemaProject')"
   ]
  },
  {
   "cell_type": "code",
   "execution_count": 4,
   "metadata": {
    "pycharm": {
     "name": "#%%\n"
    }
   },
   "outputs": [],
   "source": [
    "df = pd.read_csv('feature_extracted_mid.csv')\n",
    "df = df.drop('Unnamed: 0',axis=1)"
   ]
  },
  {
   "cell_type": "code",
   "execution_count": null,
   "metadata": {
    "pycharm": {
     "name": "#%%\n"
    }
   },
   "outputs": [],
   "source": [
    "df.head()"
   ]
  },
  {
   "cell_type": "code",
   "execution_count": 5,
   "metadata": {
    "pycharm": {
     "name": "#%%\n"
    }
   },
   "outputs": [
    {
     "data": {
      "text/plain": [
       "0         2021-05-12 00:36:00\n",
       "1         2021-05-12 00:36:00\n",
       "2         2021-05-12 00:36:00\n",
       "3         2021-05-12 00:36:00\n",
       "4         2021-05-12 00:36:00\n",
       "                  ...        \n",
       "1260030   2021-05-12 10:38:59\n",
       "1260031   2021-05-12 10:38:59\n",
       "1260032   2021-05-12 10:38:59\n",
       "1260033   2021-05-12 10:38:59\n",
       "1260034   2021-05-12 10:39:00\n",
       "Name: date_time, Length: 1260035, dtype: datetime64[ns]"
      ]
     },
     "execution_count": 5,
     "metadata": {},
     "output_type": "execute_result"
    }
   ],
   "source": [
    "pd.to_datetime(df['date_time'],unit='ms')"
   ]
  },
  {
   "cell_type": "code",
   "execution_count": 6,
   "metadata": {
    "pycharm": {
     "name": "#%%\n"
    }
   },
   "outputs": [],
   "source": [
    "df = df.set_index(pd.to_datetime(df['date_time'],unit='ms'))\n",
    "df = df.drop('date_time',axis=1)"
   ]
  },
  {
   "cell_type": "code",
   "execution_count": 6,
   "metadata": {
    "pycharm": {
     "name": "#%%\n"
    }
   },
   "outputs": [],
   "source": []
  },
  {
   "cell_type": "code",
   "execution_count": 7,
   "metadata": {
    "pycharm": {
     "name": "#%%\n"
    }
   },
   "outputs": [],
   "source": [
    "#first_session = df.between_time('00:36:00','01:00:00').groupby(['client_ip',\n",
    " #   'user_agent']).mean()[['response_time','response_length','time_interval']]\\\n",
    "  #  .sort_values('response_time',ascending=False)\n",
    "\n",
    "#for index,row in df[0:5].iterrows():\n",
    " #    i = pd.to_datetime(index).astype(int)/10**6"
   ]
  },
  {
   "cell_type": "code",
   "execution_count": 7,
   "metadata": {
    "pycharm": {
     "name": "#%%\n"
    }
   },
   "outputs": [],
   "source": [
    "time_index = df.resample('3min')\n",
    "#for name,group in time_index:\n",
    " #   print(name)"
   ]
  },
  {
   "cell_type": "code",
   "execution_count": 8,
   "metadata": {
    "pycharm": {
     "name": "#%%\n"
    }
   },
   "outputs": [],
   "source": [
    "resampled_df = pd.DataFrame(time_index,columns=['date_time','columns'])\n",
    "resampled_df = resampled_df.reset_index()\n",
    "resampled_df = resampled_df.set_index('date_time')"
   ]
  },
  {
   "cell_type": "code",
   "execution_count": 9,
   "metadata": {
    "pycharm": {
     "name": "#%%\n"
    }
   },
   "outputs": [
    {
     "data": {
      "text/html": [
       "<div>\n",
       "<style scoped>\n",
       "    .dataframe tbody tr th:only-of-type {\n",
       "        vertical-align: middle;\n",
       "    }\n",
       "\n",
       "    .dataframe tbody tr th {\n",
       "        vertical-align: top;\n",
       "    }\n",
       "\n",
       "    .dataframe thead th {\n",
       "        text-align: right;\n",
       "    }\n",
       "</style>\n",
       "<table border=\"1\" class=\"dataframe\">\n",
       "  <thead>\n",
       "    <tr style=\"text-align: right;\">\n",
       "      <th></th>\n",
       "      <th>index</th>\n",
       "    </tr>\n",
       "    <tr>\n",
       "      <th>date_time</th>\n",
       "      <th></th>\n",
       "    </tr>\n",
       "  </thead>\n",
       "  <tbody>\n",
       "    <tr>\n",
       "      <th>2021-05-12 00:36:00</th>\n",
       "      <td>0</td>\n",
       "    </tr>\n",
       "    <tr>\n",
       "      <th>2021-05-12 00:39:00</th>\n",
       "      <td>1</td>\n",
       "    </tr>\n",
       "    <tr>\n",
       "      <th>2021-05-12 00:42:00</th>\n",
       "      <td>2</td>\n",
       "    </tr>\n",
       "    <tr>\n",
       "      <th>2021-05-12 00:45:00</th>\n",
       "      <td>3</td>\n",
       "    </tr>\n",
       "    <tr>\n",
       "      <th>2021-05-12 00:48:00</th>\n",
       "      <td>4</td>\n",
       "    </tr>\n",
       "  </tbody>\n",
       "</table>\n",
       "</div>"
      ],
      "text/plain": [
       "                     index\n",
       "date_time                 \n",
       "2021-05-12 00:36:00      0\n",
       "2021-05-12 00:39:00      1\n",
       "2021-05-12 00:42:00      2\n",
       "2021-05-12 00:45:00      3\n",
       "2021-05-12 00:48:00      4"
      ]
     },
     "execution_count": 9,
     "metadata": {},
     "output_type": "execute_result"
    }
   ],
   "source": [
    "resampled_df = resampled_df.drop('columns',axis=1)\n",
    "resampled_df.head()"
   ]
  },
  {
   "cell_type": "code",
   "execution_count": 12,
   "metadata": {
    "pycharm": {
     "name": "#%%\n"
    }
   },
   "outputs": [
    {
     "data": {
      "text/plain": [
       "202"
      ]
     },
     "execution_count": 12,
     "metadata": {},
     "output_type": "execute_result"
    }
   ],
   "source": [
    "resampled_df['index'].nunique()"
   ]
  },
  {
   "cell_type": "code",
   "execution_count": 10,
   "metadata": {
    "pycharm": {
     "name": "#%%\n"
    }
   },
   "outputs": [],
   "source": [
    "resampled_df = pd.DataFrame(resampled_df.resample('s').ffill())"
   ]
  },
  {
   "cell_type": "code",
   "execution_count": 13,
   "metadata": {
    "pycharm": {
     "name": "#%%\n"
    }
   },
   "outputs": [
    {
     "name": "stdout",
     "output_type": "stream",
     "text": [
      "Wall time: 0 ns\n"
     ]
    }
   ],
   "source": [
    "%time\n",
    "#df = df.drop('session_number',axis=1)\n",
    "#new_df = pd.concat([df,resampled_df],axis=1)\n",
    "#new_df = df.reset_index()\n",
    "\n",
    "new_df = pd.merge(df.reset_index(),resampled_df.reset_index(),left_on='date_time',right_on='date_time')"
   ]
  },
  {
   "cell_type": "code",
   "execution_count": null,
   "metadata": {
    "pycharm": {
     "name": "#%%\n"
    }
   },
   "outputs": [],
   "source": [
    "new_df = new_df.set_index('date_time')\n",
    "#new_df = new_df.drop('date_time',axis=1)\n",
    "\n",
    "new_df.head()"
   ]
  },
  {
   "cell_type": "code",
   "execution_count": 15,
   "metadata": {
    "pycharm": {
     "name": "#%%\n"
    }
   },
   "outputs": [],
   "source": [
    "new_df.loc[new_df['geolocation'].isnull()==True,'geolocation'] = 'NaN'\n",
    "new_df.loc[new_df['last_page'].isnull()==True,'last_page'] = 'NaN'"
   ]
  },
  {
   "cell_type": "code",
   "execution_count": 95,
   "metadata": {
    "pycharm": {
     "name": "#%%\n"
    }
   },
   "outputs": [],
   "source": [
    "#new_df = new_df.reset_index()\n",
    "new_df['date_time'] = pd.to_datetime(new_df['date_time'],'ms')\n",
    "new_df['date_time'] = new_df['date_time'].apply(lambda x:x.value)\n",
    "#new_df['date_time'] = pd.to_datetime(new_df['date_time']).astype(int)/10**6"
   ]
  },
  {
   "cell_type": "code",
   "execution_count": 96,
   "metadata": {
    "pycharm": {
     "name": "#%%\n"
    }
   },
   "outputs": [],
   "source": [
    "new_df.info()\n"
   ]
  },
  {
   "cell_type": "markdown",
   "metadata": {
    "pycharm": {
     "name": "#%% md\n"
    }
   },
   "source": [
    "Define Features\n",
    "---\n"
   ]
  },
  {
   "cell_type": "code",
   "execution_count": 26,
   "metadata": {
    "pycharm": {
     "name": "#%%\n"
    }
   },
   "outputs": [],
   "source": [
    "session_1 = new_df.groupby(['index','client_ip','user_agent']).median()[['response_length','depth']]\n",
    "session_2 = new_df.groupby(['index','client_ip','user_agent']).mean()[['response_time','time_interval']]\n",
    "\n",
    "session_2.columns = ['avg_response_time','avg_time_interval_Std']"
   ]
  },
  {
   "cell_type": "code",
   "execution_count": 122,
   "metadata": {
    "pycharm": {
     "name": "#%%\n"
    }
   },
   "outputs": [],
   "source": [
    "session_3 = new_df.groupby(['index','client_ip','user_agent']).std()[['response_time','time_interval']]\n",
    "session_3.columns = ['response_time_std','time_interval_Std']"
   ]
  },
  {
   "cell_type": "code",
   "execution_count": 123,
   "metadata": {
    "pycharm": {
     "name": "#%%\n"
    }
   },
   "outputs": [],
   "source": [
    "session_4 = new_df.groupby(['index','client_ip','user_agent']).sum()[['is_pc','Get','Post','image','400']]"
   ]
  },
  {
   "cell_type": "code",
   "execution_count": 124,
   "metadata": {
    "pycharm": {
     "name": "#%%\n"
    }
   },
   "outputs": [],
   "source": [
    "session_5 = new_df.groupby(['index','client_ip','user_agent']).apply(lambda x:x.html.sum()/x.css_font_js.sum() if x.css_font_js.sum() !=0 else 0)\n",
    "session_5 = pd.DataFrame(session_5,columns=['html/css'])"
   ]
  },
  {
   "cell_type": "code",
   "execution_count": 125,
   "metadata": {
    "pycharm": {
     "name": "#%%\n"
    }
   },
   "outputs": [],
   "source": [
    "session_6 = new_df.groupby(['index','client_ip','user_agent']).apply(\n",
    "    lambda x:(x['400'].sum()+x['404'].sum()+x['499'].sum())/x['200'].sum() if x['200'].sum()!=0 else 0)\n",
    "\n",
    "session_6 = pd.DataFrame(session_6,columns=['4xx/200'])"
   ]
  },
  {
   "cell_type": "code",
   "execution_count": 24,
   "metadata": {
    "pycharm": {
     "name": "#%%\n"
    }
   },
   "outputs": [],
   "source": [
    "session_7 = new_df.groupby(['index','client_ip','user_agent']).max()[['geolocation']]"
   ]
  },
  {
   "cell_type": "code",
   "execution_count": 127,
   "metadata": {
    "pycharm": {
     "name": "#%%\n"
    }
   },
   "outputs": [],
   "source": [
    "session_8 = new_df.groupby(['index','client_ip','user_agent']).apply(\n",
    "    lambda x:x.time.iloc[-1] - x.time.iloc[0])\n",
    "\n",
    "session_8 = pd.DataFrame(session_8,columns=['lf_time_interval'])"
   ]
  },
  {
   "cell_type": "code",
   "execution_count": 129,
   "metadata": {
    "pycharm": {
     "name": "#%%\n"
    }
   },
   "outputs": [],
   "source": [
    "session_9 = new_df.groupby(['index','client_ip','user_agent']).max()[['depth']]\n",
    "session_9.columns = ['max_depth']\n",
    "session_10 = new_df.groupby(['index','client_ip','user_agent']).std()[['depth']]\n",
    "session_10.columns = ['std_depth']"
   ]
  },
  {
   "cell_type": "code",
   "execution_count": 138,
   "metadata": {
    "pycharm": {
     "name": "#%%\n"
    }
   },
   "outputs": [],
   "source": [
    "# new_df['last_page'] = new_df.groupby(['client_ip','user_agent']).shift(1)['path']\n",
    "# new_df.loc[new_df['last_page'].isnull()==True,'last_page']='NaN'\n",
    "#\n",
    "# new_df['return_count'] = new_df.apply(\n",
    "#     lambda x:1  if\n",
    "#         (len(x['last_page'].split('/'))>=2)\n",
    "#         and\n",
    "#         (x['path'].split('/')[-2] == x['last_page'].split('/')[-2])\n",
    "#         else 0 , axis=1)\n",
    "#\n",
    "# new_df = new_df.drop('return_count',axis=1)"
   ]
  },
  {
   "cell_type": "code",
   "execution_count": null,
   "metadata": {
    "pycharm": {
     "name": "#%% traversial weight\n"
    }
   },
   "outputs": [],
   "source": [
    "session_11 = new_df.groupby(['index','client_ip','user_agent']).apply(\n",
    "    lambda x: x.coded_path.split('-')[-1]\n",
    ")"
   ]
  },
  {
   "cell_type": "code",
   "execution_count": 18,
   "metadata": {
    "pycharm": {
     "name": "#%%\n"
    }
   },
   "outputs": [],
   "source": [
    "session_12 = new_df.groupby(['index','client_ip','user_agent']).apply(lambda x:x.is_pc.count())\n",
    "#session_12 = new_df.groupby(['index','client_ip','user_agent']).count()['is_pc']\n",
    "session_12 = pd.DataFrame(session_12, columns = ['number_of_requests'])"
   ]
  },
  {
   "cell_type": "code",
   "execution_count": 176,
   "metadata": {
    "pycharm": {
     "name": "#%%\n"
    }
   },
   "outputs": [],
   "source": []
  },
  {
   "cell_type": "code",
   "execution_count": 19,
   "metadata": {
    "pycharm": {
     "name": "#%%\n"
    }
   },
   "outputs": [
    {
     "data": {
      "text/plain": [
       "304"
      ]
     },
     "execution_count": 19,
     "metadata": {},
     "output_type": "execute_result"
    }
   ],
   "source": [
    "session_12['number_of_requests'].nunique()"
   ]
  },
  {
   "cell_type": "code",
   "execution_count": 119,
   "metadata": {
    "pycharm": {
     "name": "#%%\n"
    }
   },
   "outputs": [
    {
     "data": {
      "text/html": [
       "<div>\n",
       "<style scoped>\n",
       "    .dataframe tbody tr th:only-of-type {\n",
       "        vertical-align: middle;\n",
       "    }\n",
       "\n",
       "    .dataframe tbody tr th {\n",
       "        vertical-align: top;\n",
       "    }\n",
       "\n",
       "    .dataframe thead th {\n",
       "        text-align: right;\n",
       "    }\n",
       "</style>\n",
       "<table border=\"1\" class=\"dataframe\">\n",
       "  <thead>\n",
       "    <tr style=\"text-align: right;\">\n",
       "      <th></th>\n",
       "      <th>time</th>\n",
       "    </tr>\n",
       "    <tr>\n",
       "      <th>date_time</th>\n",
       "      <th></th>\n",
       "    </tr>\n",
       "  </thead>\n",
       "  <tbody>\n",
       "    <tr>\n",
       "      <th>2021-05-12 00:36:43</th>\n",
       "      <td>1620779803000000000</td>\n",
       "    </tr>\n",
       "    <tr>\n",
       "      <th>2021-05-12 00:37:17</th>\n",
       "      <td>1620779837000000000</td>\n",
       "    </tr>\n",
       "    <tr>\n",
       "      <th>2021-05-12 00:38:56</th>\n",
       "      <td>1620779936000000000</td>\n",
       "    </tr>\n",
       "  </tbody>\n",
       "</table>\n",
       "</div>"
      ],
      "text/plain": [
       "                                    time\n",
       "date_time                               \n",
       "2021-05-12 00:36:43  1620779803000000000\n",
       "2021-05-12 00:37:17  1620779837000000000\n",
       "2021-05-12 00:38:56  1620779936000000000"
      ]
     },
     "execution_count": 119,
     "metadata": {},
     "output_type": "execute_result"
    }
   ],
   "source": [
    "#new_df = new_df.reset_index()\n",
    "#new_df['time'] = new_df['date_time']\n",
    "#new_df['date_time'] = pd.to_datetime(new_df['date_time'])\n",
    "#new_df = new_df.set_index('date_time')\n",
    "new_df.between_time('00:36','00:39').loc[(new_df.between_time('00:36','00:39')['client_ip']=='109.165.215.198')&(new_df.between_time('00:36','00:39')['user_agent']=='FreshpingBot/1.0 (+https://freshping.io/)')][['time']]"
   ]
  },
  {
   "cell_type": "code",
   "execution_count": null,
   "metadata": {
    "pycharm": {
     "name": "#%%\n"
    }
   },
   "outputs": [],
   "source": [
    "new_df.head()"
   ]
  },
  {
   "cell_type": "markdown",
   "metadata": {
    "pycharm": {
     "name": "#%% md\n"
    }
   },
   "source": [
    "Define Dataframe Based on Sessions\n",
    "---"
   ]
  },
  {
   "cell_type": "code",
   "execution_count": 185,
   "metadata": {
    "pycharm": {
     "name": "#%%\n"
    }
   },
   "outputs": [],
   "source": [
    "session_df = pd.concat([session_1,session_2,session_3,session_4,session_5,session_6,\n",
    "                        session_7,session_8,session_9,session_10,session_12],axis=1)\n"
   ]
  },
  {
   "cell_type": "code",
   "execution_count": 187,
   "metadata": {
    "pycharm": {
     "name": "#%%\n"
    }
   },
   "outputs": [
    {
     "data": {
      "text/html": [
       "<div>\n",
       "<style scoped>\n",
       "    .dataframe tbody tr th:only-of-type {\n",
       "        vertical-align: middle;\n",
       "    }\n",
       "\n",
       "    .dataframe tbody tr th {\n",
       "        vertical-align: top;\n",
       "    }\n",
       "\n",
       "    .dataframe thead th {\n",
       "        text-align: right;\n",
       "    }\n",
       "</style>\n",
       "<table border=\"1\" class=\"dataframe\">\n",
       "  <thead>\n",
       "    <tr style=\"text-align: right;\">\n",
       "      <th></th>\n",
       "      <th></th>\n",
       "      <th></th>\n",
       "      <th>response_length</th>\n",
       "      <th>depth</th>\n",
       "      <th>avg_response_time</th>\n",
       "      <th>avg_time_interval_Std</th>\n",
       "      <th>response_time_std</th>\n",
       "      <th>time_interval_Std</th>\n",
       "      <th>is_pc</th>\n",
       "      <th>Get</th>\n",
       "      <th>Post</th>\n",
       "      <th>image</th>\n",
       "      <th>400</th>\n",
       "      <th>html/css</th>\n",
       "      <th>4xx/200</th>\n",
       "      <th>lf_time_interval</th>\n",
       "      <th>lf_time_interval</th>\n",
       "      <th>max_depth</th>\n",
       "      <th>std_depth</th>\n",
       "    </tr>\n",
       "    <tr>\n",
       "      <th>index</th>\n",
       "      <th>client_ip</th>\n",
       "      <th>user_agent</th>\n",
       "      <th></th>\n",
       "      <th></th>\n",
       "      <th></th>\n",
       "      <th></th>\n",
       "      <th></th>\n",
       "      <th></th>\n",
       "      <th></th>\n",
       "      <th></th>\n",
       "      <th></th>\n",
       "      <th></th>\n",
       "      <th></th>\n",
       "      <th></th>\n",
       "      <th></th>\n",
       "      <th></th>\n",
       "      <th></th>\n",
       "      <th></th>\n",
       "      <th></th>\n",
       "    </tr>\n",
       "  </thead>\n",
       "  <tbody>\n",
       "    <tr>\n",
       "      <th rowspan=\"5\" valign=\"top\">0</th>\n",
       "      <th rowspan=\"2\" valign=\"top\">102.86.34.193</th>\n",
       "      <th>Mozilla/5.0 (iPhone; CPU iPhone OS 14_4_2 like Mac OS X) AppleWebKit/605.1.15 (KHTML, like Gecko) Version/14.0.3 Mobile/15E148 Safari/604.1</th>\n",
       "      <td>0.0</td>\n",
       "      <td>1.0</td>\n",
       "      <td>4.571429</td>\n",
       "      <td>1.157700e+11</td>\n",
       "      <td>2.138090</td>\n",
       "      <td>4.331716e+11</td>\n",
       "      <td>0.0</td>\n",
       "      <td>14.0</td>\n",
       "      <td>0.0</td>\n",
       "      <td>6.0</td>\n",
       "      <td>0.0</td>\n",
       "      <td>0.000</td>\n",
       "      <td>0.0</td>\n",
       "      <td>0</td>\n",
       "      <td>0</td>\n",
       "      <td>2</td>\n",
       "      <td>0.267261</td>\n",
       "    </tr>\n",
       "    <tr>\n",
       "      <th>Mozilla/5.0 (iPhone; CPU iPhone OS 14_6 like Mac OS X) AppleWebKit/605.1.15 (KHTML, like Gecko) Version/14.1.1 Mobile/15E148 Safari/604.1</th>\n",
       "      <td>0.0</td>\n",
       "      <td>1.0</td>\n",
       "      <td>5.333333</td>\n",
       "      <td>1.080520e+11</td>\n",
       "      <td>4.450789</td>\n",
       "      <td>4.184835e+11</td>\n",
       "      <td>0.0</td>\n",
       "      <td>15.0</td>\n",
       "      <td>0.0</td>\n",
       "      <td>6.0</td>\n",
       "      <td>0.0</td>\n",
       "      <td>0.125</td>\n",
       "      <td>0.0</td>\n",
       "      <td>6000000000</td>\n",
       "      <td>6000000000</td>\n",
       "      <td>2</td>\n",
       "      <td>0.351866</td>\n",
       "    </tr>\n",
       "    <tr>\n",
       "      <th>109.165.215.198</th>\n",
       "      <th>FreshpingBot/1.0 (+https://freshping.io/)</th>\n",
       "      <td>63379.0</td>\n",
       "      <td>1.0</td>\n",
       "      <td>25.333333</td>\n",
       "      <td>5.402600e+11</td>\n",
       "      <td>9.237604</td>\n",
       "      <td>9.357576e+11</td>\n",
       "      <td>0.0</td>\n",
       "      <td>3.0</td>\n",
       "      <td>0.0</td>\n",
       "      <td>0.0</td>\n",
       "      <td>0.0</td>\n",
       "      <td>0.000</td>\n",
       "      <td>0.0</td>\n",
       "      <td>133000000000</td>\n",
       "      <td>133000000000</td>\n",
       "      <td>1</td>\n",
       "      <td>0.000000</td>\n",
       "    </tr>\n",
       "    <tr>\n",
       "      <th>109.39.88.125</th>\n",
       "      <th>FreshpingBot/1.0 (+https://freshping.io/)</th>\n",
       "      <td>63379.0</td>\n",
       "      <td>1.0</td>\n",
       "      <td>41.333333</td>\n",
       "      <td>5.402600e+11</td>\n",
       "      <td>11.547005</td>\n",
       "      <td>9.357576e+11</td>\n",
       "      <td>0.0</td>\n",
       "      <td>3.0</td>\n",
       "      <td>0.0</td>\n",
       "      <td>0.0</td>\n",
       "      <td>0.0</td>\n",
       "      <td>0.000</td>\n",
       "      <td>0.0</td>\n",
       "      <td>132000000000</td>\n",
       "      <td>132000000000</td>\n",
       "      <td>1</td>\n",
       "      <td>0.000000</td>\n",
       "    </tr>\n",
       "    <tr>\n",
       "      <th>111.95.254.25</th>\n",
       "      <th>Mozilla/5.0 (Windows NT 10.0; Win64; x64) AppleWebKit/537.36 (KHTML, like Gecko) Chrome/90.0.4430.212 Safari/537.36 OPR/76.0.4017.177</th>\n",
       "      <td>22582.0</td>\n",
       "      <td>1.0</td>\n",
       "      <td>5.600000</td>\n",
       "      <td>3.241560e+11</td>\n",
       "      <td>3.577709</td>\n",
       "      <td>7.248348e+11</td>\n",
       "      <td>5.0</td>\n",
       "      <td>5.0</td>\n",
       "      <td>0.0</td>\n",
       "      <td>4.0</td>\n",
       "      <td>0.0</td>\n",
       "      <td>0.000</td>\n",
       "      <td>0.0</td>\n",
       "      <td>0</td>\n",
       "      <td>0</td>\n",
       "      <td>3</td>\n",
       "      <td>0.894427</td>\n",
       "    </tr>\n",
       "  </tbody>\n",
       "</table>\n",
       "</div>"
      ],
      "text/plain": [
       "                                                                          response_length  \\\n",
       "index client_ip       user_agent                                                            \n",
       "0     102.86.34.193   Mozilla/5.0 (iPhone; CPU iPhone OS 14_4_2 like ...              0.0   \n",
       "                      Mozilla/5.0 (iPhone; CPU iPhone OS 14_6 like Ma...              0.0   \n",
       "      109.165.215.198 FreshpingBot/1.0 (+https://freshping.io/)                   63379.0   \n",
       "      109.39.88.125   FreshpingBot/1.0 (+https://freshping.io/)                   63379.0   \n",
       "      111.95.254.25   Mozilla/5.0 (Windows NT 10.0; Win64; x64) Apple...          22582.0   \n",
       "\n",
       "                                                                          depth  \\\n",
       "index client_ip       user_agent                                                  \n",
       "0     102.86.34.193   Mozilla/5.0 (iPhone; CPU iPhone OS 14_4_2 like ...    1.0   \n",
       "                      Mozilla/5.0 (iPhone; CPU iPhone OS 14_6 like Ma...    1.0   \n",
       "      109.165.215.198 FreshpingBot/1.0 (+https://freshping.io/)             1.0   \n",
       "      109.39.88.125   FreshpingBot/1.0 (+https://freshping.io/)             1.0   \n",
       "      111.95.254.25   Mozilla/5.0 (Windows NT 10.0; Win64; x64) Apple...    1.0   \n",
       "\n",
       "                                                                          avg_response_time  \\\n",
       "index client_ip       user_agent                                                              \n",
       "0     102.86.34.193   Mozilla/5.0 (iPhone; CPU iPhone OS 14_4_2 like ...           4.571429   \n",
       "                      Mozilla/5.0 (iPhone; CPU iPhone OS 14_6 like Ma...           5.333333   \n",
       "      109.165.215.198 FreshpingBot/1.0 (+https://freshping.io/)                   25.333333   \n",
       "      109.39.88.125   FreshpingBot/1.0 (+https://freshping.io/)                   41.333333   \n",
       "      111.95.254.25   Mozilla/5.0 (Windows NT 10.0; Win64; x64) Apple...           5.600000   \n",
       "\n",
       "                                                                          avg_time_interval_Std  \\\n",
       "index client_ip       user_agent                                                                  \n",
       "0     102.86.34.193   Mozilla/5.0 (iPhone; CPU iPhone OS 14_4_2 like ...           1.157700e+11   \n",
       "                      Mozilla/5.0 (iPhone; CPU iPhone OS 14_6 like Ma...           1.080520e+11   \n",
       "      109.165.215.198 FreshpingBot/1.0 (+https://freshping.io/)                    5.402600e+11   \n",
       "      109.39.88.125   FreshpingBot/1.0 (+https://freshping.io/)                    5.402600e+11   \n",
       "      111.95.254.25   Mozilla/5.0 (Windows NT 10.0; Win64; x64) Apple...           3.241560e+11   \n",
       "\n",
       "                                                                          response_time_std  \\\n",
       "index client_ip       user_agent                                                              \n",
       "0     102.86.34.193   Mozilla/5.0 (iPhone; CPU iPhone OS 14_4_2 like ...           2.138090   \n",
       "                      Mozilla/5.0 (iPhone; CPU iPhone OS 14_6 like Ma...           4.450789   \n",
       "      109.165.215.198 FreshpingBot/1.0 (+https://freshping.io/)                    9.237604   \n",
       "      109.39.88.125   FreshpingBot/1.0 (+https://freshping.io/)                   11.547005   \n",
       "      111.95.254.25   Mozilla/5.0 (Windows NT 10.0; Win64; x64) Apple...           3.577709   \n",
       "\n",
       "                                                                          time_interval_Std  \\\n",
       "index client_ip       user_agent                                                              \n",
       "0     102.86.34.193   Mozilla/5.0 (iPhone; CPU iPhone OS 14_4_2 like ...       4.331716e+11   \n",
       "                      Mozilla/5.0 (iPhone; CPU iPhone OS 14_6 like Ma...       4.184835e+11   \n",
       "      109.165.215.198 FreshpingBot/1.0 (+https://freshping.io/)                9.357576e+11   \n",
       "      109.39.88.125   FreshpingBot/1.0 (+https://freshping.io/)                9.357576e+11   \n",
       "      111.95.254.25   Mozilla/5.0 (Windows NT 10.0; Win64; x64) Apple...       7.248348e+11   \n",
       "\n",
       "                                                                          is_pc  \\\n",
       "index client_ip       user_agent                                                  \n",
       "0     102.86.34.193   Mozilla/5.0 (iPhone; CPU iPhone OS 14_4_2 like ...    0.0   \n",
       "                      Mozilla/5.0 (iPhone; CPU iPhone OS 14_6 like Ma...    0.0   \n",
       "      109.165.215.198 FreshpingBot/1.0 (+https://freshping.io/)             0.0   \n",
       "      109.39.88.125   FreshpingBot/1.0 (+https://freshping.io/)             0.0   \n",
       "      111.95.254.25   Mozilla/5.0 (Windows NT 10.0; Win64; x64) Apple...    5.0   \n",
       "\n",
       "                                                                           Get  \\\n",
       "index client_ip       user_agent                                                 \n",
       "0     102.86.34.193   Mozilla/5.0 (iPhone; CPU iPhone OS 14_4_2 like ...  14.0   \n",
       "                      Mozilla/5.0 (iPhone; CPU iPhone OS 14_6 like Ma...  15.0   \n",
       "      109.165.215.198 FreshpingBot/1.0 (+https://freshping.io/)            3.0   \n",
       "      109.39.88.125   FreshpingBot/1.0 (+https://freshping.io/)            3.0   \n",
       "      111.95.254.25   Mozilla/5.0 (Windows NT 10.0; Win64; x64) Apple...   5.0   \n",
       "\n",
       "                                                                          Post  \\\n",
       "index client_ip       user_agent                                                 \n",
       "0     102.86.34.193   Mozilla/5.0 (iPhone; CPU iPhone OS 14_4_2 like ...   0.0   \n",
       "                      Mozilla/5.0 (iPhone; CPU iPhone OS 14_6 like Ma...   0.0   \n",
       "      109.165.215.198 FreshpingBot/1.0 (+https://freshping.io/)            0.0   \n",
       "      109.39.88.125   FreshpingBot/1.0 (+https://freshping.io/)            0.0   \n",
       "      111.95.254.25   Mozilla/5.0 (Windows NT 10.0; Win64; x64) Apple...   0.0   \n",
       "\n",
       "                                                                          image  \\\n",
       "index client_ip       user_agent                                                  \n",
       "0     102.86.34.193   Mozilla/5.0 (iPhone; CPU iPhone OS 14_4_2 like ...    6.0   \n",
       "                      Mozilla/5.0 (iPhone; CPU iPhone OS 14_6 like Ma...    6.0   \n",
       "      109.165.215.198 FreshpingBot/1.0 (+https://freshping.io/)             0.0   \n",
       "      109.39.88.125   FreshpingBot/1.0 (+https://freshping.io/)             0.0   \n",
       "      111.95.254.25   Mozilla/5.0 (Windows NT 10.0; Win64; x64) Apple...    4.0   \n",
       "\n",
       "                                                                          400  \\\n",
       "index client_ip       user_agent                                                \n",
       "0     102.86.34.193   Mozilla/5.0 (iPhone; CPU iPhone OS 14_4_2 like ...  0.0   \n",
       "                      Mozilla/5.0 (iPhone; CPU iPhone OS 14_6 like Ma...  0.0   \n",
       "      109.165.215.198 FreshpingBot/1.0 (+https://freshping.io/)           0.0   \n",
       "      109.39.88.125   FreshpingBot/1.0 (+https://freshping.io/)           0.0   \n",
       "      111.95.254.25   Mozilla/5.0 (Windows NT 10.0; Win64; x64) Apple...  0.0   \n",
       "\n",
       "                                                                          html/css  \\\n",
       "index client_ip       user_agent                                                     \n",
       "0     102.86.34.193   Mozilla/5.0 (iPhone; CPU iPhone OS 14_4_2 like ...     0.000   \n",
       "                      Mozilla/5.0 (iPhone; CPU iPhone OS 14_6 like Ma...     0.125   \n",
       "      109.165.215.198 FreshpingBot/1.0 (+https://freshping.io/)              0.000   \n",
       "      109.39.88.125   FreshpingBot/1.0 (+https://freshping.io/)              0.000   \n",
       "      111.95.254.25   Mozilla/5.0 (Windows NT 10.0; Win64; x64) Apple...     0.000   \n",
       "\n",
       "                                                                          4xx/200  \\\n",
       "index client_ip       user_agent                                                    \n",
       "0     102.86.34.193   Mozilla/5.0 (iPhone; CPU iPhone OS 14_4_2 like ...      0.0   \n",
       "                      Mozilla/5.0 (iPhone; CPU iPhone OS 14_6 like Ma...      0.0   \n",
       "      109.165.215.198 FreshpingBot/1.0 (+https://freshping.io/)               0.0   \n",
       "      109.39.88.125   FreshpingBot/1.0 (+https://freshping.io/)               0.0   \n",
       "      111.95.254.25   Mozilla/5.0 (Windows NT 10.0; Win64; x64) Apple...      0.0   \n",
       "\n",
       "                                                                          lf_time_interval  \\\n",
       "index client_ip       user_agent                                                             \n",
       "0     102.86.34.193   Mozilla/5.0 (iPhone; CPU iPhone OS 14_4_2 like ...                 0   \n",
       "                      Mozilla/5.0 (iPhone; CPU iPhone OS 14_6 like Ma...        6000000000   \n",
       "      109.165.215.198 FreshpingBot/1.0 (+https://freshping.io/)               133000000000   \n",
       "      109.39.88.125   FreshpingBot/1.0 (+https://freshping.io/)               132000000000   \n",
       "      111.95.254.25   Mozilla/5.0 (Windows NT 10.0; Win64; x64) Apple...                 0   \n",
       "\n",
       "                                                                          lf_time_interval  \\\n",
       "index client_ip       user_agent                                                             \n",
       "0     102.86.34.193   Mozilla/5.0 (iPhone; CPU iPhone OS 14_4_2 like ...                 0   \n",
       "                      Mozilla/5.0 (iPhone; CPU iPhone OS 14_6 like Ma...        6000000000   \n",
       "      109.165.215.198 FreshpingBot/1.0 (+https://freshping.io/)               133000000000   \n",
       "      109.39.88.125   FreshpingBot/1.0 (+https://freshping.io/)               132000000000   \n",
       "      111.95.254.25   Mozilla/5.0 (Windows NT 10.0; Win64; x64) Apple...                 0   \n",
       "\n",
       "                                                                          max_depth  \\\n",
       "index client_ip       user_agent                                                      \n",
       "0     102.86.34.193   Mozilla/5.0 (iPhone; CPU iPhone OS 14_4_2 like ...          2   \n",
       "                      Mozilla/5.0 (iPhone; CPU iPhone OS 14_6 like Ma...          2   \n",
       "      109.165.215.198 FreshpingBot/1.0 (+https://freshping.io/)                   1   \n",
       "      109.39.88.125   FreshpingBot/1.0 (+https://freshping.io/)                   1   \n",
       "      111.95.254.25   Mozilla/5.0 (Windows NT 10.0; Win64; x64) Apple...          3   \n",
       "\n",
       "                                                                          std_depth  \n",
       "index client_ip       user_agent                                                     \n",
       "0     102.86.34.193   Mozilla/5.0 (iPhone; CPU iPhone OS 14_4_2 like ...   0.267261  \n",
       "                      Mozilla/5.0 (iPhone; CPU iPhone OS 14_6 like Ma...   0.351866  \n",
       "      109.165.215.198 FreshpingBot/1.0 (+https://freshping.io/)            0.000000  \n",
       "      109.39.88.125   FreshpingBot/1.0 (+https://freshping.io/)            0.000000  \n",
       "      111.95.254.25   Mozilla/5.0 (Windows NT 10.0; Win64; x64) Apple...   0.894427  "
      ]
     },
     "execution_count": 187,
     "metadata": {},
     "output_type": "execute_result"
    }
   ],
   "source": [
    "pd.DataFrame(session_df).head()"
   ]
  },
  {
   "cell_type": "code",
   "execution_count": 188,
   "metadata": {
    "pycharm": {
     "name": "#%%\n"
    }
   },
   "outputs": [],
   "source": [
    "session_df.to_csv('session_defined.csv')"
   ]
  },
  {
   "cell_type": "code",
   "execution_count": 26,
   "metadata": {
    "pycharm": {
     "name": "#%%\n"
    }
   },
   "outputs": [],
   "source": [
    "x = pd.read_csv('session_defined.csv')\n",
    "x = x.set_index(['index','client_ip','user_agent'])\n",
    "#x = pd.concat([x,session_7],axis=1)"
   ]
  },
  {
   "cell_type": "code",
   "execution_count": null,
   "metadata": {
    "pycharm": {
     "name": "#%%\n"
    }
   },
   "outputs": [],
   "source": [
    "x.head()\n"
   ]
  },
  {
   "cell_type": "code",
   "execution_count": 27,
   "metadata": {
    "pycharm": {
     "name": "#%%\n"
    }
   },
   "outputs": [],
   "source": [
    "x.to_csv('session_defined.csv')\n",
    "\n"
   ]
  },
  {
   "cell_type": "code",
   "execution_count": null,
   "metadata": {
    "pycharm": {
     "name": "#%%\n"
    }
   },
   "outputs": [],
   "source": []
  }
 ],
 "metadata": {
  "kernelspec": {
   "display_name": "Python 3",
   "language": "python",
   "name": "python3"
  },
  "language_info": {
   "codemirror_mode": {
    "name": "ipython",
    "version": 3
   },
   "file_extension": ".py",
   "mimetype": "text/x-python",
   "name": "python",
   "nbconvert_exporter": "python",
   "pygments_lexer": "ipython3",
   "version": "3.8.3"
  }
 },
 "nbformat": 4,
 "nbformat_minor": 1
}
