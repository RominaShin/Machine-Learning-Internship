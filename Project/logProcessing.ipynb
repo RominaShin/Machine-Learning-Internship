{
 "cells": [
  {
   "cell_type": "code",
   "execution_count": 1,
   "metadata": {
    "collapsed": true
   },
   "outputs": [],
   "source": [
    "from __future__ import print_function\n",
    "import pandas as pd\n",
    "import numpy as np\n",
    "import re\n",
    "from tqdm import tqdm,trange\n",
    "import os\n",
    "import time"
   ]
  },
  {
   "cell_type": "code",
   "execution_count": 2,
   "metadata": {
    "pycharm": {
     "name": "#%%\n"
    }
   },
   "outputs": [],
   "source": [
    "os.chdir('C:\\\\Users\\\\ASUS\\\\PycharmProjects\\\\RahnemaProject')"
   ]
  },
  {
   "cell_type": "code",
   "execution_count": 3,
   "metadata": {
    "pycharm": {
     "name": "#%%\n"
    }
   },
   "outputs": [
    {
     "name": "stderr",
     "output_type": "stream",
     "text": [
      "A subdirectory or file parquet_dir already exists.\n"
     ]
    }
   ],
   "source": [
    "# %mkdir parquet_dir\n",
    "# common_regex = '^(?P<client>\\S+) \\S+ (?P<userid>\\S+) \\[(?P<datetime>[^\\]]+)\\] \"(?P<method>[A-Z]+) (?P<request>[^ \"]+)? HTTP/[0-9.]+\" (?P<status>[0-9]{3}) (?P<size>[0-9]+|-)'\n",
    "# combined_regex = '^(?P<client>\\S+) \\S+ (?P<userid>\\S+) \\[(?P<datetime>[^\\]]+)\\] \"(?P<method>[A-Z]+) (?P<request>[^ \"]+)? HTTP/[0-9.]+\" (?P<status>[0-9]{3}) (?P<size>[0-9]+|-) \"(?P<referrer>[^\"]*)\" \"(?P<useragent>[^\"]*)'\n",
    "# columns = ['client', 'userid', 'datetime', 'method', 'request', 'status', 'size', 'referer', 'user_agent']\n",
    "#\n",
    "# def logs_to_df(logfile, output_dir, errors_file):\n",
    "#     with open(logfile) as source_file:\n",
    "#         linenumber = 0\n",
    "#         parsed_lines = []\n",
    "#         for line in tqdm(source_file):\n",
    "#             try:\n",
    "#                 log_line = re.findall(combined_regex, line)[0]\n",
    "#                 parsed_lines.append(log_line)\n",
    "#             except Exception as e:\n",
    "#                 with open(errors_file, 'at') as errfile:\n",
    "#                     print((line, str(e)), file=errfile)\n",
    "#                 continue\n",
    "#             linenumber += 1\n",
    "#             if linenumber % 250_000 == 0:\n",
    "#                 df = pd.DataFrame(parsed_lines, columns=columns)\n",
    "#                 df.to_parquet(f'{output_dir}/file_{linenumber}.parquet')\n",
    "#                 parsed_lines.clear()\n",
    "#             else:\n",
    "#                 df = pd.DataFrame(parsed_lines, columns=columns)\n",
    "#                 df.to_parquet(f'{output_dir}/file_{linenumber}.parquet')\n",
    "#                 parsed_lines.clear()\n",
    "#\n",
    "# %time logs_to_df(logfile='output - Copy.log', output_dir='parquet_dir/', errors_file='errors.txt')\n"
   ]
  },
  {
   "cell_type": "code",
   "execution_count": 267,
   "metadata": {
    "pycharm": {
     "name": "#%%\n"
    }
   },
   "outputs": [],
   "source": [
    "with open('output.log') as log:\n",
    "    logData = [line for line in log]\n",
    "    df = pd.DataFrame(logData, columns=['line'])"
   ]
  },
  {
   "cell_type": "code",
   "execution_count": 113,
   "metadata": {
    "pycharm": {
     "name": "#%%\n"
    }
   },
   "outputs": [],
   "source": [
    "#samples = []\n",
    "#for row in df.iterrows():\n",
    " #   index, data = row\n",
    "  #  samples.append(data.tolist())"
   ]
  },
  {
   "cell_type": "code",
   "execution_count": 268,
   "metadata": {
    "pycharm": {
     "name": "#%%\n"
    }
   },
   "outputs": [],
   "source": [
    "#df.columns = ['ClientIp','DateTime','MethodPath','StatCode','ResponseLength','UserAgent','ResponseTime','line']\n",
    "df['ClientIp'] = \"\"\n",
    "df['DateTime'] = \"\"\n",
    "df['MethodPath'] = \"\"\n",
    "df['StatCode'] = \"\"\n",
    "df['ResponseLength'] = \"\"\n",
    "df['UserAgent'] = \"\"\n",
    "df['ResponseTime'] = \"\"\n",
    "#df.head()\n",
    "#df = df['line'].apply(lambda row:getSeperated(row))"
   ]
  },
  {
   "cell_type": "code",
   "execution_count": 261,
   "metadata": {
    "pycharm": {
     "name": "#%%\n"
    }
   },
   "outputs": [],
   "source": [
    "def getSeperated(string,index):\n",
    "    stringCopy = string\n",
    "    string = str(string)\n",
    "    #print(string)\n",
    "    #print(index)\n",
    "    #string = string.iloc[index]\n",
    "    #ClientIp,DateTime,MethodPath,StatCode,ResponseLength,UserAgent,ResponseTime = np.zeros(7)\n",
    "\n",
    "    def getClientIp(string):\n",
    "        #global ClientIp\n",
    "        if string.startswith('-'):\n",
    "            ClientIp = np.nan\n",
    "            return string[string.find(' ')+1:],ClientIp\n",
    "        else:\n",
    "            ClientIp = string[0:string.find(' ')]\n",
    "            return string[string.find(' ')+1:],ClientIp\n",
    "\n",
    "    def findDate(string):\n",
    "        #global DateTime\n",
    "        if string.startswith('-'):\n",
    "            DateTime = np.nan\n",
    "            return string[string.find(' ')+1:],DateTime\n",
    "        else:\n",
    "            DateTime = string[string.find('['):string.find(']')+1]\n",
    "            return string[string.find(']')+2:],DateTime\n",
    "\n",
    "    def findMethodPath(string):\n",
    "        #global MethodPath\n",
    "        if string.startswith('-'):\n",
    "            MethodPath = np.nan\n",
    "            return string[string.find(' ')+1:],MethodPath\n",
    "        else:\n",
    "            MethodPath = string[string.find('['):string.find(']')+1]\n",
    "            return string[string.find(']')+2:],MethodPath\n",
    "\n",
    "    def findStatCode(string):\n",
    "        #global StatCode\n",
    "        if string.startswith('-'):\n",
    "            StatCode = np.nan\n",
    "            return string[string.find(' ')+1:],StatCode\n",
    "        else:\n",
    "            #index = 0\n",
    "            #substring = string[0:string.find(' ')]\n",
    "            #while substring.isdigit():\n",
    "             #   index = index +1\n",
    "            #StatCode = string[0:index]\n",
    "            StatCode = string[0:string.find(' ')]\n",
    "            return string[string.find(' ')+1:],StatCode\n",
    "\n",
    "    def findResLen(string):\n",
    "        #global ResponseLength\n",
    "        if string.startswith('-'):\n",
    "            ResponseLength = np.nan\n",
    "            return string[string.find(' ')+1:],ResponseLength\n",
    "        else:\n",
    "            #index = 0\n",
    "            #substring = string[0:string.find(' ')]\n",
    "            #while substring.isdigit():\n",
    "             #   index = index +1\n",
    "            #ResponseLength = string[0:index]\n",
    "            ResponseLength = string[0:string.find(' ')]\n",
    "            return string[string.find(' ')+1:],ResponseLength\n",
    "\n",
    "    def findUser(string):\n",
    "        #global UserAgent\n",
    "        if string.startswith('-'):\n",
    "            UserAgent = np.nan\n",
    "            return string[string.find(' ')+1:],UserAgent\n",
    "        else:\n",
    "            UserAgent = string[string.find('[['):string.find(']]')+2]\n",
    "            return string[string.find(']]')+2:],UserAgent\n",
    "\n",
    "    def findResTime(string):\n",
    "        #global ResponseTime\n",
    "        if string.startswith('-'):\n",
    "            ResponseTime = np.nan\n",
    "            return string[1:],ResponseTime\n",
    "        else:\n",
    "            #index = 0\n",
    "            #substring = string[0:string.find(' ')]\n",
    "            #print('hello')\n",
    "            #while substring.isdigit():\n",
    "            #    index = index +1\n",
    "            #ResponseTime = string[0:index]\n",
    "            ResponseTime = string[1:string.find('\\\\'or ' ') ]\n",
    "            return string[2:],ResponseTime\n",
    "\n",
    "    string,ClientIp = getClientIp(string)\n",
    "    #print(ClientIp)\n",
    "    #print(string)\n",
    "    string,DateTime = findDate(string)\n",
    "    #print(DateTime)\n",
    "    string,MethodPath = findMethodPath(string)\n",
    "    string,StatCode = findStatCode(string)\n",
    "    string,ResponseLength = findResLen(string)\n",
    "    string,UserAgent = findUser(string)\n",
    "    string,ResponseTime = findResTime(string)\n",
    "\n",
    "    global df\n",
    "    df.loc[index , 'ClientIp'] = ClientIp\n",
    "    df.loc[index , 'DateTime'] = DateTime\n",
    "    df.loc[index ,'MethodPath'] = MethodPath\n",
    "    df.loc[index , 'StatCode'] = StatCode\n",
    "    df.loc[index , 'ResponseLength'] = ResponseLength\n",
    "    df.loc[index , 'UserAgent'] = UserAgent\n",
    "    df.loc[index , 'ResponseTime'] = ResponseTime\n",
    "    return stringCopy\n"
   ]
  },
  {
   "cell_type": "code",
   "execution_count": 270,
   "metadata": {
    "pycharm": {
     "name": "#%%\n"
    }
   },
   "outputs": [
    {
     "name": "stdout",
     "output_type": "stream",
     "text": [
      "Wall time: 13min 12s\n"
     ]
    }
   ],
   "source": [
    "%%time\n",
    "#df.iloc[0:20] = df.iloc[0:20].apply(lambda row:getSeperated(row,df.index) if row.name == 'line' else row ,axis =1)\n",
    "df.iloc[0:]['line'] = df.iloc[0:].apply(lambda row:getSeperated(row['line'],row.name) ,axis=1)"
   ]
  },
  {
   "cell_type": "code",
   "execution_count": 272,
   "metadata": {
    "pycharm": {
     "name": "#%%\n"
    }
   },
   "outputs": [
    {
     "data": {
      "text/html": [
       "<div>\n",
       "<style scoped>\n",
       "    .dataframe tbody tr th:only-of-type {\n",
       "        vertical-align: middle;\n",
       "    }\n",
       "\n",
       "    .dataframe tbody tr th {\n",
       "        vertical-align: top;\n",
       "    }\n",
       "\n",
       "    .dataframe thead th {\n",
       "        text-align: right;\n",
       "    }\n",
       "</style>\n",
       "<table border=\"1\" class=\"dataframe\">\n",
       "  <thead>\n",
       "    <tr style=\"text-align: right;\">\n",
       "      <th></th>\n",
       "      <th>line</th>\n",
       "      <th>ClientIp</th>\n",
       "      <th>DateTime</th>\n",
       "      <th>MethodPath</th>\n",
       "      <th>StatCode</th>\n",
       "      <th>ResponseLength</th>\n",
       "      <th>UserAgent</th>\n",
       "      <th>ResponseTime</th>\n",
       "    </tr>\n",
       "  </thead>\n",
       "  <tbody>\n",
       "    <tr>\n",
       "      <th>1260030</th>\n",
       "      <td>35.117.86.75 [2021-5-12T15:8:59.0+0430] [Get i...</td>\n",
       "      <td>35.117.86.75</td>\n",
       "      <td>[2021-5-12T15:8:59.0+0430]</td>\n",
       "      <td>[Get images/graystar_min.png]</td>\n",
       "      <td>304</td>\n",
       "      <td>0</td>\n",
       "      <td>[[Mozilla/5.0 (Linux; Android 9; Redmi 7A) App...</td>\n",
       "      <td>4</td>\n",
       "    </tr>\n",
       "    <tr>\n",
       "      <th>1260031</th>\n",
       "      <td>35.117.86.75 [2021-5-12T15:8:59.0+0430] [Get f...</td>\n",
       "      <td>35.117.86.75</td>\n",
       "      <td>[2021-5-12T15:8:59.0+0430]</td>\n",
       "      <td>[Get fonts/sanjagh_icon_font_5.woff]</td>\n",
       "      <td>304</td>\n",
       "      <td>0</td>\n",
       "      <td>[[Mozilla/5.0 (Linux; Android 9; Redmi 7A) App...</td>\n",
       "      <td>4</td>\n",
       "    </tr>\n",
       "    <tr>\n",
       "      <th>1260032</th>\n",
       "      <td>153.126.251.199 [2021-5-12T15:8:59.0+0430] [Ge...</td>\n",
       "      <td>153.126.251.199</td>\n",
       "      <td>[2021-5-12T15:8:59.0+0430]</td>\n",
       "      <td>[Get /api/v2/connect/215865643]</td>\n",
       "      <td>101</td>\n",
       "      <td>0</td>\n",
       "      <td>[[okhttp/3.12.1]]</td>\n",
       "      <td>60003</td>\n",
       "    </tr>\n",
       "    <tr>\n",
       "      <th>1260033</th>\n",
       "      <td>207.213.207.102 [2021-5-12T15:8:59.0+0430] [Ge...</td>\n",
       "      <td>207.213.207.102</td>\n",
       "      <td>[2021-5-12T15:8:59.0+0430]</td>\n",
       "      <td>[Get /cdn/profiles/1289255230]</td>\n",
       "      <td>304</td>\n",
       "      <td>0</td>\n",
       "      <td>[[Googlebot-Image/1.0]]</td>\n",
       "      <td>20</td>\n",
       "    </tr>\n",
       "    <tr>\n",
       "      <th>1260034</th>\n",
       "      <td>207.213.207.224 [2021-5-12T15:9:0.0+0430] [Get...</td>\n",
       "      <td>207.213.207.224</td>\n",
       "      <td>[2021-5-12T15:9:0.0+0430]</td>\n",
       "      <td>[Get /cdn/profiles/1536446365]</td>\n",
       "      <td>304</td>\n",
       "      <td>0</td>\n",
       "      <td>[[Googlebot-Image/1.0]]</td>\n",
       "      <td>44</td>\n",
       "    </tr>\n",
       "  </tbody>\n",
       "</table>\n",
       "</div>"
      ],
      "text/plain": [
       "                                                      line         ClientIp  \\\n",
       "1260030  35.117.86.75 [2021-5-12T15:8:59.0+0430] [Get i...     35.117.86.75   \n",
       "1260031  35.117.86.75 [2021-5-12T15:8:59.0+0430] [Get f...     35.117.86.75   \n",
       "1260032  153.126.251.199 [2021-5-12T15:8:59.0+0430] [Ge...  153.126.251.199   \n",
       "1260033  207.213.207.102 [2021-5-12T15:8:59.0+0430] [Ge...  207.213.207.102   \n",
       "1260034  207.213.207.224 [2021-5-12T15:9:0.0+0430] [Get...  207.213.207.224   \n",
       "\n",
       "                           DateTime                            MethodPath  \\\n",
       "1260030  [2021-5-12T15:8:59.0+0430]         [Get images/graystar_min.png]   \n",
       "1260031  [2021-5-12T15:8:59.0+0430]  [Get fonts/sanjagh_icon_font_5.woff]   \n",
       "1260032  [2021-5-12T15:8:59.0+0430]       [Get /api/v2/connect/215865643]   \n",
       "1260033  [2021-5-12T15:8:59.0+0430]        [Get /cdn/profiles/1289255230]   \n",
       "1260034   [2021-5-12T15:9:0.0+0430]        [Get /cdn/profiles/1536446365]   \n",
       "\n",
       "        StatCode ResponseLength  \\\n",
       "1260030      304              0   \n",
       "1260031      304              0   \n",
       "1260032      101              0   \n",
       "1260033      304              0   \n",
       "1260034      304              0   \n",
       "\n",
       "                                                 UserAgent ResponseTime  \n",
       "1260030  [[Mozilla/5.0 (Linux; Android 9; Redmi 7A) App...            4  \n",
       "1260031  [[Mozilla/5.0 (Linux; Android 9; Redmi 7A) App...            4  \n",
       "1260032                                  [[okhttp/3.12.1]]        60003  \n",
       "1260033                            [[Googlebot-Image/1.0]]           20  \n",
       "1260034                            [[Googlebot-Image/1.0]]           44  "
      ]
     },
     "execution_count": 272,
     "metadata": {},
     "output_type": "execute_result"
    }
   ],
   "source": [
    "df.tail()"
   ]
  },
  {
   "cell_type": "code",
   "execution_count": 276,
   "metadata": {
    "pycharm": {
     "name": "#%%\n"
    }
   },
   "outputs": [],
   "source": [
    "df.to_csv('LogDataRepair.csv',index=False)"
   ]
  },
  {
   "cell_type": "code",
   "execution_count": 277,
   "metadata": {
    "pycharm": {
     "name": "#%%\n"
    }
   },
   "outputs": [],
   "source": [
    "df.to_csv('output.csv.gz'\n",
    "         , header=True\n",
    "         , index=False\n",
    "         , chunksize=100000\n",
    "         , compression='gzip'\n",
    "         , encoding='utf-8')"
   ]
  },
  {
   "cell_type": "code",
   "execution_count": 274,
   "metadata": {
    "pycharm": {
     "name": "#%%\n"
    }
   },
   "outputs": [],
   "source": []
  },
  {
   "cell_type": "code",
   "execution_count": null,
   "metadata": {
    "pycharm": {
     "name": "#%%\n"
    }
   },
   "outputs": [],
   "source": []
  }
 ],
 "metadata": {
  "kernelspec": {
   "display_name": "Python 3",
   "language": "python",
   "name": "python3"
  },
  "language_info": {
   "codemirror_mode": {
    "name": "ipython",
    "version": 3
   },
   "file_extension": ".py",
   "mimetype": "text/x-python",
   "name": "python",
   "nbconvert_exporter": "python",
   "pygments_lexer": "ipython3",
   "version": "3.8.3"
  }
 },
 "nbformat": 4,
 "nbformat_minor": 1
}