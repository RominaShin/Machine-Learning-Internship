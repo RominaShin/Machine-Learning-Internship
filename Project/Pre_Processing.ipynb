{
 "cells": [
  {
   "cell_type": "code",
   "execution_count": 7,
   "metadata": {
    "collapsed": true
   },
   "outputs": [],
   "source": [
    "from __future__ import print_function\n",
    "import pandas as pd\n",
    "import numpy as np\n",
    "import re\n",
    "from tqdm import tqdm,trange\n",
    "import os\n",
    "import time\n",
    "import matplotlib.pyplot as plt\n",
    "import seaborn as sns"
   ]
  },
  {
   "cell_type": "code",
   "execution_count": 8,
   "metadata": {
    "pycharm": {
     "name": "#%%\n"
    }
   },
   "outputs": [],
   "source": [
    "os.chdir('C:\\\\Users\\\\ASUS\\\\PycharmProjects\\\\RahnemaProject')"
   ]
  },
  {
   "cell_type": "code",
   "execution_count": 9,
   "metadata": {
    "pycharm": {
     "name": "#%%\n"
    }
   },
   "outputs": [],
   "source": [
    "df = pd.read_csv('LogDataRepair.csv')"
   ]
  },
  {
   "cell_type": "code",
   "execution_count": 10,
   "metadata": {
    "pycharm": {
     "name": "#%%\n"
    }
   },
   "outputs": [],
   "source": [
    "def get_null(row):\n",
    "    if row =='-':\n",
    "        return np.nan\n",
    "    else:\n",
    "        return row\n",
    "\n",
    "df['ResponseTime'] = df['ResponseTime'].apply(lambda x:get_null(x))\n"
   ]
  },
  {
   "cell_type": "code",
   "execution_count": 11,
   "metadata": {
    "pycharm": {
     "name": "#%%\n"
    }
   },
   "outputs": [
    {
     "data": {
      "text/plain": [
       "line                  0\n",
       "ClientIp          18090\n",
       "DateTime              0\n",
       "MethodPath            0\n",
       "StatCode              0\n",
       "ResponseLength        0\n",
       "UserAgent             0\n",
       "ResponseTime      19808\n",
       "dtype: int64"
      ]
     },
     "execution_count": 11,
     "metadata": {},
     "output_type": "execute_result"
    }
   ],
   "source": [
    "df.isnull().sum()"
   ]
  },
  {
   "cell_type": "code",
   "execution_count": 12,
   "metadata": {
    "pycharm": {
     "name": "#%%\n"
    }
   },
   "outputs": [],
   "source": [
    "df['DateTime'] = df['DateTime'].apply(lambda x:x[1:-1])"
   ]
  },
  {
   "cell_type": "code",
   "execution_count": 13,
   "metadata": {
    "pycharm": {
     "name": "#%%\n"
    }
   },
   "outputs": [],
   "source": [
    "df['DateTime'] = pd.to_datetime(df['DateTime'],unit='ns')"
   ]
  },
  {
   "cell_type": "code",
   "execution_count": 14,
   "metadata": {
    "pycharm": {
     "name": "#%%\n"
    }
   },
   "outputs": [],
   "source": [
    "df['Method'] = df['MethodPath'].apply(lambda x:x.split(' ')[0][1:])\n",
    "df['Path'] = df['MethodPath'].apply(lambda x:x.split(' ')[1][0:-1])"
   ]
  },
  {
   "cell_type": "code",
   "execution_count": 15,
   "metadata": {
    "pycharm": {
     "name": "#%%\n"
    }
   },
   "outputs": [],
   "source": [
    "df = df.drop('MethodPath',axis =1)\n",
    "df = df.drop('line',axis =1)\n"
   ]
  },
  {
   "cell_type": "code",
   "execution_count": 16,
   "metadata": {
    "pycharm": {
     "name": "#%%\n"
    }
   },
   "outputs": [],
   "source": [
    "df['UserAgent'] = df['UserAgent'].apply(lambda x:x[2:-2])\n"
   ]
  },
  {
   "cell_type": "code",
   "execution_count": 17,
   "metadata": {
    "pycharm": {
     "name": "#%%\n"
    }
   },
   "outputs": [],
   "source": [
    "df.columns  = ['client_ip','date_time','status_code','response_length','user_agent','response_time','method','path']"
   ]
  },
  {
   "cell_type": "code",
   "execution_count": 18,
   "metadata": {
    "pycharm": {
     "name": "#%%\n"
    }
   },
   "outputs": [],
   "source": [
    "df = df.sort_values('date_time')"
   ]
  },
  {
   "cell_type": "code",
   "execution_count": 19,
   "metadata": {
    "pycharm": {
     "name": "#%%\n"
    }
   },
   "outputs": [],
   "source": [
    "df = df.reset_index()"
   ]
  },
  {
   "cell_type": "code",
   "execution_count": 20,
   "metadata": {
    "pycharm": {
     "name": "#%%\n"
    }
   },
   "outputs": [
    {
     "data": {
      "text/html": [
       "<div>\n",
       "<style scoped>\n",
       "    .dataframe tbody tr th:only-of-type {\n",
       "        vertical-align: middle;\n",
       "    }\n",
       "\n",
       "    .dataframe tbody tr th {\n",
       "        vertical-align: top;\n",
       "    }\n",
       "\n",
       "    .dataframe thead th {\n",
       "        text-align: right;\n",
       "    }\n",
       "</style>\n",
       "<table border=\"1\" class=\"dataframe\">\n",
       "  <thead>\n",
       "    <tr style=\"text-align: right;\">\n",
       "      <th></th>\n",
       "      <th>client_ip</th>\n",
       "      <th>date_time</th>\n",
       "      <th>status_code</th>\n",
       "      <th>response_length</th>\n",
       "      <th>user_agent</th>\n",
       "      <th>response_time</th>\n",
       "      <th>method</th>\n",
       "      <th>path</th>\n",
       "    </tr>\n",
       "  </thead>\n",
       "  <tbody>\n",
       "    <tr>\n",
       "      <th>0</th>\n",
       "      <td>207.213.193.143</td>\n",
       "      <td>2021-05-12 05:06:00+04:30</td>\n",
       "      <td>304</td>\n",
       "      <td>0</td>\n",
       "      <td>Googlebot-Image/1.0</td>\n",
       "      <td>32</td>\n",
       "      <td>Get</td>\n",
       "      <td>/cdn/profiles/1026106239</td>\n",
       "    </tr>\n",
       "    <tr>\n",
       "      <th>1</th>\n",
       "      <td>20.92.247.170</td>\n",
       "      <td>2021-05-12 05:06:00+04:30</td>\n",
       "      <td>200</td>\n",
       "      <td>0</td>\n",
       "      <td>Go-http-client/2.0</td>\n",
       "      <td>24</td>\n",
       "      <td>Head</td>\n",
       "      <td>/877499224</td>\n",
       "    </tr>\n",
       "    <tr>\n",
       "      <th>2</th>\n",
       "      <td>207.213.193.143</td>\n",
       "      <td>2021-05-12 05:06:00+04:30</td>\n",
       "      <td>304</td>\n",
       "      <td>0</td>\n",
       "      <td>Googlebot-Image/1.0</td>\n",
       "      <td>16</td>\n",
       "      <td>Get</td>\n",
       "      <td>/cdn/pro_photo_gallery/1983423896</td>\n",
       "    </tr>\n",
       "    <tr>\n",
       "      <th>3</th>\n",
       "      <td>76.212.164.3</td>\n",
       "      <td>2021-05-12 05:06:00+04:30</td>\n",
       "      <td>200</td>\n",
       "      <td>0</td>\n",
       "      <td>Go-http-client/2.0</td>\n",
       "      <td>20</td>\n",
       "      <td>Head</td>\n",
       "      <td>/877499224</td>\n",
       "    </tr>\n",
       "    <tr>\n",
       "      <th>4</th>\n",
       "      <td>207.213.193.143</td>\n",
       "      <td>2021-05-12 05:06:00+04:30</td>\n",
       "      <td>304</td>\n",
       "      <td>0</td>\n",
       "      <td>Googlebot-Image/1.0</td>\n",
       "      <td>32</td>\n",
       "      <td>Get</td>\n",
       "      <td>/cdn/pro_photo_gallery/1766634074</td>\n",
       "    </tr>\n",
       "  </tbody>\n",
       "</table>\n",
       "</div>"
      ],
      "text/plain": [
       "         client_ip                 date_time  status_code  response_length  \\\n",
       "0  207.213.193.143 2021-05-12 05:06:00+04:30          304                0   \n",
       "1    20.92.247.170 2021-05-12 05:06:00+04:30          200                0   \n",
       "2  207.213.193.143 2021-05-12 05:06:00+04:30          304                0   \n",
       "3     76.212.164.3 2021-05-12 05:06:00+04:30          200                0   \n",
       "4  207.213.193.143 2021-05-12 05:06:00+04:30          304                0   \n",
       "\n",
       "            user_agent response_time method                               path  \n",
       "0  Googlebot-Image/1.0            32    Get           /cdn/profiles/1026106239  \n",
       "1   Go-http-client/2.0            24   Head                         /877499224  \n",
       "2  Googlebot-Image/1.0            16    Get  /cdn/pro_photo_gallery/1983423896  \n",
       "3   Go-http-client/2.0            20   Head                         /877499224  \n",
       "4  Googlebot-Image/1.0            32    Get  /cdn/pro_photo_gallery/1766634074  "
      ]
     },
     "execution_count": 20,
     "metadata": {},
     "output_type": "execute_result"
    }
   ],
   "source": [
    "df = df.drop('index',axis=1)\n",
    "df.head()\n"
   ]
  },
  {
   "cell_type": "code",
   "execution_count": 28,
   "metadata": {
    "pycharm": {
     "name": "#%%\n"
    }
   },
   "outputs": [
    {
     "data": {
      "text/plain": [
       "dtype('float64')"
      ]
     },
     "execution_count": 28,
     "metadata": {},
     "output_type": "execute_result"
    }
   ],
   "source": [
    "df['response_time'] = df['response_time'].apply(lambda x:float(x) )\n",
    "df['response_time'].dtype"
   ]
  },
  {
   "cell_type": "code",
   "execution_count": 25,
   "metadata": {
    "pycharm": {
     "name": "#%%\n"
    }
   },
   "outputs": [
    {
     "data": {
      "text/html": [
       "<div>\n",
       "<style scoped>\n",
       "    .dataframe tbody tr th:only-of-type {\n",
       "        vertical-align: middle;\n",
       "    }\n",
       "\n",
       "    .dataframe tbody tr th {\n",
       "        vertical-align: top;\n",
       "    }\n",
       "\n",
       "    .dataframe thead th {\n",
       "        text-align: right;\n",
       "    }\n",
       "</style>\n",
       "<table border=\"1\" class=\"dataframe\">\n",
       "  <thead>\n",
       "    <tr style=\"text-align: right;\">\n",
       "      <th></th>\n",
       "      <th>status_code</th>\n",
       "      <th>response_length</th>\n",
       "    </tr>\n",
       "  </thead>\n",
       "  <tbody>\n",
       "    <tr>\n",
       "      <th>count</th>\n",
       "      <td>1.260035e+06</td>\n",
       "      <td>1.260035e+06</td>\n",
       "    </tr>\n",
       "    <tr>\n",
       "      <th>mean</th>\n",
       "      <td>2.313682e+02</td>\n",
       "      <td>4.580962e+04</td>\n",
       "    </tr>\n",
       "    <tr>\n",
       "      <th>std</th>\n",
       "      <td>5.804793e+01</td>\n",
       "      <td>3.350437e+05</td>\n",
       "    </tr>\n",
       "    <tr>\n",
       "      <th>min</th>\n",
       "      <td>1.010000e+02</td>\n",
       "      <td>0.000000e+00</td>\n",
       "    </tr>\n",
       "    <tr>\n",
       "      <th>25%</th>\n",
       "      <td>2.000000e+02</td>\n",
       "      <td>0.000000e+00</td>\n",
       "    </tr>\n",
       "    <tr>\n",
       "      <th>50%</th>\n",
       "      <td>2.000000e+02</td>\n",
       "      <td>1.201000e+03</td>\n",
       "    </tr>\n",
       "    <tr>\n",
       "      <th>75%</th>\n",
       "      <td>3.040000e+02</td>\n",
       "      <td>2.650500e+04</td>\n",
       "    </tr>\n",
       "    <tr>\n",
       "      <th>max</th>\n",
       "      <td>5.030000e+02</td>\n",
       "      <td>1.022335e+08</td>\n",
       "    </tr>\n",
       "  </tbody>\n",
       "</table>\n",
       "</div>"
      ],
      "text/plain": [
       "        status_code  response_length\n",
       "count  1.260035e+06     1.260035e+06\n",
       "mean   2.313682e+02     4.580962e+04\n",
       "std    5.804793e+01     3.350437e+05\n",
       "min    1.010000e+02     0.000000e+00\n",
       "25%    2.000000e+02     0.000000e+00\n",
       "50%    2.000000e+02     1.201000e+03\n",
       "75%    3.040000e+02     2.650500e+04\n",
       "max    5.030000e+02     1.022335e+08"
      ]
     },
     "execution_count": 25,
     "metadata": {},
     "output_type": "execute_result"
    }
   ],
   "source": [
    "df.describe()"
   ]
  },
  {
   "cell_type": "code",
   "execution_count": 33,
   "metadata": {
    "pycharm": {
     "name": "#%%\n"
    }
   },
   "outputs": [
    {
     "name": "stdout",
     "output_type": "stream",
     "text": [
      "<class 'pandas.core.frame.DataFrame'>\n",
      "Int64Index: 1260035 entries, 0 to 1260034\n",
      "Data columns (total 8 columns):\n",
      " #   Column           Non-Null Count    Dtype                                \n",
      "---  ------           --------------    -----                                \n",
      " 0   client_ip        1241945 non-null  object                               \n",
      " 1   date_time        1260035 non-null  datetime64[ns, pytz.FixedOffset(270)]\n",
      " 2   status_code      1260035 non-null  int64                                \n",
      " 3   response_length  1260035 non-null  int64                                \n",
      " 4   user_agent       1260035 non-null  object                               \n",
      " 5   response_time    1240227 non-null  float64                              \n",
      " 6   method           1260035 non-null  object                               \n",
      " 7   path             1260035 non-null  object                               \n",
      "dtypes: datetime64[ns, pytz.FixedOffset(270)](1), float64(1), int64(2), object(4)\n",
      "memory usage: 126.5+ MB\n"
     ]
    }
   ],
   "source": [
    "df.info()\n"
   ]
  },
  {
   "cell_type": "code",
   "execution_count": 21,
   "metadata": {
    "pycharm": {
     "name": "#%%\n"
    }
   },
   "outputs": [
    {
     "data": {
      "text/plain": [
       "<matplotlib.axes._subplots.AxesSubplot at 0x1e5f50531c0>"
      ]
     },
     "execution_count": 21,
     "metadata": {},
     "output_type": "execute_result"
    },
    {
     "data": {
      "image/png": "[encoded data removed]",
      "text/plain": [
       "<Figure size 720x432 with 1 Axes>"
      ]
     },
     "metadata": {},
     "output_type": "display_data"
    }
   ],
   "source": [
    "sns.set_style('darkgrid')\n",
    "plt.figure(figsize=(10,6))\n",
    "sns.countplot(df['method'])"
   ]
  },
  {
   "cell_type": "code",
   "execution_count": 39,
   "metadata": {
    "pycharm": {
     "name": "#%%\n"
    }
   },
   "outputs": [
    {
     "data": {
      "text/plain": [
       "<matplotlib.axes._subplots.AxesSubplot at 0x1e74cc26c40>"
      ]
     },
     "execution_count": 39,
     "metadata": {},
     "output_type": "execute_result"
    },
    {
     "data": {
      "image/png": "[encoded data removed]",
      "text/plain": [
       "<Figure size 720x432 with 1 Axes>"
      ]
     },
     "metadata": {},
     "output_type": "display_data"
    }
   ],
   "source": [
    "plt.figure(figsize=(10,6))\n",
    "TS_df = df.set_index('date_time')\n",
    "TS_df['response_time'].plot()"
   ]
  },
  {
   "cell_type": "code",
   "execution_count": 48,
   "metadata": {
    "pycharm": {
     "name": "#%%\n"
    }
   },
   "outputs": [
    {
     "data": {
      "text/plain": [
       "<matplotlib.axes._subplots.AxesSubplot at 0x1e78c1e2cd0>"
      ]
     },
     "execution_count": 48,
     "metadata": {},
     "output_type": "execute_result"
    },
    {
     "data": {
      "image/png": "[encoded data removed]",
      "text/plain": [
       "<Figure size 864x432 with 1 Axes>"
      ]
     },
     "metadata": {},
     "output_type": "display_data"
    }
   ],
   "source": [
    "plt.figure(figsize=(12,6))\n",
    "TS_df = df.set_index('date_time')\n",
    "TS_df['response_length'].plot()"
   ]
  },
  {
   "cell_type": "code",
   "execution_count": 36,
   "metadata": {
    "pycharm": {
     "name": "#%%\n"
    }
   },
   "outputs": [
    {
     "data": {
      "text/plain": [
       "<matplotlib.axes._subplots.AxesSubplot at 0x1e5c5406d00>"
      ]
     },
     "execution_count": 36,
     "metadata": {},
     "output_type": "execute_result"
    },
    {
     "data": {
      "image/png": "[encoded data removed]",
      "text/plain": [
       "<Figure size 720x432 with 1 Axes>"
      ]
     },
     "metadata": {},
     "output_type": "display_data"
    }
   ],
   "source": [
    "plt.figure(figsize=(10,6))\n",
    "sns.countplot(df['status_code'])"
   ]
  },
  {
   "cell_type": "code",
   "execution_count": 29,
   "metadata": {
    "pycharm": {
     "name": "#%%\n"
    }
   },
   "outputs": [],
   "source": [
    "user_df = df.groupby(by=['client_ip','user_agent']).mean()['response_time']"
   ]
  },
  {
   "cell_type": "code",
   "execution_count": 30,
   "metadata": {
    "pycharm": {
     "name": "#%%\n"
    }
   },
   "outputs": [
    {
     "data": {
      "text/html": [
       "<div>\n",
       "<style scoped>\n",
       "    .dataframe tbody tr th:only-of-type {\n",
       "        vertical-align: middle;\n",
       "    }\n",
       "\n",
       "    .dataframe tbody tr th {\n",
       "        vertical-align: top;\n",
       "    }\n",
       "\n",
       "    .dataframe thead th {\n",
       "        text-align: right;\n",
       "    }\n",
       "</style>\n",
       "<table border=\"1\" class=\"dataframe\">\n",
       "  <thead>\n",
       "    <tr style=\"text-align: right;\">\n",
       "      <th></th>\n",
       "      <th></th>\n",
       "      <th>response_time</th>\n",
       "    </tr>\n",
       "    <tr>\n",
       "      <th>client_ip</th>\n",
       "      <th>user_agent</th>\n",
       "      <th></th>\n",
       "    </tr>\n",
       "  </thead>\n",
       "  <tbody>\n",
       "    <tr>\n",
       "      <th>1.56.57.214</th>\n",
       "      <th>Mozilla/5.0 (iPhone; CPU iPhone OS 14_6 like Mac OS X) AppleWebKit/605.1.15 (KHTML, like Gecko) Version/14.1.1 Mobile/15E148 Safari/604.1</th>\n",
       "      <td>28.000000</td>\n",
       "    </tr>\n",
       "    <tr>\n",
       "      <th>1.66.71.34</th>\n",
       "      <th>Mozilla/5.0 (iPhone; CPU iPhone OS 14_4_2 like Mac OS X) AppleWebKit/605.1.15 (KHTML, like Gecko) Version/14.0.3 Mobile/15E148 Safari/604.1</th>\n",
       "      <td>28.000000</td>\n",
       "    </tr>\n",
       "    <tr>\n",
       "      <th>1.81.122.235</th>\n",
       "      <th>Mozilla/5.0 (iPhone; CPU iPhone OS 14_6 like Mac OS X) AppleWebKit/605.1.15 (KHTML, like Gecko) Version/14.1.1 Mobile/15E148 Safari/604.1</th>\n",
       "      <td>41.714286</td>\n",
       "    </tr>\n",
       "    <tr>\n",
       "      <th>10.92.2.8</th>\n",
       "      <th>Mozilla/5.0 (Linux; Android 6.0.1; SAMSUNG SM-A500H) AppleWebKit/537.36 (KHTML, like Gecko) SamsungBrowser/14.0 Chrome/87.0.4280.141 Mobile Safari/537.36</th>\n",
       "      <td>25.428571</td>\n",
       "    </tr>\n",
       "    <tr>\n",
       "      <th>100.92.35.41</th>\n",
       "      <th>Mozilla/5.0 (Linux; Android 9; SM-A205F) AppleWebKit/537.36 (KHTML, like Gecko) Chrome/91.0.4472.101 Mobile Safari/537.36</th>\n",
       "      <td>26.333333</td>\n",
       "    </tr>\n",
       "    <tr>\n",
       "      <th>...</th>\n",
       "      <th>...</th>\n",
       "      <td>...</td>\n",
       "    </tr>\n",
       "    <tr>\n",
       "      <th rowspan=\"3\" valign=\"top\">99.239.78.14</th>\n",
       "      <th>Mozilla/5.0 (Windows NT 10.0; Win64; x64) AppleWebKit/537.36 (KHTML, like Gecko) Chrome/91.0.4472.101 Safari/537.36</th>\n",
       "      <td>7.428571</td>\n",
       "    </tr>\n",
       "    <tr>\n",
       "      <th>Mozilla/5.0 (Windows NT 10.0; Win64; x64) AppleWebKit/537.36 (KHTML, like Gecko) Chrome/91.0.4472.77 Safari/537.36</th>\n",
       "      <td>9.272727</td>\n",
       "    </tr>\n",
       "    <tr>\n",
       "      <th>Mozilla/5.0 (Windows NT 6.3; Win64; x64) AppleWebKit/537.36 (KHTML, like Gecko) Chrome/91.0.4472.77 Safari/537.36</th>\n",
       "      <td>8.380952</td>\n",
       "    </tr>\n",
       "    <tr>\n",
       "      <th>99.239.97.147</th>\n",
       "      <th>Mozilla/5.0 (Windows NT 10.0; Win64; x64; rv:89.0) Gecko/20100101 Firefox/89.0</th>\n",
       "      <td>24.601770</td>\n",
       "    </tr>\n",
       "    <tr>\n",
       "      <th>99.96.90.10</th>\n",
       "      <th>Mozilla/5.0 (iPhone; CPU iPhone OS 14_6 like Mac OS X) AppleWebKit/605.1.15 (KHTML, like Gecko) Version/14.1.1 Mobile/15E148 Safari/604.1</th>\n",
       "      <td>28.000000</td>\n",
       "    </tr>\n",
       "  </tbody>\n",
       "</table>\n",
       "<p>51125 rows × 1 columns</p>\n",
       "</div>"
      ],
      "text/plain": [
       "                                                                  response_time\n",
       "client_ip     user_agent                                                       \n",
       "1.56.57.214   Mozilla/5.0 (iPhone; CPU iPhone OS 14_6 like Ma...      28.000000\n",
       "1.66.71.34    Mozilla/5.0 (iPhone; CPU iPhone OS 14_4_2 like ...      28.000000\n",
       "1.81.122.235  Mozilla/5.0 (iPhone; CPU iPhone OS 14_6 like Ma...      41.714286\n",
       "10.92.2.8     Mozilla/5.0 (Linux; Android 6.0.1; SAMSUNG SM-A...      25.428571\n",
       "100.92.35.41  Mozilla/5.0 (Linux; Android 9; SM-A205F) AppleW...      26.333333\n",
       "...                                                                         ...\n",
       "99.239.78.14  Mozilla/5.0 (Windows NT 10.0; Win64; x64) Apple...       7.428571\n",
       "              Mozilla/5.0 (Windows NT 10.0; Win64; x64) Apple...       9.272727\n",
       "              Mozilla/5.0 (Windows NT 6.3; Win64; x64) AppleW...       8.380952\n",
       "99.239.97.147 Mozilla/5.0 (Windows NT 10.0; Win64; x64; rv:89...      24.601770\n",
       "99.96.90.10   Mozilla/5.0 (iPhone; CPU iPhone OS 14_6 like Ma...      28.000000\n",
       "\n",
       "[51125 rows x 1 columns]"
      ]
     },
     "execution_count": 30,
     "metadata": {},
     "output_type": "execute_result"
    }
   ],
   "source": [
    "pd.DataFrame(user_df)"
   ]
  },
  {
   "cell_type": "code",
   "execution_count": 38,
   "metadata": {
    "pycharm": {
     "name": "#%%\n"
    }
   },
   "outputs": [
    {
     "data": {
      "text/plain": [
       "<matplotlib.axes._subplots.AxesSubplot at 0x22fc802e0a0>"
      ]
     },
     "execution_count": 38,
     "metadata": {},
     "output_type": "execute_result"
    },
    {
     "data": {
      "image/png": "[encoded data removed]",
      "text/plain": [
       "<Figure size 720x432 with 1 Axes>"
      ]
     },
     "metadata": {},
     "output_type": "display_data"
    }
   ],
   "source": [
    "sns.set_style('darkgrid')\n",
    "plt.figure(figsize=(10,6))\n",
    "user_df[user_df<0.5*10**6].hist(bins=50)\n"
   ]
  },
  {
   "cell_type": "code",
   "execution_count": 84,
   "metadata": {
    "pycharm": {
     "name": "#%%\n"
    }
   },
   "outputs": [],
   "source": [
    "df.to_csv('Processed_Data.csv')\n"
   ]
  },
  {
   "cell_type": "markdown",
   "metadata": {
    "pycharm": {
     "name": "#%% md\n"
    }
   },
   "source": [
    "geo location based on ip\n",
    "\n",
    "last refer (time based)\n",
    "last refer (page)\n",
    "\n",
    "Pca with no processing\n",
    "path analysis -> path tree"
   ]
  },
  {
   "cell_type": "markdown",
   "metadata": {
    "pycharm": {
     "name": "#%% md\n"
    }
   },
   "source": [
    "Handle Null Values\n",
    "---"
   ]
  },
  {
   "cell_type": "code",
   "execution_count": 123,
   "metadata": {
    "pycharm": {
     "name": "#%%\n"
    }
   },
   "outputs": [],
   "source": [
    "df = pd.read_csv('Processed_Data.csv')\n",
    "df = df.drop('Unnamed: 0',axis=1)"
   ]
  },
  {
   "cell_type": "code",
   "execution_count": 23,
   "metadata": {
    "pycharm": {
     "name": "#%%\n"
    }
   },
   "outputs": [],
   "source": [
    "server_ip = '300.300.300.300'\n",
    "server_response_time = 0"
   ]
  },
  {
   "cell_type": "code",
   "execution_count": 24,
   "metadata": {
    "pycharm": {
     "name": "#%%\n"
    }
   },
   "outputs": [],
   "source": [
    "df.loc[(df['user_agent']=='kube-probe/1.21')&(df['client_ip'].isnull()==True),'client_ip'] = server_ip"
   ]
  },
  {
   "cell_type": "code",
   "execution_count": 25,
   "metadata": {
    "pycharm": {
     "name": "#%%\n"
    }
   },
   "outputs": [],
   "source": [
    "df.loc[(df['user_agent']=='kube-probe/1.21')&(df['response_time'].isnull()==True)&(df['client_ip']==server_ip),'response_time'] = server_response_time"
   ]
  },
  {
   "cell_type": "code",
   "execution_count": 26,
   "metadata": {
    "pycharm": {
     "name": "#%%\n"
    }
   },
   "outputs": [
    {
     "name": "stdout",
     "output_type": "stream",
     "text": [
      "<class 'pandas.core.frame.DataFrame'>\n",
      "RangeIndex: 1260035 entries, 0 to 1260034\n",
      "Data columns (total 8 columns):\n",
      " #   Column           Non-Null Count    Dtype                                \n",
      "---  ------           --------------    -----                                \n",
      " 0   client_ip        1260035 non-null  object                               \n",
      " 1   date_time        1260035 non-null  datetime64[ns, pytz.FixedOffset(270)]\n",
      " 2   status_code      1260035 non-null  int64                                \n",
      " 3   response_length  1260035 non-null  int64                                \n",
      " 4   user_agent       1260035 non-null  object                               \n",
      " 5   response_time    1258317 non-null  object                               \n",
      " 6   method           1260035 non-null  object                               \n",
      " 7   path             1260035 non-null  object                               \n",
      "dtypes: datetime64[ns, pytz.FixedOffset(270)](1), int64(2), object(5)\n",
      "memory usage: 76.9+ MB\n"
     ]
    }
   ],
   "source": [
    "df.info()"
   ]
  },
  {
   "cell_type": "code",
   "execution_count": 127,
   "metadata": {
    "pycharm": {
     "name": "#%%\n"
    }
   },
   "outputs": [
    {
     "data": {
      "text/plain": [
       "client_ip             0\n",
       "date_time             0\n",
       "status_code           0\n",
       "response_length       0\n",
       "user_agent            0\n",
       "response_time      1718\n",
       "method                0\n",
       "path                  0\n",
       "dtype: int64"
      ]
     },
     "execution_count": 127,
     "metadata": {},
     "output_type": "execute_result"
    }
   ],
   "source": [
    "df.isnull().sum()\n"
   ]
  },
  {
   "cell_type": "code",
   "execution_count": 128,
   "metadata": {
    "pycharm": {
     "name": "#%%\n"
    }
   },
   "outputs": [],
   "source": [
    "df['client_ip'] = df['client_ip'].apply(lambda x:x if x[-1]!=' ' else x[:-1])"
   ]
  },
  {
   "cell_type": "code",
   "execution_count": 129,
   "metadata": {
    "pycharm": {
     "name": "#%%\n"
    }
   },
   "outputs": [],
   "source": [
    "df.to_csv('pre_processing_v2.csv')"
   ]
  },
  {
   "cell_type": "code",
   "execution_count": null,
   "metadata": {
    "pycharm": {
     "name": "#%%\n"
    }
   },
   "outputs": [],
   "source": [
    "df[df['response_time'].isnull()==True]\n"
   ]
  }
 ],
 "metadata": {
  "kernelspec": {
   "display_name": "Python 3",
   "language": "python",
   "name": "python3"
  },
  "language_info": {
   "codemirror_mode": {
    "name": "ipython",
    "version": 3
   },
   "file_extension": ".py",
   "mimetype": "text/x-python",
   "name": "python",
   "nbconvert_exporter": "python",
   "pygments_lexer": "ipython3",
   "version": "3.8.3"
  }
 },
 "nbformat": 4,
 "nbformat_minor": 1
}
