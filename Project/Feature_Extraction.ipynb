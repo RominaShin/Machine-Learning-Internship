{
 "cells": [
  {
   "cell_type": "code",
   "execution_count": 1,
   "metadata": {
    "collapsed": true
   },
   "outputs": [],
   "source": [
    "\n",
    "from __future__ import print_function\n",
    "import pandas as pd\n",
    "import numpy as np\n",
    "import re\n",
    "from tqdm import tqdm,trange\n",
    "import os\n",
    "import time\n",
    "import matplotlib.pyplot as plt\n",
    "import seaborn as sns"
   ]
  },
  {
   "cell_type": "code",
   "execution_count": 2,
   "metadata": {
    "pycharm": {
     "name": "#%%\n"
    }
   },
   "outputs": [],
   "source": [
    "os.chdir('C:\\\\Users\\\\ASUS\\\\PycharmProjects\\\\RahnemaProject')"
   ]
  },
  {
   "cell_type": "code",
   "execution_count": 3,
   "metadata": {
    "pycharm": {
     "name": "#%%\n"
    }
   },
   "outputs": [],
   "source": [
    "df = pd.read_csv('pre_processing_v2.csv')\n"
   ]
  },
  {
   "cell_type": "code",
   "execution_count": 4,
   "metadata": {
    "pycharm": {
     "name": "#%%\n"
    }
   },
   "outputs": [],
   "source": [
    "df = df.drop('Unnamed: 0',axis=1)"
   ]
  },
  {
   "cell_type": "code",
   "execution_count": 12,
   "metadata": {
    "pycharm": {
     "name": "#%%\n"
    }
   },
   "outputs": [],
   "source": [
    "from pandas_profiling import ProfileReport\n",
    "profile = ProfileReport(df)\n",
    "profile.to_file(\"C:\\\\Users\\\\ASUS\\\\PycharmProjects\\\\RahnemaProject\\\\report.html\")"
   ]
  },
  {
   "cell_type": "markdown",
   "metadata": {
    "pycharm": {
     "name": "#%% md\n"
    }
   },
   "source": [
    "GeoLocation"
   ]
  },
  {
   "cell_type": "code",
   "execution_count": 5,
   "metadata": {
    "pycharm": {
     "name": "#%%\n"
    }
   },
   "outputs": [],
   "source": [
    "from geolite2 import geolite2"
   ]
  },
  {
   "cell_type": "code",
   "execution_count": 10,
   "metadata": {
    "pycharm": {
     "name": "#%%\n"
    }
   },
   "outputs": [],
   "source": [
    "\n",
    "def get_country(ip):\n",
    "    try:\n",
    "        x = geo.get(ip)\n",
    "    except ValueError:\n",
    "        return np.nan\n",
    "    try:\n",
    "        return x['country']['names']['en'] if x else np.nan\n",
    "    except KeyError:\n",
    "        return np.nan"
   ]
  },
  {
   "cell_type": "code",
   "execution_count": 11,
   "metadata": {
    "pycharm": {
     "name": "#%%\n"
    }
   },
   "outputs": [],
   "source": [
    "geo = geolite2.reader()\n",
    "\n",
    "unique_ips = df['client_ip'].unique()\n",
    "unique_ips = pd.Series(unique_ips, index = unique_ips)\n",
    "df['geolocation'] = df['client_ip'].map(unique_ips.apply(get_country))\n",
    "\n",
    "geolite2.close()"
   ]
  },
  {
   "cell_type": "code",
   "execution_count": 12,
   "metadata": {
    "pycharm": {
     "name": "#%%\n"
    }
   },
   "outputs": [
    {
     "data": {
      "text/plain": [
       "United States        759912\n",
       "Japan                 76115\n",
       "China                 62504\n",
       "France                30593\n",
       "United Kingdom        27328\n",
       "Germany               25054\n",
       "Republic of Korea     14544\n",
       "Russia                12483\n",
       "Vietnam               12038\n",
       "Mexico                 8768\n",
       "Name: geolocation, dtype: int64"
      ]
     },
     "execution_count": 12,
     "metadata": {},
     "output_type": "execute_result"
    }
   ],
   "source": [
    "locations = df['geolocation'].value_counts()\n",
    "#sns.countplot(locations.loc[0:10])\n",
    "locations[0:10]"
   ]
  },
  {
   "cell_type": "code",
   "execution_count": null,
   "metadata": {
    "pycharm": {
     "name": "#%%\n"
    }
   },
   "outputs": [],
   "source": [
    "sns.countplot(df[df['geolocation'] in list(locations[0:10].index),'geolocation'])"
   ]
  },
  {
   "cell_type": "code",
   "execution_count": 45,
   "metadata": {
    "pycharm": {
     "name": "#%%\n"
    }
   },
   "outputs": [
    {
     "data": {
      "text/plain": [
       "<matplotlib.axes._subplots.AxesSubplot at 0x25f37d10040>"
      ]
     },
     "execution_count": 45,
     "metadata": {},
     "output_type": "execute_result"
    },
    {
     "data": {
      "image/png": "[encoded data removed]",
      "text/plain": [
       "<Figure size 720x432 with 1 Axes>"
      ]
     },
     "metadata": {},
     "output_type": "display_data"
    }
   ],
   "source": [
    "sns.set_style('darkgrid')\n",
    "plt.figure(figsize=(10,6))\n",
    "df.groupby('geolocation').count().sort_values('client_ip',ascending=False).iloc[0:30]['client_ip'].plot()"
   ]
  },
  {
   "cell_type": "code",
   "execution_count": 47,
   "metadata": {
    "pycharm": {
     "name": "#%%\n"
    }
   },
   "outputs": [
    {
     "data": {
      "text/plain": [
       "client_ip              0\n",
       "date_time              0\n",
       "status_code            0\n",
       "response_length        0\n",
       "user_agent             0\n",
       "response_time       1718\n",
       "method                 0\n",
       "path                   0\n",
       "geolocation        96940\n",
       "dtype: int64"
      ]
     },
     "execution_count": 47,
     "metadata": {},
     "output_type": "execute_result"
    }
   ],
   "source": [
    "df.isnull().sum()\n"
   ]
  },
  {
   "cell_type": "markdown",
   "metadata": {
    "pycharm": {
     "name": "#%% md\n"
    }
   },
   "source": [
    "Last Refer\n",
    "---"
   ]
  },
  {
   "cell_type": "code",
   "execution_count": 60,
   "metadata": {
    "pycharm": {
     "name": "#%%\n"
    }
   },
   "outputs": [],
   "source": [
    "def get_last_visit(user_refer,index):\n",
    "    global df\n",
    "    #rowcopy = user_refer\n",
    "    ip = user_refer['client_ip']\n",
    "    #user_agent = df.loc[index, 'user_agent']\n",
    "    user_agent = user_refer['user_agent']\n",
    "    #print(type(index))\n",
    "    temp_df = df[(df['client_ip']==ip)&(df['user_agent']==user_agent)]\n",
    "    index_refer = temp_df.index.get_loc(index)\n",
    "    try:\n",
    "        if index_refer != 0:\n",
    "            df.loc[index,'last_refer'] = temp_df.iloc[index_refer-1]['date_time']\n",
    "        else:\n",
    "            df.loc[index,'last_refer'] = 0\n",
    "        #return rowcopy\n",
    "    except IndexError or ValueError:\n",
    "        df.loc[index,'last_refer'] = 0\n",
    "        #return rowcopy"
   ]
  },
  {
   "cell_type": "code",
   "execution_count": 16,
   "metadata": {
    "pycharm": {
     "name": "#%%\n"
    }
   },
   "outputs": [],
   "source": [
    "#df['last_refer'] = df.apply(lambda row:get_last_visit(row,row.name) ,axis=1)\n",
    "\n",
    "\n",
    "df['last_refer'] = df.groupby(['client_ip','user_agent'])['date_time'].shift(1)\n",
    "df['last_page'] = df.groupby(['client_ip','user_agent'])['coded_path'].shift(1)\n"
   ]
  },
  {
   "cell_type": "markdown",
   "metadata": {
    "pycharm": {
     "name": "#%% md\n"
    }
   },
   "source": [
    "Path Analysis\n",
    "---\n"
   ]
  },
  {
   "cell_type": "code",
   "execution_count": 13,
   "metadata": {
    "pycharm": {
     "name": "#%%\n"
    }
   },
   "outputs": [],
   "source": [
    "path = {}\n",
    "value = 1"
   ]
  },
  {
   "cell_type": "code",
   "execution_count": 14,
   "metadata": {
    "pycharm": {
     "name": "#%%\n"
    }
   },
   "outputs": [],
   "source": [
    "def path_address(url_path):\n",
    "    global path,value\n",
    "    url = url_path.split('/')\n",
    "    coded_path = []\n",
    "    if url[0]=='':\n",
    "        if url[1]!='api':\n",
    "            for i in url[1:-1]:\n",
    "                if i in path.keys():\n",
    "                    coded_path.append(path[i])\n",
    "                else:\n",
    "                    path[i]=value\n",
    "                    value = value+1\n",
    "        else:\n",
    "            for i in url[1:]:\n",
    "                if i in path.keys():\n",
    "                    coded_path.append(path[i])\n",
    "                else:\n",
    "                    path[i]=value\n",
    "                    value = value+1\n",
    "    else:\n",
    "        for i in url[0:-1]:\n",
    "            if i in path.keys():\n",
    "                coded_path.append(path[i])\n",
    "            else:\n",
    "                path[i]=value\n",
    "                value = value+1\n",
    "    return '-'.join(map(str,coded_path))"
   ]
  },
  {
   "cell_type": "code",
   "execution_count": 15,
   "metadata": {
    "pycharm": {
     "name": "#%%\n"
    }
   },
   "outputs": [],
   "source": [
    "df['coded_path'] = df['path'].apply(lambda x:path_address(x))"
   ]
  },
  {
   "cell_type": "code",
   "execution_count": 45,
   "metadata": {
    "pycharm": {
     "name": "#%%\n"
    }
   },
   "outputs": [
    {
     "data": {
      "text/plain": [
       "array(['', '1', '1-3', '5', '6', '4', '8', '9', '1-2', '4-7', '16',\n",
       "       '1-17', '12', '12-18-19', '12-13-14', '1-21', '12-18', '15', '10',\n",
       "       '4-20', '28', '10-25', '12-18-22', '24-15', '24-10', '12-13', '24',\n",
       "       '12-24', '34-35', '1-33', '4-40', '10-31', '24-34-35', '41',\n",
       "       '24-28', '12-19', '12-48-49', '4-27', '24-10-31', '12-24-36',\n",
       "       '12-13-32', '12-47-19', '24-10-53', '59-12-60-61', '12-56-57-58',\n",
       "       '44', '10-43', '34', '74', '10-53', '71', '34-73', '10-85',\n",
       "       '1-92-93', '24-44', '24-10-70', '24-10-94', '24-9', '24-10-103',\n",
       "       '24-10-25', '24-10-85', '24-10-79', '4-28', '10-51',\n",
       "       '12-24-36-108', '1-92', '1-92-117', '10-103', '10-78', '10-94',\n",
       "       '39', '12-24-36-137', '10-118', '10-89', '12-122-123-124',\n",
       "       '12-52-19', '68', '34-41', '10-109', '24-10-164', '24-10-69',\n",
       "       '10-26', '12-24-36-167', '10-127', '24-10-115', '10-163',\n",
       "       '24-10-11', '10-105', '10-69', '187', '10-166', '10-102',\n",
       "       '24-10-192', '10-70', '10-143', '24-10-78', '10-149',\n",
       "       '12-24-36-203', '1-7', '218', '24-10-127', '129', '10-140',\n",
       "       '12-24-36-132', '24-10-125', '10-196', '12-24-36-177', '161',\n",
       "       '24-10-102', '10-115', '24-10-143', '24-10-140', '12-24-36-154',\n",
       "       '10-192', '12-49', '12-24-36-209', '24-10-163', '12-24-36-280',\n",
       "       '240', '24-10-166', '12-24-36-72', '10-67', '12-24-36-322',\n",
       "       '24-10-149', '10-296', '24-10-296', '1-279', '24-10-51', '24-41',\n",
       "       '24-10-26', '12-24-36-343', '24-10-231', '10-341', '106-28',\n",
       "       '6-355', '24-10-165', '12-24-36-352', '10-125', '24-10-118', '195',\n",
       "       '71-296', '1-184', '10-231', '1-292', '10-165', '1-134', '240-241',\n",
       "       '34-150', '24-10-89', '10-456', '71-105', '24-10-67', '24-10-456',\n",
       "       '12-24-36-350', '12-24-36-37', '12-24-36-380', '71-31',\n",
       "       '24-10-109', '12-24-36-487', '10-79', '24-10-100', '24-10-105',\n",
       "       '10-398', '24-10-196', '12-24-36-596', '12-24-36-607', '12-270-49',\n",
       "       '24-240-241', '10-11', '12-270-49-271-272', '71-103', '10-246',\n",
       "       '1-719', '598', '10-575', '10-263', '10-100', '800', '10-618',\n",
       "       '12-24-36-613', '12-24-36-731', '71-196', '24-10-43', '433',\n",
       "       '24-10-575', '10-484', '12-24-36-564', '12-24-36-111', '1-49-271',\n",
       "       '12-122-123', '12-24-36-200', '24-10-246', '10-164', '1-664',\n",
       "       '12-24-36-397', '1-92-461', '923', '365', '12-24-36-396',\n",
       "       '12-24-36-212', '12-24-36-1051', '1-92-1070', '12-24-36-87',\n",
       "       '12-24-36-1081', '12-24-36-1074', '10-419', '24-10-618',\n",
       "       '1-92-1108', '12-24-36-790', '12-24-36-1052', '12-24-36-297',\n",
       "       '71-125', '12-24-36-744', '12-24-36-1155', '12-24-36-95', '926',\n",
       "       '1137', '12-24-36-1179', '12-24-36-1195', '71-78', '12-24-36-849',\n",
       "       '12-24-36-1239', '12-24-36-914', '12-24-36-1306', '24-10-484',\n",
       "       '12-24-36-1194', '12-24-36-1368', '4-1387', '71-69',\n",
       "       '12-24-36-1435', '71-109', '4-814', '12-24-36-1366', '4-1412-814',\n",
       "       '12-24-36-136', '1271', '12-24-36-247', '12-24-36-1458',\n",
       "       '12-122-123-891', '12-24-36-529', '12-24-36-1437', '12-24-36-88',\n",
       "       '12-24-36-1774', '24-10-398', '12-24-36-1787', '12-24-36-1795',\n",
       "       '12-24-36-1762', '12-24-36-435', '12-24-36-1833', '12-24-36-1398',\n",
       "       '12-24-36-1598', '10-588', '12-24-36-1525', '12-24-36-1532',\n",
       "       '12-24-36-732', '12-24-36-1894', '12-24-36-769', '24-10-263',\n",
       "       '12-24-36-1077', '12-24-36-265', '12-24-36-1996', '12-24-36-552',\n",
       "       '1-887-49-271', '71-53', '12-24-36-951', '12-24-36-2159',\n",
       "       '24-10-588', '12-24-36-326', '12-24-36-1811', '12-24-36-2294',\n",
       "       '12-24-36-2231', '12-24-36-548', '12-24-36-2438', '1-887-49',\n",
       "       '887-272', '12-24-36-414', '12-24-36-181', '12-24-36-1498',\n",
       "       '12-24-36-1032', '1-887-49-2549', '2550-887-272', '12-24-36-1914',\n",
       "       '96', '12-24-36-1008', '71-100', '12-24-36-1929', '12-24-36-2909',\n",
       "       '12-270-49-610-611', '12-24-36-1085', '12-24-36-1901', '3188',\n",
       "       '24-10-341', '12-24-36-3386', '2361', '1443', '10-1258',\n",
       "       '12-24-36-983', '3430', '3400', '3641', '12-24-36-3013', '71-43',\n",
       "       '12-24-36-155', '12-24-36-3645', '1391', '12-24-36-3647',\n",
       "       '12-24-36-2045', '2773', '12-24-36-1956', '3758', '12-24-36-3152',\n",
       "       '12-24-36-736', '3993', '12-24-36-3401', '12-24-36-515',\n",
       "       '12-24-36-4657', '12-24-36-1822', '1225', '12-24-36-3717',\n",
       "       '12-24-36-1922', '4818', '71-25', '12-24-36-2375', '10-2224',\n",
       "       '12-24-36-1716', '2601', '12-122-123-2219', '12-24-36-4461',\n",
       "       '12-24-36-695', '3865', '12-24-36-2742', '12-24-36-1489',\n",
       "       '12-24-36-5887', '12-24-36-5968', '12-270-49-610', '12-24-36-1317',\n",
       "       '1412', '3777', '6166', '12-24-36-3767', '6533', '12-24-36-1698',\n",
       "       '12-24-36-1418', '12-24-36-1557', '12-24-36-3281', '10-1050',\n",
       "       '12-24-36-1191', '5749', '12-24-36-3765', '12-270-49-610-6075',\n",
       "       '12-24-36-5669', '12-24-36-7470', '12-24-36-7432', '12-24-36-3540',\n",
       "       '12-24-36-3219', '12-24-36-2785', '12-24-36-6691', '12-24-36-8038',\n",
       "       '71-102', '12-24-36-2844', '24-10-419', '24-10-2224',\n",
       "       '12-24-36-54', '12-24-36-8252', '12-24-36-175', '12-24-36-3978',\n",
       "       '12-24-36-1627', '12-24-36-8109', '12-24-36-8931', '12-24-36-225',\n",
       "       '12-24-36-1559', '71-575', '12-24-36-9440', '12-24-36-5929',\n",
       "       '12-24-36-8151', '71-165', '71-192', '12-24-36-4917', '5791',\n",
       "       '4979', '12-24-36-9853', '12-24-36-10214', '12-24-36-10251',\n",
       "       '12-24-36-5494', '12-24-36-10333', '71-51', '71-94',\n",
       "       '12-24-36-1324', '12-24-36-7887', '71-85', '12-24-36-622', '10837',\n",
       "       '71-163', '12-24-36-10352', '12-24-36-3387', '12-24-36-10715',\n",
       "       '12-24-36-11283', '12-24-36-1342', '11486', '1-92-11658',\n",
       "       '12-24-36-4598', '12-24-36-2836', '12-24-36-12021',\n",
       "       '12-24-36-2264', '10133', '18', '71-140', '12-24-36-2136',\n",
       "       '12-24-36-6388', '12-24-36-3536', '13360', '12-24-36-2997',\n",
       "       '12-24-36-1904', '12-24-36-3863', '12-24-36-3820',\n",
       "       '12-24-36-13972', '12-24-36-14461', '12-24-36-5604', '12237',\n",
       "       '12-24-36-593', '12-24-36-1419', '12-24-36-15858', '12-24-36-7000',\n",
       "       '12-24-36-3624', '71-2224', '12-24-36-8102', '12-24-36-18308',\n",
       "       '3934', '12-24-36-17441', '12-24-36-8508', '17971', '12-24-36-185',\n",
       "       '12-24-36-10731', '24-10-1258', '20605', '12-24-36-3150', '71-11',\n",
       "       '12411', '12-24-36-2288', '3360', '9050', '12-270-49-610-17446',\n",
       "       '12-24-36-23919', '12-24-36-4519', '71-166', '12-24-36-25164',\n",
       "       '25017', '12-24-36-21989', '12-24-36-25775', '12-24-36-18962',\n",
       "       '12-24-36-1034', '11264', '28791', '71-70', '12-24-36-14992',\n",
       "       '12-24-36-19612', '12945', '12-24-36-19495', '24-218',\n",
       "       '12-24-36-17719', '12-24-36-24014', '12-24-36-505',\n",
       "       '12-24-36-4194', '12-24-36-28674', '12-24-36-27107',\n",
       "       '12-24-36-31145', '12-24-36-9705', '12-24-36-3591', '71-149',\n",
       "       '71-115', '12-24-36-26968', '1-92-37942', '12-24-36-23904',\n",
       "       '71-588', '71-118', '12-24-36-26383', '1-887-92',\n",
       "       '1-887-92-41632-41633', '71-127', '12-24-36-35183', '71-484',\n",
       "       '12-24-36-21410', '12-24-36-28838', '71-246', '12-24-36-3200',\n",
       "       '71-143', '50425', '12-24-36-58098', '12-24-36-39336',\n",
       "       '12-24-36-84', '42543', '1253', '12-24-36-48986', '12-18-22-61609'],\n",
       "      dtype=object)"
      ]
     },
     "execution_count": 45,
     "metadata": {},
     "output_type": "execute_result"
    }
   ],
   "source": [
    "df['coded_path'].unique()"
   ]
  },
  {
   "cell_type": "code",
   "execution_count": 46,
   "metadata": {
    "pycharm": {
     "name": "#%%\n"
    }
   },
   "outputs": [
    {
     "data": {
      "text/plain": [
       "client_ip              0\n",
       "date_time              0\n",
       "status_code            0\n",
       "response_length        0\n",
       "user_agent             0\n",
       "response_time       1718\n",
       "method                 0\n",
       "path                   0\n",
       "geolocation        96940\n",
       "coded_path             0\n",
       "dtype: int64"
      ]
     },
     "execution_count": 46,
     "metadata": {},
     "output_type": "execute_result"
    }
   ],
   "source": [
    "df.isnull().sum()"
   ]
  },
  {
   "cell_type": "code",
   "execution_count": 1,
   "metadata": {
    "pycharm": {
     "name": "#%%\n"
    }
   },
   "outputs": [],
   "source": [
    "#for i in list(path.keys()):\n",
    " #   if i.startswith('l'):\n",
    "  #      print(i.value)"
   ]
  },
  {
   "cell_type": "code",
   "execution_count": 102,
   "metadata": {
    "pycharm": {
     "name": "#%%\n"
    }
   },
   "outputs": [],
   "source": [
    "df['coded_path'] = df['coded_path'].apply(lambda x:0 if x=='' else x )\n"
   ]
  },
  {
   "cell_type": "code",
   "execution_count": null,
   "metadata": {
    "pycharm": {
     "name": "#%%\n"
    }
   },
   "outputs": [],
   "source": [
    "df.head()"
   ]
  },
  {
   "cell_type": "code",
   "execution_count": 111,
   "metadata": {
    "pycharm": {
     "name": "#%%\n"
    }
   },
   "outputs": [],
   "source": [
    "df.to_csv('Feature_extracted.csv',index=False)"
   ]
  },
  {
   "cell_type": "code",
   "execution_count": 112,
   "metadata": {
    "pycharm": {
     "name": "#%%\n"
    }
   },
   "outputs": [
    {
     "name": "stdout",
     "output_type": "stream",
     "text": [
      "<class 'pandas.core.frame.DataFrame'>\n",
      "RangeIndex: 1260035 entries, 0 to 1260034\n",
      "Data columns (total 12 columns):\n",
      " #   Column           Non-Null Count    Dtype  \n",
      "---  ------           --------------    -----  \n",
      " 0   client_ip        1260035 non-null  object \n",
      " 1   date_time        1260035 non-null  object \n",
      " 2   status_code      1260035 non-null  int64  \n",
      " 3   response_length  1260035 non-null  int64  \n",
      " 4   user_agent       1260035 non-null  object \n",
      " 5   response_time    1258317 non-null  float64\n",
      " 6   method           1260035 non-null  object \n",
      " 7   path             1260035 non-null  object \n",
      " 8   geolocation      1163095 non-null  object \n",
      " 9   last_refer       1208910 non-null  object \n",
      " 10  coded_path       1260035 non-null  object \n",
      " 11  last_page        1208910 non-null  object \n",
      "dtypes: float64(1), int64(2), object(9)\n",
      "memory usage: 115.4+ MB\n"
     ]
    }
   ],
   "source": [
    "df.info()"
   ]
  },
  {
   "cell_type": "code",
   "execution_count": null,
   "metadata": {
    "pycharm": {
     "name": "#%%\n"
    }
   },
   "outputs": [],
   "source": []
  }
 ],
 "metadata": {
  "kernelspec": {
   "display_name": "Python 3",
   "language": "python",
   "name": "python3"
  },
  "language_info": {
   "codemirror_mode": {
    "name": "ipython",
    "version": 3
   },
   "file_extension": ".py",
   "mimetype": "text/x-python",
   "name": "python",
   "nbconvert_exporter": "python",
   "pygments_lexer": "ipython3",
   "version": "3.8.3"
  }
 },
 "nbformat": 4,
 "nbformat_minor": 1
}
