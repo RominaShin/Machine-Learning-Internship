{
 "cells": [
  {
   "cell_type": "markdown",
   "id": "d776b02e",
   "metadata": {},
   "source": [
    "# MNIST Digit Classification¶\n"
   ]
  },
  {
   "cell_type": "markdown",
   "id": "f301d595",
   "metadata": {},
   "source": [
    "In this assignment, we will implement a fully-connected neural network and train it on MNIST dataset. It includes digits (1-9) images and the task is to train a model to get an digit image as input and predict which digit it is correponds to.\n",
    "\n",
    "We will use Keras and TensorFlow as one the core frameworks of deep learning studies."
   ]
  },
  {
   "cell_type": "markdown",
   "id": "ca595de8",
   "metadata": {},
   "source": [
    "## Import Libraries"
   ]
  },
  {
   "cell_type": "code",
   "execution_count": null,
   "id": "11b5af4c",
   "metadata": {},
   "outputs": [],
   "source": [
    "\n",
    "from tensorflow import keras\n",
    "import matplotlib.pyplot as plt\n",
    "import numpy as np"
   ]
  },
  {
   "cell_type": "markdown",
   "id": "6b7ad45f",
   "metadata": {},
   "source": [
    "## Prepare Data"
   ]
  },
  {
   "cell_type": "code",
   "execution_count": null,
   "id": "df726a8c",
   "metadata": {},
   "outputs": [],
   "source": [
    "mnist = keras.datasets.mnist\n",
    "(X_train, y_train), (X_test, y_test) = mnist.load_data()\n",
    "\n",
    "print('TRAIN SHAPE: {}'.format(X_train.shape, y_train.shape))\n",
    "print('TEST SHAPE: {}'.format(X_test.shape, y_test.shape))"
   ]
  },
  {
   "cell_type": "code",
   "execution_count": null,
   "id": "97302843",
   "metadata": {},
   "outputs": [],
   "source": [
    "\n",
    "# plot a sample of the dataset\n",
    "\n",
    "plt.imshow(X_train[10], cmap='gray')\n",
    "print('Label: {}'.format(y_train[10]))"
   ]
  },
  {
   "cell_type": "markdown",
   "id": "0666332e",
   "metadata": {},
   "source": [
    "## Modeling"
   ]
  },
  {
   "cell_type": "code",
   "execution_count": null,
   "id": "5caa298e",
   "metadata": {},
   "outputs": [],
   "source": [
    "# Model architecture\n",
    "model = keras.models.Sequential([\n",
    "    keras.layers.Flatten(input_shape=(28, 28)),\n",
    "    keras.layers.Dense(units=128, activation='relu'),\n",
    "    keras.layers.Dropout(rate=0.2),\n",
    "    keras.layers.Dense(units=10, activation='softmax')                                 \n",
    "])\n",
    "\n",
    "print(model.summary())\n",
    "\n",
    "# Model compilation\n",
    "model.compile(optimizer='adam',\n",
    "              loss='sparse_categorical_crossentropy',\n",
    "              metrics= ['accuracy']\n",
    "              )"
   ]
  },
  {
   "cell_type": "markdown",
   "id": "da84ca58",
   "metadata": {},
   "source": [
    "## Train"
   ]
  },
  {
   "cell_type": "code",
   "execution_count": null,
   "id": "f5acce21",
   "metadata": {},
   "outputs": [],
   "source": [
    "model.fit(X_train, y_train, validation_data=(X_test, y_test), epochs=7, batch_size=32)\n",
    "\n",
    "model.evaluate(X_test, y_test, verbose=2)"
   ]
  },
  {
   "cell_type": "code",
   "execution_count": null,
   "id": "f1b1b8eb",
   "metadata": {},
   "outputs": [],
   "source": [
    "sample, label = X_test[0], y_test[0]\n",
    "predictions = model.predict(np.reshape(sample, [-1, 28, 28]))\n",
    "\n",
    "plt.imshow(sample, cmap='gray')\n",
    "print('Ground truth: {}'.format(y_test[0]))\n",
    "print('Prediction: {}'.format(np.argmax(predictions)))"
   ]
  },
  {
   "cell_type": "code",
   "execution_count": null,
   "id": "66ea0fd3",
   "metadata": {},
   "outputs": [],
   "source": []
  }
 ],
 "metadata": {
  "kernelspec": {
   "display_name": "Python 3",
   "language": "python",
   "name": "python3"
  },
  "language_info": {
   "codemirror_mode": {
    "name": "ipython",
    "version": 3
   },
   "file_extension": ".py",
   "mimetype": "text/x-python",
   "name": "python",
   "nbconvert_exporter": "python",
   "pygments_lexer": "ipython3",
   "version": "3.8.8"
  }
 },
 "nbformat": 4,
 "nbformat_minor": 5
}
